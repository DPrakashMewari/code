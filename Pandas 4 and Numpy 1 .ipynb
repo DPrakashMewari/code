{
 "cells": [
  {
   "cell_type": "code",
   "execution_count": 4,
   "id": "45a0d48c",
   "metadata": {},
   "outputs": [],
   "source": [
    "import pandas as pd "
   ]
  },
  {
   "cell_type": "code",
   "execution_count": 24,
   "id": "05618b43",
   "metadata": {},
   "outputs": [],
   "source": [
    "df= pd.DataFrame({\n",
    "    \"col1\" : [1,2,3],\n",
    "    \"col\" : [\"12\",\"Sw3\",\"ss\"],\n",
    "    \"Prakash\" :\"Pra ss ss\".split()\n",
    "})"
   ]
  },
  {
   "cell_type": "code",
   "execution_count": 25,
   "id": "37774eb9",
   "metadata": {},
   "outputs": [
    {
     "data": {
      "text/html": [
       "<div>\n",
       "<style scoped>\n",
       "    .dataframe tbody tr th:only-of-type {\n",
       "        vertical-align: middle;\n",
       "    }\n",
       "\n",
       "    .dataframe tbody tr th {\n",
       "        vertical-align: top;\n",
       "    }\n",
       "\n",
       "    .dataframe thead th {\n",
       "        text-align: right;\n",
       "    }\n",
       "</style>\n",
       "<table border=\"1\" class=\"dataframe\">\n",
       "  <thead>\n",
       "    <tr style=\"text-align: right;\">\n",
       "      <th></th>\n",
       "      <th>col1</th>\n",
       "      <th>col</th>\n",
       "      <th>Prakash</th>\n",
       "      <th>col5</th>\n",
       "    </tr>\n",
       "  </thead>\n",
       "  <tbody>\n",
       "    <tr>\n",
       "      <th>0</th>\n",
       "      <td>1</td>\n",
       "      <td>12</td>\n",
       "      <td>Pra</td>\n",
       "      <td>1</td>\n",
       "    </tr>\n",
       "    <tr>\n",
       "      <th>1</th>\n",
       "      <td>2</td>\n",
       "      <td>Sw3</td>\n",
       "      <td>ss</td>\n",
       "      <td>4</td>\n",
       "    </tr>\n",
       "    <tr>\n",
       "      <th>2</th>\n",
       "      <td>3</td>\n",
       "      <td>ss</td>\n",
       "      <td>ss</td>\n",
       "      <td>9</td>\n",
       "    </tr>\n",
       "  </tbody>\n",
       "</table>\n",
       "</div>"
      ],
      "text/plain": [
       "   col1  col Prakash  col5\n",
       "0     1   12     Pra     1\n",
       "1     2  Sw3      ss     4\n",
       "2     3   ss      ss     9"
      ]
     },
     "execution_count": 25,
     "metadata": {},
     "output_type": "execute_result"
    }
   ],
   "source": [
    "df.head()\n",
    "\n",
    "\n",
    "df['col5'] = df['col1']**2\n",
    "\n",
    "df"
   ]
  },
  {
   "cell_type": "code",
   "execution_count": 30,
   "id": "55ccfe79",
   "metadata": {},
   "outputs": [
    {
     "data": {
      "text/plain": [
       "0     P\n",
       "1    Ay\n",
       "2    Ay\n",
       "Name: col6, dtype: object"
      ]
     },
     "execution_count": 30,
     "metadata": {},
     "output_type": "execute_result"
    }
   ],
   "source": [
    "df['col6'] = df['Prakash'].str[0]\n",
    "df['col6'].apply(test)"
   ]
  },
  {
   "cell_type": "code",
   "execution_count": 33,
   "id": "86b16b4b",
   "metadata": {},
   "outputs": [],
   "source": [
    "def test(df):\n",
    "    if df != 'Pra':\n",
    "        return 'Ay'\n",
    "    else:\n",
    "        return 'Pra'"
   ]
  },
  {
   "cell_type": "code",
   "execution_count": 31,
   "id": "c56e2766",
   "metadata": {},
   "outputs": [],
   "source": [
    "# Why we are using external function you can try with lambda "
   ]
  },
  {
   "cell_type": "code",
   "execution_count": 36,
   "id": "994be42b",
   "metadata": {},
   "outputs": [],
   "source": [
    "df['Ne'] = df['Prakash'].apply(lambda df : \"Ay\" if df != 'Pra' else 'Pra' )"
   ]
  },
  {
   "cell_type": "code",
   "execution_count": 39,
   "id": "c8929f53",
   "metadata": {},
   "outputs": [
    {
     "data": {
      "text/html": [
       "<div>\n",
       "<style scoped>\n",
       "    .dataframe tbody tr th:only-of-type {\n",
       "        vertical-align: middle;\n",
       "    }\n",
       "\n",
       "    .dataframe tbody tr th {\n",
       "        vertical-align: top;\n",
       "    }\n",
       "\n",
       "    .dataframe thead th {\n",
       "        text-align: right;\n",
       "    }\n",
       "</style>\n",
       "<table border=\"1\" class=\"dataframe\">\n",
       "  <thead>\n",
       "    <tr style=\"text-align: right;\">\n",
       "      <th></th>\n",
       "      <th>col1</th>\n",
       "      <th>col</th>\n",
       "      <th>Prakash</th>\n",
       "      <th>col5</th>\n",
       "      <th>col6</th>\n",
       "      <th>Ne</th>\n",
       "      <th>Length</th>\n",
       "    </tr>\n",
       "  </thead>\n",
       "  <tbody>\n",
       "    <tr>\n",
       "      <th>0</th>\n",
       "      <td>1</td>\n",
       "      <td>12</td>\n",
       "      <td>Pra</td>\n",
       "      <td>1</td>\n",
       "      <td>P</td>\n",
       "      <td>Pra</td>\n",
       "      <td>3</td>\n",
       "    </tr>\n",
       "    <tr>\n",
       "      <th>1</th>\n",
       "      <td>2</td>\n",
       "      <td>Sw3</td>\n",
       "      <td>ss</td>\n",
       "      <td>4</td>\n",
       "      <td>s</td>\n",
       "      <td>Ay</td>\n",
       "      <td>2</td>\n",
       "    </tr>\n",
       "    <tr>\n",
       "      <th>2</th>\n",
       "      <td>3</td>\n",
       "      <td>ss</td>\n",
       "      <td>ss</td>\n",
       "      <td>9</td>\n",
       "      <td>s</td>\n",
       "      <td>Ay</td>\n",
       "      <td>2</td>\n",
       "    </tr>\n",
       "  </tbody>\n",
       "</table>\n",
       "</div>"
      ],
      "text/plain": [
       "   col1  col Prakash  col5 col6   Ne  Length\n",
       "0     1   12     Pra     1    P  Pra       3\n",
       "1     2  Sw3      ss     4    s   Ay       2\n",
       "2     3   ss      ss     9    s   Ay       2"
      ]
     },
     "execution_count": 39,
     "metadata": {},
     "output_type": "execute_result"
    }
   ],
   "source": [
    "df['Length']  = df['Prakash'].apply(len)\n",
    "df"
   ]
  },
  {
   "cell_type": "code",
   "execution_count": 42,
   "id": "fe25bf7e",
   "metadata": {},
   "outputs": [
    {
     "data": {
      "text/html": [
       "<div>\n",
       "<style scoped>\n",
       "    .dataframe tbody tr th:only-of-type {\n",
       "        vertical-align: middle;\n",
       "    }\n",
       "\n",
       "    .dataframe tbody tr th {\n",
       "        vertical-align: top;\n",
       "    }\n",
       "\n",
       "    .dataframe thead th {\n",
       "        text-align: right;\n",
       "    }\n",
       "</style>\n",
       "<table border=\"1\" class=\"dataframe\">\n",
       "  <thead>\n",
       "    <tr style=\"text-align: right;\">\n",
       "      <th></th>\n",
       "      <th>col1</th>\n",
       "      <th>col</th>\n",
       "      <th>Prakash</th>\n",
       "      <th>col5</th>\n",
       "      <th>col6</th>\n",
       "      <th>Ne</th>\n",
       "      <th>Length</th>\n",
       "      <th>log</th>\n",
       "    </tr>\n",
       "  </thead>\n",
       "  <tbody>\n",
       "    <tr>\n",
       "      <th>0</th>\n",
       "      <td>1</td>\n",
       "      <td>12</td>\n",
       "      <td>Pra</td>\n",
       "      <td>1</td>\n",
       "      <td>P</td>\n",
       "      <td>Pra</td>\n",
       "      <td>3</td>\n",
       "      <td>0.000000</td>\n",
       "    </tr>\n",
       "    <tr>\n",
       "      <th>1</th>\n",
       "      <td>2</td>\n",
       "      <td>Sw3</td>\n",
       "      <td>ss</td>\n",
       "      <td>4</td>\n",
       "      <td>s</td>\n",
       "      <td>Ay</td>\n",
       "      <td>2</td>\n",
       "      <td>1.386294</td>\n",
       "    </tr>\n",
       "    <tr>\n",
       "      <th>2</th>\n",
       "      <td>3</td>\n",
       "      <td>ss</td>\n",
       "      <td>ss</td>\n",
       "      <td>9</td>\n",
       "      <td>s</td>\n",
       "      <td>Ay</td>\n",
       "      <td>2</td>\n",
       "      <td>2.197225</td>\n",
       "    </tr>\n",
       "  </tbody>\n",
       "</table>\n",
       "</div>"
      ],
      "text/plain": [
       "   col1  col Prakash  col5 col6   Ne  Length       log\n",
       "0     1   12     Pra     1    P  Pra       3  0.000000\n",
       "1     2  Sw3      ss     4    s   Ay       2  1.386294\n",
       "2     3   ss      ss     9    s   Ay       2  2.197225"
      ]
     },
     "execution_count": 42,
     "metadata": {},
     "output_type": "execute_result"
    }
   ],
   "source": [
    "import math \n",
    "\n",
    "\n",
    "df['log'] = df['col5'].apply(math.log)\n",
    "df"
   ]
  },
  {
   "cell_type": "code",
   "execution_count": 1,
   "id": "e73db7e2",
   "metadata": {},
   "outputs": [],
   "source": [
    "import numpy as np"
   ]
  },
  {
   "cell_type": "code",
   "execution_count": 7,
   "id": "e1f8238c",
   "metadata": {},
   "outputs": [
    {
     "data": {
      "text/plain": [
       "array([  1,   3,   2,  32, 232])"
      ]
     },
     "execution_count": 7,
     "metadata": {},
     "output_type": "execute_result"
    }
   ],
   "source": [
    "# Array equivalent to List \n",
    "\n",
    "l1 = [1,3,2,32,232]\n",
    "np.array(l1)\n"
   ]
  },
  {
   "cell_type": "code",
   "execution_count": 8,
   "id": "e16ffb51",
   "metadata": {},
   "outputs": [
    {
     "data": {
      "text/plain": [
       "numpy.ndarray"
      ]
     },
     "execution_count": 8,
     "metadata": {},
     "output_type": "execute_result"
    }
   ],
   "source": [
    "type(np.array(l1))"
   ]
  },
  {
   "cell_type": "code",
   "execution_count": 14,
   "id": "6edaf03e",
   "metadata": {},
   "outputs": [
    {
     "data": {
      "text/plain": [
       "44.0"
      ]
     },
     "execution_count": 14,
     "metadata": {},
     "output_type": "execute_result"
    }
   ],
   "source": [
    "d1 = np.array([1,2.3,44,42])\n",
    "d1[2]"
   ]
  },
  {
   "cell_type": "code",
   "execution_count": 13,
   "id": "ea817568",
   "metadata": {},
   "outputs": [
    {
     "data": {
      "text/plain": [
       "2"
      ]
     },
     "execution_count": 13,
     "metadata": {},
     "output_type": "execute_result"
    }
   ],
   "source": [
    "d=np.array([[1,2],[1,2]])\n",
    "d[1][1]"
   ]
  },
  {
   "cell_type": "code",
   "execution_count": 25,
   "id": "2a23079b",
   "metadata": {},
   "outputs": [
    {
     "data": {
      "text/plain": [
       "1"
      ]
     },
     "execution_count": 25,
     "metadata": {},
     "output_type": "execute_result"
    }
   ],
   "source": [
    "np.array(l1,ndmin=3)[0][0][0]"
   ]
  },
  {
   "cell_type": "code",
   "execution_count": 26,
   "id": "6225994f",
   "metadata": {},
   "outputs": [
    {
     "data": {
      "text/plain": [
       "array([1, 2, 3, 3])"
      ]
     },
     "execution_count": 26,
     "metadata": {},
     "output_type": "execute_result"
    }
   ],
   "source": [
    "np.asanyarray([1,2,3,3])"
   ]
  },
  {
   "cell_type": "code",
   "execution_count": 27,
   "id": "6890bbcb",
   "metadata": {},
   "outputs": [
    {
     "data": {
      "text/plain": [
       "matrix([[1, 2, 3, 2, 3]])"
      ]
     },
     "execution_count": 27,
     "metadata": {},
     "output_type": "execute_result"
    }
   ],
   "source": [
    "np.mat([1,2,3,2,3]) # 2dim by def"
   ]
  },
  {
   "cell_type": "code",
   "execution_count": 28,
   "id": "72537aa6",
   "metadata": {},
   "outputs": [
    {
     "data": {
      "text/plain": [
       "array([[1, 2, 3, 2]])"
      ]
     },
     "execution_count": 28,
     "metadata": {},
     "output_type": "execute_result"
    }
   ],
   "source": [
    "np.array(np.mat([1,2,3,2]))"
   ]
  },
  {
   "cell_type": "code",
   "execution_count": 30,
   "id": "4cc26369",
   "metadata": {},
   "outputs": [
    {
     "data": {
      "text/plain": [
       "array([[ True, False, False],\n",
       "       [False,  True, False],\n",
       "       [False, False,  True],\n",
       "       [False, False, False]])"
      ]
     },
     "execution_count": 30,
     "metadata": {},
     "output_type": "execute_result"
    }
   ],
   "source": [
    "np.fromfunction(lambda x,y : x == y,(4,3))"
   ]
  },
  {
   "cell_type": "code",
   "execution_count": 37,
   "id": "441c4461",
   "metadata": {},
   "outputs": [
    {
     "data": {
      "text/plain": [
       "array([[[ 0,  0,  0],\n",
       "        [ 0,  0,  0],\n",
       "        [ 0,  0,  0]],\n",
       "\n",
       "       [[ 0,  0,  0],\n",
       "        [ 0,  1,  2],\n",
       "        [ 0,  2,  4]],\n",
       "\n",
       "       [[ 0,  0,  0],\n",
       "        [ 0,  2,  4],\n",
       "        [ 0,  4,  8]],\n",
       "\n",
       "       [[ 0,  0,  0],\n",
       "        [ 0,  3,  6],\n",
       "        [ 0,  6, 12]]])"
      ]
     },
     "execution_count": 37,
     "metadata": {},
     "output_type": "execute_result"
    }
   ],
   "source": [
    "np.fromfunction(lambda x,y,z : x * y * z,(4,3,3),dtype=int)"
   ]
  },
  {
   "cell_type": "code",
   "execution_count": null,
   "id": "2cdd9102",
   "metadata": {},
   "outputs": [],
   "source": [
    "np.array() # Creates a array which is similar to list but array and matrix were mostly used in ai \n",
    "# array can give us dimension thing which was not possible in list \\\n",
    "# Inside we can also provide ndimension = 1,2,3\n",
    "np.array(listthing,ndmin=2)\n",
    "# Accessing is also easy \n",
    "np.array(listthing) # bASED ON DIMENION WE CAN ACCESS SUCH AS \n",
    "np.array(listthing)[0][1]\n",
    "np.asanyarray() # and \n",
    "np.asarray # are child of np.array works the same \n",
    "np.mat() # which is used to create matrix which support 2D\n",
    "np.fromfunction # which will take function and create a array for you"
   ]
  },
  {
   "cell_type": "code",
   "execution_count": 46,
   "id": "50fc5b03",
   "metadata": {},
   "outputs": [
    {
     "data": {
      "text/plain": [
       "array([[[[0, 0, 0],\n",
       "         [0, 0, 0]],\n",
       "\n",
       "        [[0, 0, 0],\n",
       "         [0, 0, 0]],\n",
       "\n",
       "        [[0, 0, 0],\n",
       "         [0, 0, 0]]],\n",
       "\n",
       "\n",
       "       [[[0, 0, 0],\n",
       "         [0, 0, 0]],\n",
       "\n",
       "        [[0, 0, 0],\n",
       "         [0, 1, 2]],\n",
       "\n",
       "        [[0, 0, 0],\n",
       "         [0, 2, 4]]]])"
      ]
     },
     "execution_count": 46,
     "metadata": {},
     "output_type": "execute_result"
    }
   ],
   "source": [
    "np.fromfunction(lambda x,y,z,i : x *y*z * i ,(2,3,2,3),dtype=int) # If i try to convert into matrix it will through a error "
   ]
  },
  {
   "cell_type": "code",
   "execution_count": 59,
   "id": "7c914cc7",
   "metadata": {},
   "outputs": [],
   "source": [
    "A  = np.fromfunction(functionss,(3,4))"
   ]
  },
  {
   "cell_type": "code",
   "execution_count": 47,
   "id": "57060816",
   "metadata": {},
   "outputs": [],
   "source": [
    "def functionss(a,b):\n",
    "    return a *b"
   ]
  },
  {
   "cell_type": "code",
   "execution_count": 49,
   "id": "a0c534f8",
   "metadata": {},
   "outputs": [
    {
     "data": {
      "text/plain": [
       "3"
      ]
     },
     "execution_count": 49,
     "metadata": {},
     "output_type": "execute_result"
    }
   ],
   "source": [
    "a = np.fromfunction(lambda x,y,z : x * y * z,(4,3,3),dtype=int)\n",
    "\n",
    "a.ndim"
   ]
  },
  {
   "cell_type": "code",
   "execution_count": 50,
   "id": "9449d14f",
   "metadata": {},
   "outputs": [
    {
     "data": {
      "text/plain": [
       "36"
      ]
     },
     "execution_count": 50,
     "metadata": {},
     "output_type": "execute_result"
    }
   ],
   "source": [
    "a.size"
   ]
  },
  {
   "cell_type": "code",
   "execution_count": 54,
   "id": "c5dd1514",
   "metadata": {},
   "outputs": [
    {
     "data": {
      "text/plain": [
       "((4, 3, 3), dtype('int32'))"
      ]
     },
     "execution_count": 54,
     "metadata": {},
     "output_type": "execute_result"
    }
   ],
   "source": [
    "a.shape,a.dtype"
   ]
  },
  {
   "cell_type": "code",
   "execution_count": 60,
   "id": "2d9a17ff",
   "metadata": {},
   "outputs": [
    {
     "data": {
      "text/html": [
       "<div>\n",
       "<style scoped>\n",
       "    .dataframe tbody tr th:only-of-type {\n",
       "        vertical-align: middle;\n",
       "    }\n",
       "\n",
       "    .dataframe tbody tr th {\n",
       "        vertical-align: top;\n",
       "    }\n",
       "\n",
       "    .dataframe thead th {\n",
       "        text-align: right;\n",
       "    }\n",
       "</style>\n",
       "<table border=\"1\" class=\"dataframe\">\n",
       "  <thead>\n",
       "    <tr style=\"text-align: right;\">\n",
       "      <th></th>\n",
       "      <th>0</th>\n",
       "      <th>1</th>\n",
       "      <th>2</th>\n",
       "      <th>3</th>\n",
       "    </tr>\n",
       "  </thead>\n",
       "  <tbody>\n",
       "    <tr>\n",
       "      <th>0</th>\n",
       "      <td>0.0</td>\n",
       "      <td>0.0</td>\n",
       "      <td>0.0</td>\n",
       "      <td>0.0</td>\n",
       "    </tr>\n",
       "    <tr>\n",
       "      <th>1</th>\n",
       "      <td>0.0</td>\n",
       "      <td>1.0</td>\n",
       "      <td>2.0</td>\n",
       "      <td>3.0</td>\n",
       "    </tr>\n",
       "    <tr>\n",
       "      <th>2</th>\n",
       "      <td>0.0</td>\n",
       "      <td>2.0</td>\n",
       "      <td>4.0</td>\n",
       "      <td>6.0</td>\n",
       "    </tr>\n",
       "  </tbody>\n",
       "</table>\n",
       "</div>"
      ],
      "text/plain": [
       "     0    1    2    3\n",
       "0  0.0  0.0  0.0  0.0\n",
       "1  0.0  1.0  2.0  3.0\n",
       "2  0.0  2.0  4.0  6.0"
      ]
     },
     "execution_count": 60,
     "metadata": {},
     "output_type": "execute_result"
    }
   ],
   "source": [
    "import pandas as pd \n",
    "pd.DataFrame(A)"
   ]
  },
  {
   "cell_type": "code",
   "execution_count": 67,
   "id": "e93b3e8d",
   "metadata": {},
   "outputs": [
    {
     "data": {
      "text/plain": [
       "array([[0.40047279, 0.57941844, 0.93463748],\n",
       "       [0.5834349 , 0.11077027, 0.34520586],\n",
       "       [0.08781254, 0.82225971, 0.94781266]])"
      ]
     },
     "execution_count": 67,
     "metadata": {},
     "output_type": "execute_result"
    }
   ],
   "source": [
    "np.random.rand(3,3)"
   ]
  },
  {
   "cell_type": "code",
   "execution_count": 69,
   "id": "5d58adfc",
   "metadata": {},
   "outputs": [
    {
     "data": {
      "text/plain": [
       "array([[ 0.91568011,  0.51748158, -0.97956615],\n",
       "       [ 2.27972171, -1.07517198, -1.56555936]])"
      ]
     },
     "execution_count": 69,
     "metadata": {},
     "output_type": "execute_result"
    }
   ],
   "source": [
    "np.random.randn(2,3)"
   ]
  },
  {
   "cell_type": "code",
   "execution_count": 89,
   "id": "79cbe721",
   "metadata": {},
   "outputs": [
    {
     "data": {
      "text/plain": [
       "29"
      ]
     },
     "execution_count": 89,
     "metadata": {},
     "output_type": "execute_result"
    }
   ],
   "source": [
    "np.random.randint(3,33)"
   ]
  },
  {
   "cell_type": "code",
   "execution_count": 96,
   "id": "af1bba8d",
   "metadata": {},
   "outputs": [
    {
     "name": "stdout",
     "output_type": "stream",
     "text": [
      "[[[0 0 0]\n",
      "  [0 0 0]]\n",
      "\n",
      " [[0 0 0]\n",
      "  [0 1 2]]\n",
      "\n",
      " [[0 0 0]\n",
      "  [0 2 4]]]\n",
      "(3, 2, 3)\n"
     ]
    }
   ],
   "source": [
    "val = np.fromfunction(lambda x,y,z : x * y * z ,(3,2,3),dtype=int) # this we will try to reshape and convert into dataframe \n",
    "val\n",
    "print(val)\n",
    "print(val.shape)"
   ]
  },
  {
   "cell_type": "code",
   "execution_count": 100,
   "id": "5b0414dc",
   "metadata": {},
   "outputs": [
    {
     "data": {
      "text/html": [
       "<div>\n",
       "<style scoped>\n",
       "    .dataframe tbody tr th:only-of-type {\n",
       "        vertical-align: middle;\n",
       "    }\n",
       "\n",
       "    .dataframe tbody tr th {\n",
       "        vertical-align: top;\n",
       "    }\n",
       "\n",
       "    .dataframe thead th {\n",
       "        text-align: right;\n",
       "    }\n",
       "</style>\n",
       "<table border=\"1\" class=\"dataframe\">\n",
       "  <thead>\n",
       "    <tr style=\"text-align: right;\">\n",
       "      <th></th>\n",
       "      <th>0</th>\n",
       "      <th>1</th>\n",
       "      <th>2</th>\n",
       "      <th>3</th>\n",
       "      <th>4</th>\n",
       "      <th>5</th>\n",
       "    </tr>\n",
       "  </thead>\n",
       "  <tbody>\n",
       "    <tr>\n",
       "      <th>0</th>\n",
       "      <td>0</td>\n",
       "      <td>0</td>\n",
       "      <td>0</td>\n",
       "      <td>0</td>\n",
       "      <td>0</td>\n",
       "      <td>0</td>\n",
       "    </tr>\n",
       "    <tr>\n",
       "      <th>1</th>\n",
       "      <td>0</td>\n",
       "      <td>0</td>\n",
       "      <td>0</td>\n",
       "      <td>0</td>\n",
       "      <td>1</td>\n",
       "      <td>2</td>\n",
       "    </tr>\n",
       "    <tr>\n",
       "      <th>2</th>\n",
       "      <td>0</td>\n",
       "      <td>0</td>\n",
       "      <td>0</td>\n",
       "      <td>0</td>\n",
       "      <td>2</td>\n",
       "      <td>4</td>\n",
       "    </tr>\n",
       "  </tbody>\n",
       "</table>\n",
       "</div>"
      ],
      "text/plain": [
       "   0  1  2  3  4  5\n",
       "0  0  0  0  0  0  0\n",
       "1  0  0  0  0  1  2\n",
       "2  0  0  0  0  2  4"
      ]
     },
     "execution_count": 100,
     "metadata": {},
     "output_type": "execute_result"
    }
   ],
   "source": [
    "df = pd.DataFrame(val.reshape(3,6))\n",
    "df.head()"
   ]
  },
  {
   "cell_type": "code",
   "execution_count": 107,
   "id": "f39abe85",
   "metadata": {},
   "outputs": [
    {
     "data": {
      "text/plain": [
       "array([[0, 0, 0, 0, 0, 0, 0, 0, 0],\n",
       "       [0, 1, 2, 0, 0, 0, 0, 2, 4]])"
      ]
     },
     "execution_count": 107,
     "metadata": {},
     "output_type": "execute_result"
    }
   ],
   "source": [
    "val.reshape(3,-1) # -1 rest of all the element \n",
    "val.reshape(2,-1)"
   ]
  },
  {
   "cell_type": "code",
   "execution_count": 108,
   "id": "1678df9a",
   "metadata": {},
   "outputs": [
    {
     "data": {
      "text/plain": [
       "[1, 2, 3, 4, 5, 6, 7, 8, 9]"
      ]
     },
     "execution_count": 108,
     "metadata": {},
     "output_type": "execute_result"
    }
   ],
   "source": [
    "# Range similar function \n",
    "\n",
    "list(range(1,10))"
   ]
  },
  {
   "cell_type": "code",
   "execution_count": 111,
   "id": "c8e70cde",
   "metadata": {},
   "outputs": [
    {
     "data": {
      "text/plain": [
       "array([1. , 1.3, 1.6, 1.9, 2.2, 2.5, 2.8, 3.1, 3.4, 3.7, 4. , 4.3, 4.6,\n",
       "       4.9, 5.2, 5.5, 5.8, 6.1, 6.4, 6.7, 7. , 7.3, 7.6, 7.9, 8.2, 8.5,\n",
       "       8.8, 9.1, 9.4, 9.7])"
      ]
     },
     "execution_count": 111,
     "metadata": {},
     "output_type": "execute_result"
    }
   ],
   "source": [
    "np.arange(1,10,.3) # with jump of float value range not support jump in float "
   ]
  },
  {
   "cell_type": "code",
   "execution_count": 113,
   "id": "bf4894fa",
   "metadata": {},
   "outputs": [
    {
     "data": {
      "text/plain": [
       "array([1., 2., 3.])"
      ]
     },
     "execution_count": 113,
     "metadata": {},
     "output_type": "execute_result"
    }
   ],
   "source": [
    "np.arange(1,4.0)[0:]\n"
   ]
  },
  {
   "cell_type": "code",
   "execution_count": 120,
   "id": "7c3ec467",
   "metadata": {},
   "outputs": [
    {
     "data": {
      "text/plain": [
       "array([0.57758275, 0.69695246, 0.62847901, 0.58212324, 0.70714002,\n",
       "       0.63847139])"
      ]
     },
     "execution_count": 120,
     "metadata": {},
     "output_type": "execute_result"
    }
   ],
   "source": [
    "x = np.random.rand(4,4)\n",
    "\n",
    "x[x > .5]"
   ]
  },
  {
   "cell_type": "code",
   "execution_count": 139,
   "id": "da39d094",
   "metadata": {},
   "outputs": [
    {
     "name": "stdout",
     "output_type": "stream",
     "text": [
      "[[0.57758275 0.39886972 0.69695246 0.62847901]\n",
      " [0.58212324 0.32614921 0.70714002 0.45704441]\n",
      " [0.21540798 0.02183979 0.35778091 0.23535681]\n",
      " [0.42027554 0.63847139 0.20837404 0.10226108]]\n"
     ]
    },
    {
     "data": {
      "text/plain": [
       "array([0.70714002, 0.35778091])"
      ]
     },
     "execution_count": 139,
     "metadata": {},
     "output_type": "execute_result"
    }
   ],
   "source": [
    "print(x)\n",
    "x[[1,2],[2]]"
   ]
  },
  {
   "cell_type": "code",
   "execution_count": 149,
   "id": "6d9abbfe",
   "metadata": {},
   "outputs": [
    {
     "name": "stdout",
     "output_type": "stream",
     "text": [
      "[[0.55604104 0.70092001 0.68754848 0.37384464 0.77763614]\n",
      " [0.33390786 0.7623128  0.30923241 0.75785646 0.77475526]\n",
      " [0.01275027 0.63668743 0.5514343  0.05590829 0.56024138]\n",
      " [0.86597026 0.08065318 0.34598947 0.12092885 0.25238659]]\n"
     ]
    },
    {
     "data": {
      "text/plain": [
       "array([[0.33390786, 0.7623128 , 0.30923241],\n",
       "       [0.01275027, 0.63668743, 0.5514343 ],\n",
       "       [0.86597026, 0.08065318, 0.34598947]])"
      ]
     },
     "execution_count": 149,
     "metadata": {},
     "output_type": "execute_result"
    }
   ],
   "source": [
    "x = np.random.rand(4,5)\n",
    "print(x)\n",
    "x[1:4,0:3]\n"
   ]
  },
  {
   "cell_type": "code",
   "execution_count": 156,
   "id": "cd17631b",
   "metadata": {},
   "outputs": [
    {
     "data": {
      "text/plain": [
       "array([[0.33390786, 0.7623128 , 0.30923241],\n",
       "       [0.01275027, 0.63668743, 0.5514343 ],\n",
       "       [0.86597026, 0.08065318, 0.34598947]])"
      ]
     },
     "execution_count": 156,
     "metadata": {},
     "output_type": "execute_result"
    }
   ],
   "source": [
    "#exact same thing like this also ''\n",
    "\n",
    "x[1:4,[0,1,2]]"
   ]
  },
  {
   "cell_type": "code",
   "execution_count": 161,
   "id": "982d9c60",
   "metadata": {},
   "outputs": [
    {
     "data": {
      "text/plain": [
       "array([[2.3333    , 0.7623128 , 0.30923241],\n",
       "       [0.01275027, 0.63668743, 0.5514343 ],\n",
       "       [0.86597026, 0.08065318, 0.34598947]])"
      ]
     },
     "execution_count": 161,
     "metadata": {},
     "output_type": "execute_result"
    }
   ],
   "source": [
    "a1 = x[1:4,[0,1,2]]\n",
    "\n",
    "# replacing any element\n",
    "a1[0][0] = 2.3333\n",
    "\n",
    "a1 # overide any kind of element"
   ]
  },
  {
   "cell_type": "code",
   "execution_count": 169,
   "id": "31e16e74",
   "metadata": {},
   "outputs": [
    {
     "name": "stdout",
     "output_type": "stream",
     "text": [
      "[[1 2]\n",
      " [2 4]]\n",
      "[[2 1]\n",
      " [4 3]]\n"
     ]
    },
    {
     "data": {
      "text/plain": [
       "array([[ 2,  2],\n",
       "       [ 8, 12]])"
      ]
     },
     "execution_count": 169,
     "metadata": {},
     "output_type": "execute_result"
    }
   ],
   "source": [
    "x = np.array([[1,2],[2,4]])\n",
    "y = np.array([[2,1],[4,3]])\n",
    "\n",
    "print(x)\n",
    "print(y)\n",
    "x * y # element by multiplication\n"
   ]
  },
  {
   "cell_type": "code",
   "execution_count": 175,
   "id": "243818c1",
   "metadata": {},
   "outputs": [
    {
     "name": "stdout",
     "output_type": "stream",
     "text": [
      "[[1 2]\n",
      " [2 4]]\n",
      "[[2 1]\n",
      " [4 3]]\n"
     ]
    },
    {
     "data": {
      "text/plain": [
       "matrix([[10,  7],\n",
       "        [20, 14]])"
      ]
     },
     "execution_count": 175,
     "metadata": {},
     "output_type": "execute_result"
    }
   ],
   "source": [
    "x = np.mat([[1,2],[2,4]])\n",
    "y = np.mat([[2,1],[4,3]])\n",
    "print(x)\n",
    "print(y)\n",
    "x @ y  # same result  @ matrix multiplication"
   ]
  },
  {
   "cell_type": "code",
   "execution_count": 178,
   "id": "3d829bc4",
   "metadata": {},
   "outputs": [
    {
     "data": {
      "text/plain": [
       "14"
      ]
     },
     "execution_count": 178,
     "metadata": {},
     "output_type": "execute_result"
    }
   ],
   "source": [
    "2 * 1 + 4 * 3"
   ]
  },
  {
   "cell_type": "code",
   "execution_count": 174,
   "id": "86f9af81",
   "metadata": {},
   "outputs": [
    {
     "name": "stderr",
     "output_type": "stream",
     "text": [
      "C:\\Users\\Admin\\AppData\\Local\\Temp\\ipykernel_14804\\2621257534.py:1: RuntimeWarning: divide by zero encountered in divide\n",
      "  val = x @ y/0\n"
     ]
    },
    {
     "data": {
      "text/plain": [
       "matrix([[inf, inf],\n",
       "        [inf, inf]])"
      ]
     },
     "execution_count": 174,
     "metadata": {},
     "output_type": "execute_result"
    }
   ],
   "source": [
    "val = x @ y/0\n",
    "# it will not through error but it will give inf\n",
    "val  "
   ]
  }
 ],
 "metadata": {
  "kernelspec": {
   "display_name": "Python 3 (ipykernel)",
   "language": "python",
   "name": "python3"
  },
  "language_info": {
   "codemirror_mode": {
    "name": "ipython",
    "version": 3
   },
   "file_extension": ".py",
   "mimetype": "text/x-python",
   "name": "python",
   "nbconvert_exporter": "python",
   "pygments_lexer": "ipython3",
   "version": "3.11.1"
  }
 },
 "nbformat": 4,
 "nbformat_minor": 5
}
