{
 "cells": [
  {
   "cell_type": "code",
   "execution_count": 7,
   "id": "dbd2d819",
   "metadata": {},
   "outputs": [
    {
     "name": "stdout",
     "output_type": "stream",
     "text": [
      "[[ True False False]\n",
      " [False  True False]]\n"
     ]
    },
    {
     "data": {
      "text/plain": [
       "array([[1, 0, 0],\n",
       "       [0, 1, 0]])"
      ]
     },
     "execution_count": 7,
     "metadata": {},
     "output_type": "execute_result"
    }
   ],
   "source": [
    "import numpy as np \n",
    "\n",
    "\n",
    "x = np.fromfunction(lambda x,y : x == y, (2,3))\n",
    "print(x)\n",
    "x= x * 1\n",
    "x"
   ]
  },
  {
   "cell_type": "code",
   "execution_count": 8,
   "id": "5465d95c",
   "metadata": {},
   "outputs": [
    {
     "data": {
      "text/plain": [
       "array([ 1,  1, 23,  1,  3, 12])"
      ]
     },
     "execution_count": 8,
     "metadata": {},
     "output_type": "execute_result"
    }
   ],
   "source": [
    "l1 = [1,1,23,1,3,12]\n",
    "\n",
    "np.asarray(l1)"
   ]
  },
  {
   "cell_type": "code",
   "execution_count": 18,
   "id": "13ee329f",
   "metadata": {},
   "outputs": [
    {
     "data": {
      "text/plain": [
       "array([[[0., 0., 0.],\n",
       "        [0., 0., 0.]],\n",
       "\n",
       "       [[0., 0., 0.],\n",
       "        [0., 0., 0.]],\n",
       "\n",
       "       [[0., 0., 0.],\n",
       "        [0., 0., 0.]]])"
      ]
     },
     "execution_count": 18,
     "metadata": {},
     "output_type": "execute_result"
    }
   ],
   "source": [
    "np.zeros((3,2,3))  # 3d "
   ]
  },
  {
   "cell_type": "code",
   "execution_count": 20,
   "id": "c9add083",
   "metadata": {},
   "outputs": [
    {
     "data": {
      "text/plain": [
       "array([10., 10., 10., 10., 10.])"
      ]
     },
     "execution_count": 20,
     "metadata": {},
     "output_type": "execute_result"
    }
   ],
   "source": [
    "np.ones((2,2)) # 2d \n",
    "10 *np.ones(5) # 1D"
   ]
  },
  {
   "cell_type": "code",
   "execution_count": 21,
   "id": "20848d41",
   "metadata": {},
   "outputs": [
    {
     "data": {
      "text/plain": [
       "array([0., 0., 0., 0.])"
      ]
     },
     "execution_count": 21,
     "metadata": {},
     "output_type": "execute_result"
    }
   ],
   "source": [
    "3 * np.zeros(4)"
   ]
  },
  {
   "cell_type": "code",
   "execution_count": 31,
   "id": "f534e877",
   "metadata": {},
   "outputs": [
    {
     "data": {
      "text/plain": [
       "array([[0.00000000e+000, 0.00000000e+000, 0.00000000e+000,\n",
       "        0.00000000e+000],\n",
       "       [0.00000000e+000, 8.39911598e-321, 1.24610723e-306,\n",
       "        1.29061142e-306]])"
      ]
     },
     "execution_count": 31,
     "metadata": {},
     "output_type": "execute_result"
    }
   ],
   "source": [
    "np.empty((2,4))"
   ]
  },
  {
   "cell_type": "code",
   "execution_count": 35,
   "id": "1cf1aa31",
   "metadata": {},
   "outputs": [
    {
     "data": {
      "text/plain": [
       "array([ 1. ,  5.5, 10. ])"
      ]
     },
     "execution_count": 35,
     "metadata": {},
     "output_type": "execute_result"
    }
   ],
   "source": [
    "np.linspace(1,10,3) # 3 no between this numbers  # 1d array but we can convert into 2d "
   ]
  },
  {
   "cell_type": "code",
   "execution_count": 44,
   "id": "7795f713",
   "metadata": {},
   "outputs": [
    {
     "data": {
      "text/plain": [
       "array([[1. , 1.4, 1.8, 2.2, 2.6],\n",
       "       [3. , 3.4, 3.8, 4.2, 4.6]])"
      ]
     },
     "execution_count": 44,
     "metadata": {},
     "output_type": "execute_result"
    }
   ],
   "source": [
    "np.linspace(1,5,10,endpoint=False).reshape(2,5) # 2d now  endpoint 6 will not come"
   ]
  },
  {
   "cell_type": "code",
   "execution_count": 45,
   "id": "9d34ab09",
   "metadata": {},
   "outputs": [
    {
     "data": {
      "text/plain": [
       "(array([1. , 1.4, 1.8, 2.2, 2.6, 3. , 3.4, 3.8, 4.2, 4.6]), 0.4)"
      ]
     },
     "execution_count": 45,
     "metadata": {},
     "output_type": "execute_result"
    }
   ],
   "source": [
    "np.linspace(1,5,10,endpoint=False,retstep=True)"
   ]
  },
  {
   "cell_type": "code",
   "execution_count": 49,
   "id": "4097964e",
   "metadata": {},
   "outputs": [
    {
     "data": {
      "text/plain": [
       "array([   2.        ,    9.51365692,   45.254834  ,  215.2694823 ,\n",
       "       1024.        ])"
      ]
     },
     "execution_count": 49,
     "metadata": {},
     "output_type": "execute_result"
    }
   ],
   "source": [
    "np.logspace(1,10,5,base=2)"
   ]
  },
  {
   "cell_type": "code",
   "execution_count": 51,
   "id": "7237cd36",
   "metadata": {},
   "outputs": [
    {
     "data": {
      "text/plain": [
       "array([[ 0,  1,  2,  3,  4],\n",
       "       [ 5,  6,  7,  8,  9],\n",
       "       [10, 11, 12, 13, 14]])"
      ]
     },
     "execution_count": 51,
     "metadata": {},
     "output_type": "execute_result"
    }
   ],
   "source": [
    "np.arange(15).reshape(3,5)"
   ]
  },
  {
   "cell_type": "code",
   "execution_count": 65,
   "id": "fd1470be",
   "metadata": {},
   "outputs": [
    {
     "data": {
      "text/plain": [
       "36"
      ]
     },
     "execution_count": 65,
     "metadata": {},
     "output_type": "execute_result"
    }
   ],
   "source": [
    "3 * 6 * 2"
   ]
  },
  {
   "cell_type": "code",
   "execution_count": 71,
   "id": "985844aa",
   "metadata": {},
   "outputs": [],
   "source": [
    "a = np.arange(4,20).reshape(2,4,2)"
   ]
  },
  {
   "cell_type": "code",
   "execution_count": 72,
   "id": "efad9b4a",
   "metadata": {},
   "outputs": [
    {
     "data": {
      "text/plain": [
       "array([[10, 11],\n",
       "       [18, 19]])"
      ]
     },
     "execution_count": 72,
     "metadata": {},
     "output_type": "execute_result"
    }
   ],
   "source": [
    "a.max(axis=1)"
   ]
  },
  {
   "cell_type": "code",
   "execution_count": 94,
   "id": "60cfaf1e",
   "metadata": {},
   "outputs": [
    {
     "name": "stdout",
     "output_type": "stream",
     "text": [
      "[[1 2 3]\n",
      " [4 5 6]\n",
      " [7 8 9]]\n",
      "\n",
      "[3 6 9]\n",
      "\n",
      "[7 8 9]\n"
     ]
    }
   ],
   "source": [
    "b = np.arange(1,10).reshape(3,3)\n",
    "print(b)\n",
    "print()\n",
    "print(b.max(axis=1))\n",
    "print()\n",
    "print(b.max(axis=0))"
   ]
  },
  {
   "cell_type": "code",
   "execution_count": 118,
   "id": "76a5ff5d",
   "metadata": {},
   "outputs": [
    {
     "name": "stdout",
     "output_type": "stream",
     "text": [
      "[[ 0  1  2  3  4]\n",
      " [ 5  6  7  8  9]\n",
      " [10 11 12 13 14]]\n"
     ]
    },
    {
     "data": {
      "text/plain": [
       "array([[ 1,  3,  6,  9, 11],\n",
       "       [ 6,  8, 11, 14, 16],\n",
       "       [11, 13, 16, 19, 21]])"
      ]
     },
     "execution_count": 118,
     "metadata": {},
     "output_type": "execute_result"
    }
   ],
   "source": [
    "c = np.arange(15).reshape(3,5)\n",
    "\n",
    "# Row wise Broadcasting like this \n",
    "\n",
    "d = np.array([1,2,4,6,7])\n",
    "print(c)\n",
    "e = d +c\n",
    "e"
   ]
  },
  {
   "cell_type": "code",
   "execution_count": 135,
   "id": "829df792",
   "metadata": {},
   "outputs": [
    {
     "data": {
      "text/plain": [
       "array([[1],\n",
       "       [2],\n",
       "       [4]])"
      ]
     },
     "execution_count": 135,
     "metadata": {},
     "output_type": "execute_result"
    }
   ],
   "source": [
    "d = np.array([1,2,4,])\n",
    "\n",
    "d=d.reshape(1,-1)\n",
    "d1 = d.T \n",
    "d1"
   ]
  },
  {
   "cell_type": "code",
   "execution_count": 136,
   "id": "8e5a9811",
   "metadata": {},
   "outputs": [
    {
     "name": "stdout",
     "output_type": "stream",
     "text": [
      "[[ 0  1  2  3  4]\n",
      " [ 5  6  7  8  9]\n",
      " [10 11 12 13 14]]\n"
     ]
    },
    {
     "data": {
      "text/plain": [
       "array([[ 1,  2,  3,  4,  5],\n",
       "       [ 7,  8,  9, 10, 11],\n",
       "       [14, 15, 16, 17, 18]])"
      ]
     },
     "execution_count": 136,
     "metadata": {},
     "output_type": "execute_result"
    }
   ],
   "source": [
    "print(c)\n",
    "c+d1"
   ]
  },
  {
   "cell_type": "code",
   "execution_count": 137,
   "id": "409ab351",
   "metadata": {},
   "outputs": [
    {
     "data": {
      "text/plain": [
       "array([[1.        , 1.41421356, 2.        ]])"
      ]
     },
     "execution_count": 137,
     "metadata": {},
     "output_type": "execute_result"
    }
   ],
   "source": [
    "np.sqrt(d)"
   ]
  },
  {
   "cell_type": "code",
   "execution_count": 138,
   "id": "34f7f264",
   "metadata": {},
   "outputs": [
    {
     "data": {
      "text/plain": [
       "array([[0.        , 0.69314718, 1.38629436]])"
      ]
     },
     "execution_count": 138,
     "metadata": {},
     "output_type": "execute_result"
    }
   ],
   "source": [
    "np.log(d)"
   ]
  },
  {
   "cell_type": "code",
   "execution_count": 139,
   "id": "b34392ee",
   "metadata": {},
   "outputs": [
    {
     "data": {
      "text/plain": [
       "array([[0.        , 0.30103   , 0.60205999]])"
      ]
     },
     "execution_count": 139,
     "metadata": {},
     "output_type": "execute_result"
    }
   ],
   "source": [
    "np.log10(d)"
   ]
  },
  {
   "cell_type": "code",
   "execution_count": 146,
   "id": "2593f812",
   "metadata": {},
   "outputs": [
    {
     "name": "stdout",
     "output_type": "stream",
     "text": [
      "\n"
     ]
    },
    {
     "data": {
      "text/plain": [
       "array([100,  23,   2,   3,   2,   3])"
      ]
     },
     "execution_count": 146,
     "metadata": {},
     "output_type": "execute_result"
    }
   ],
   "source": [
    "# Deep Copy and Shallow Copy \n",
    "\n",
    "d = np.array([1,23,2,3,2,3])\n",
    "a = d   #  Shallow Copy\n",
    "\n",
    "d1 = d.copy()   # Deep Copy\n",
    "print(\"\")\n",
    "\n",
    "d[0] = 100\n",
    "a"
   ]
  },
  {
   "cell_type": "code",
   "execution_count": 149,
   "id": "dd76539c",
   "metadata": {},
   "outputs": [
    {
     "data": {
      "text/plain": [
       "2331784851120"
      ]
     },
     "execution_count": 149,
     "metadata": {},
     "output_type": "execute_result"
    }
   ],
   "source": [
    "id(a)  # it will return the identidy of obj"
   ]
  },
  {
   "cell_type": "code",
   "execution_count": null,
   "id": "c6904016",
   "metadata": {},
   "outputs": [],
   "source": [
    "#\n",
    "np.zeros   # to create zero array\n",
    "np.ones  # to create one array # we can give a shape also\n",
    "np.empty  # to create a random array\n",
    "np.logspace  #to create log base result based on some range \n",
    "np.linspace # to create based on specified number range and what number you expect ex : np.linspace(1,4,2)\n",
    "np.arange(number).reshape # to give a specified 2d shape result \n",
    "\n",
    "\n",
    "# We can do addition and multiplication based \n",
    "# remind all must have same shape and size and also see the 1d and 2d Thing \n",
    "np.log()\n",
    "np.sqrt()\n",
    "np.log()\n"
   ]
  }
 ],
 "metadata": {
  "kernelspec": {
   "display_name": "Python 3 (ipykernel)",
   "language": "python",
   "name": "python3"
  },
  "language_info": {
   "codemirror_mode": {
    "name": "ipython",
    "version": 3
   },
   "file_extension": ".py",
   "mimetype": "text/x-python",
   "name": "python",
   "nbconvert_exporter": "python",
   "pygments_lexer": "ipython3",
   "version": "3.11.1"
  }
 },
 "nbformat": 4,
 "nbformat_minor": 5
}
