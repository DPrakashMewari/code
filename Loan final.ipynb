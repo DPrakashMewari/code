{
 "cells": [
  {
   "cell_type": "markdown",
   "metadata": {},
   "source": [
    "Buisness Problem: The bank wants to predict which companies will default on their loans based on their financial information.\n"
   ]
  },
  {
   "cell_type": "markdown",
   "metadata": {},
   "source": [
    "Goal:\n",
    "To predict whether the customer will fall under default or not"
   ]
  },
  {
   "cell_type": "code",
   "execution_count": 2,
   "metadata": {
    "scrolled": true
   },
   "outputs": [],
   "source": [
    "#Importing library\n",
    "import pandas as pd \n",
    "import numpy as np \n",
    "import seaborn as sns\n",
    "import matplotlib.pyplot as plt\n",
    "\n",
    "from datetime import datetime\n"
   ]
  },
  {
   "cell_type": "code",
   "execution_count": 3,
   "metadata": {
    "scrolled": true
   },
   "outputs": [],
   "source": [
    "#Read the file \n",
    "df_loan = pd.read_csv(\"Bank_final.csv\",low_memory=False)"
   ]
  },
  {
   "cell_type": "code",
   "execution_count": 4,
   "metadata": {
    "scrolled": true
   },
   "outputs": [
    {
     "data": {
      "text/plain": [
       "(149999, 27)"
      ]
     },
     "execution_count": 4,
     "metadata": {},
     "output_type": "execute_result"
    }
   ],
   "source": [
    "#seeing the dimension of the data\n",
    "df_loan.shape"
   ]
  },
  {
   "cell_type": "code",
   "execution_count": 5,
   "metadata": {
    "scrolled": true
   },
   "outputs": [
    {
     "data": {
      "text/plain": [
       "Index(['Name', 'City', 'State', 'Zip', 'Bank', 'BankState', 'CCSC',\n",
       "       'ApprovalDate', 'ApprovalFY', 'Term', 'NoEmp', 'NewExist', 'CreateJob',\n",
       "       'RetainedJob', 'FranchiseCode', 'UrbanRural', 'RevLineCr', 'LowDoc',\n",
       "       'ChgOffDate', 'DisbursementDate', 'DisbursementGross', 'BalanceGross',\n",
       "       'MIS_Status', 'ChgOffPrinGr', 'GrAppv', 'SBA_Appv', 'Default'],\n",
       "      dtype='object')"
      ]
     },
     "execution_count": 5,
     "metadata": {},
     "output_type": "execute_result"
    }
   ],
   "source": [
    "# seeing the name of the variable in the dataset\n",
    "df_loan.columns"
   ]
  },
  {
   "cell_type": "code",
   "execution_count": 6,
   "metadata": {
    "scrolled": true
   },
   "outputs": [
    {
     "data": {
      "text/html": [
       "<div>\n",
       "<style scoped>\n",
       "    .dataframe tbody tr th:only-of-type {\n",
       "        vertical-align: middle;\n",
       "    }\n",
       "\n",
       "    .dataframe tbody tr th {\n",
       "        vertical-align: top;\n",
       "    }\n",
       "\n",
       "    .dataframe thead th {\n",
       "        text-align: right;\n",
       "    }\n",
       "</style>\n",
       "<table border=\"1\" class=\"dataframe\">\n",
       "  <thead>\n",
       "    <tr style=\"text-align: right;\">\n",
       "      <th></th>\n",
       "      <th>Name</th>\n",
       "      <th>City</th>\n",
       "      <th>State</th>\n",
       "      <th>Zip</th>\n",
       "      <th>Bank</th>\n",
       "      <th>BankState</th>\n",
       "      <th>CCSC</th>\n",
       "      <th>ApprovalDate</th>\n",
       "      <th>ApprovalFY</th>\n",
       "      <th>Term</th>\n",
       "      <th>...</th>\n",
       "      <th>LowDoc</th>\n",
       "      <th>ChgOffDate</th>\n",
       "      <th>DisbursementDate</th>\n",
       "      <th>DisbursementGross</th>\n",
       "      <th>BalanceGross</th>\n",
       "      <th>MIS_Status</th>\n",
       "      <th>ChgOffPrinGr</th>\n",
       "      <th>GrAppv</th>\n",
       "      <th>SBA_Appv</th>\n",
       "      <th>Default</th>\n",
       "    </tr>\n",
       "  </thead>\n",
       "  <tbody>\n",
       "    <tr>\n",
       "      <th>0</th>\n",
       "      <td>ABC HOBBYCRAFT</td>\n",
       "      <td>EVANSVILLE</td>\n",
       "      <td>IN</td>\n",
       "      <td>47711</td>\n",
       "      <td>FIFTH THIRD BANK</td>\n",
       "      <td>OH</td>\n",
       "      <td>451120</td>\n",
       "      <td>28-Feb-97</td>\n",
       "      <td>1997</td>\n",
       "      <td>84</td>\n",
       "      <td>...</td>\n",
       "      <td>Y</td>\n",
       "      <td>NaN</td>\n",
       "      <td>28-Feb-99</td>\n",
       "      <td>$60,000.00</td>\n",
       "      <td>$0.00</td>\n",
       "      <td>P I F</td>\n",
       "      <td>$0.00</td>\n",
       "      <td>$60,000.00</td>\n",
       "      <td>$48,000.00</td>\n",
       "      <td>0</td>\n",
       "    </tr>\n",
       "    <tr>\n",
       "      <th>1</th>\n",
       "      <td>LANDMARK BAR &amp; GRILLE (THE)</td>\n",
       "      <td>NEW PARIS</td>\n",
       "      <td>IN</td>\n",
       "      <td>46526</td>\n",
       "      <td>1ST SOURCE BANK</td>\n",
       "      <td>IN</td>\n",
       "      <td>722410</td>\n",
       "      <td>28-Feb-97</td>\n",
       "      <td>1997</td>\n",
       "      <td>60</td>\n",
       "      <td>...</td>\n",
       "      <td>Y</td>\n",
       "      <td>NaN</td>\n",
       "      <td>31-May-97</td>\n",
       "      <td>$40,000.00</td>\n",
       "      <td>$0.00</td>\n",
       "      <td>P I F</td>\n",
       "      <td>$0.00</td>\n",
       "      <td>$40,000.00</td>\n",
       "      <td>$32,000.00</td>\n",
       "      <td>0</td>\n",
       "    </tr>\n",
       "    <tr>\n",
       "      <th>2</th>\n",
       "      <td>WHITLOCK DDS, TODD M.</td>\n",
       "      <td>BLOOMINGTON</td>\n",
       "      <td>IN</td>\n",
       "      <td>47401</td>\n",
       "      <td>GRANT COUNTY STATE BANK</td>\n",
       "      <td>IN</td>\n",
       "      <td>621210</td>\n",
       "      <td>28-Feb-97</td>\n",
       "      <td>1997</td>\n",
       "      <td>180</td>\n",
       "      <td>...</td>\n",
       "      <td>N</td>\n",
       "      <td>NaN</td>\n",
       "      <td>31-Dec-97</td>\n",
       "      <td>$287,000.00</td>\n",
       "      <td>$0.00</td>\n",
       "      <td>P I F</td>\n",
       "      <td>$0.00</td>\n",
       "      <td>$287,000.00</td>\n",
       "      <td>$215,250.00</td>\n",
       "      <td>0</td>\n",
       "    </tr>\n",
       "    <tr>\n",
       "      <th>3</th>\n",
       "      <td>BIG BUCKS PAWN &amp; JEWELRY, LLC</td>\n",
       "      <td>BROKEN ARROW</td>\n",
       "      <td>OK</td>\n",
       "      <td>74012</td>\n",
       "      <td>1ST NATL BK &amp; TR CO OF BROKEN</td>\n",
       "      <td>OK</td>\n",
       "      <td>0</td>\n",
       "      <td>28-Feb-97</td>\n",
       "      <td>1997</td>\n",
       "      <td>60</td>\n",
       "      <td>...</td>\n",
       "      <td>Y</td>\n",
       "      <td>NaN</td>\n",
       "      <td>30-Jun-97</td>\n",
       "      <td>$35,000.00</td>\n",
       "      <td>$0.00</td>\n",
       "      <td>P I F</td>\n",
       "      <td>$0.00</td>\n",
       "      <td>$35,000.00</td>\n",
       "      <td>$28,000.00</td>\n",
       "      <td>0</td>\n",
       "    </tr>\n",
       "    <tr>\n",
       "      <th>4</th>\n",
       "      <td>ANASTASIA CONFECTIONS, INC.</td>\n",
       "      <td>ORLANDO</td>\n",
       "      <td>FL</td>\n",
       "      <td>32801</td>\n",
       "      <td>FLORIDA BUS. DEVEL CORP</td>\n",
       "      <td>FL</td>\n",
       "      <td>0</td>\n",
       "      <td>28-Feb-97</td>\n",
       "      <td>1997</td>\n",
       "      <td>240</td>\n",
       "      <td>...</td>\n",
       "      <td>N</td>\n",
       "      <td>NaN</td>\n",
       "      <td>14-May-97</td>\n",
       "      <td>$229,000.00</td>\n",
       "      <td>$0.00</td>\n",
       "      <td>P I F</td>\n",
       "      <td>$0.00</td>\n",
       "      <td>$229,000.00</td>\n",
       "      <td>$229,000.00</td>\n",
       "      <td>0</td>\n",
       "    </tr>\n",
       "  </tbody>\n",
       "</table>\n",
       "<p>5 rows × 27 columns</p>\n",
       "</div>"
      ],
      "text/plain": [
       "                            Name          City State    Zip  \\\n",
       "0                 ABC HOBBYCRAFT    EVANSVILLE    IN  47711   \n",
       "1    LANDMARK BAR & GRILLE (THE)     NEW PARIS    IN  46526   \n",
       "2          WHITLOCK DDS, TODD M.   BLOOMINGTON    IN  47401   \n",
       "3  BIG BUCKS PAWN & JEWELRY, LLC  BROKEN ARROW    OK  74012   \n",
       "4    ANASTASIA CONFECTIONS, INC.       ORLANDO    FL  32801   \n",
       "\n",
       "                            Bank BankState    CCSC ApprovalDate  ApprovalFY  \\\n",
       "0               FIFTH THIRD BANK        OH  451120    28-Feb-97        1997   \n",
       "1                1ST SOURCE BANK        IN  722410    28-Feb-97        1997   \n",
       "2        GRANT COUNTY STATE BANK        IN  621210    28-Feb-97        1997   \n",
       "3  1ST NATL BK & TR CO OF BROKEN        OK       0    28-Feb-97        1997   \n",
       "4        FLORIDA BUS. DEVEL CORP        FL       0    28-Feb-97        1997   \n",
       "\n",
       "   Term  ...  LowDoc  ChgOffDate  DisbursementDate  DisbursementGross  \\\n",
       "0    84  ...       Y         NaN         28-Feb-99        $60,000.00    \n",
       "1    60  ...       Y         NaN         31-May-97        $40,000.00    \n",
       "2   180  ...       N         NaN         31-Dec-97       $287,000.00    \n",
       "3    60  ...       Y         NaN         30-Jun-97        $35,000.00    \n",
       "4   240  ...       N         NaN         14-May-97       $229,000.00    \n",
       "\n",
       "   BalanceGross  MIS_Status ChgOffPrinGr        GrAppv      SBA_Appv Default  \n",
       "0        $0.00        P I F       $0.00    $60,000.00    $48,000.00        0  \n",
       "1        $0.00        P I F       $0.00    $40,000.00    $32,000.00        0  \n",
       "2        $0.00        P I F       $0.00   $287,000.00   $215,250.00        0  \n",
       "3        $0.00        P I F       $0.00    $35,000.00    $28,000.00        0  \n",
       "4        $0.00        P I F       $0.00   $229,000.00   $229,000.00        0  \n",
       "\n",
       "[5 rows x 27 columns]"
      ]
     },
     "execution_count": 6,
     "metadata": {},
     "output_type": "execute_result"
    }
   ],
   "source": [
    "df_loan.head()"
   ]
  },
  {
   "cell_type": "code",
   "execution_count": 7,
   "metadata": {
    "scrolled": true
   },
   "outputs": [
    {
     "data": {
      "text/plain": [
       "Name                 object\n",
       "City                 object\n",
       "State                object\n",
       "Zip                   int64\n",
       "Bank                 object\n",
       "BankState            object\n",
       "CCSC                  int64\n",
       "ApprovalDate         object\n",
       "ApprovalFY            int64\n",
       "Term                  int64\n",
       "NoEmp                 int64\n",
       "NewExist              int64\n",
       "CreateJob             int64\n",
       "RetainedJob           int64\n",
       "FranchiseCode         int64\n",
       "UrbanRural            int64\n",
       "RevLineCr            object\n",
       "LowDoc               object\n",
       "ChgOffDate           object\n",
       "DisbursementDate     object\n",
       "DisbursementGross    object\n",
       "BalanceGross         object\n",
       "MIS_Status           object\n",
       "ChgOffPrinGr         object\n",
       "GrAppv               object\n",
       "SBA_Appv             object\n",
       "Default               int64\n",
       "dtype: object"
      ]
     },
     "execution_count": 7,
     "metadata": {},
     "output_type": "execute_result"
    }
   ],
   "source": [
    "# variable identification\n",
    "df_loan.dtypes"
   ]
  },
  {
   "cell_type": "code",
   "execution_count": 8,
   "metadata": {
    "scrolled": true
   },
   "outputs": [
    {
     "data": {
      "text/html": [
       "<div>\n",
       "<style scoped>\n",
       "    .dataframe tbody tr th:only-of-type {\n",
       "        vertical-align: middle;\n",
       "    }\n",
       "\n",
       "    .dataframe tbody tr th {\n",
       "        vertical-align: top;\n",
       "    }\n",
       "\n",
       "    .dataframe thead th {\n",
       "        text-align: right;\n",
       "    }\n",
       "</style>\n",
       "<table border=\"1\" class=\"dataframe\">\n",
       "  <thead>\n",
       "    <tr style=\"text-align: right;\">\n",
       "      <th></th>\n",
       "      <th>Zip</th>\n",
       "      <th>CCSC</th>\n",
       "      <th>ApprovalFY</th>\n",
       "      <th>Term</th>\n",
       "      <th>NoEmp</th>\n",
       "      <th>NewExist</th>\n",
       "      <th>CreateJob</th>\n",
       "      <th>RetainedJob</th>\n",
       "      <th>FranchiseCode</th>\n",
       "      <th>UrbanRural</th>\n",
       "      <th>Default</th>\n",
       "    </tr>\n",
       "  </thead>\n",
       "  <tbody>\n",
       "    <tr>\n",
       "      <th>count</th>\n",
       "      <td>149999.000000</td>\n",
       "      <td>149999.000000</td>\n",
       "      <td>149999.000000</td>\n",
       "      <td>149999.000000</td>\n",
       "      <td>149999.000000</td>\n",
       "      <td>149999.000000</td>\n",
       "      <td>149999.000000</td>\n",
       "      <td>149999.000000</td>\n",
       "      <td>149999.000000</td>\n",
       "      <td>149999.000000</td>\n",
       "      <td>149999.000000</td>\n",
       "    </tr>\n",
       "    <tr>\n",
       "      <th>mean</th>\n",
       "      <td>49849.046527</td>\n",
       "      <td>401567.535270</td>\n",
       "      <td>2002.302889</td>\n",
       "      <td>93.010887</td>\n",
       "      <td>9.313749</td>\n",
       "      <td>1.319535</td>\n",
       "      <td>1.278455</td>\n",
       "      <td>3.685918</td>\n",
       "      <td>1655.999787</td>\n",
       "      <td>0.767905</td>\n",
       "      <td>0.334189</td>\n",
       "    </tr>\n",
       "    <tr>\n",
       "      <th>std</th>\n",
       "      <td>31159.635854</td>\n",
       "      <td>256946.069805</td>\n",
       "      <td>5.212507</td>\n",
       "      <td>69.306154</td>\n",
       "      <td>78.956632</td>\n",
       "      <td>0.468125</td>\n",
       "      <td>10.958749</td>\n",
       "      <td>27.679464</td>\n",
       "      <td>9956.791183</td>\n",
       "      <td>0.633091</td>\n",
       "      <td>0.471708</td>\n",
       "    </tr>\n",
       "    <tr>\n",
       "      <th>min</th>\n",
       "      <td>0.000000</td>\n",
       "      <td>0.000000</td>\n",
       "      <td>1962.000000</td>\n",
       "      <td>0.000000</td>\n",
       "      <td>0.000000</td>\n",
       "      <td>0.000000</td>\n",
       "      <td>0.000000</td>\n",
       "      <td>0.000000</td>\n",
       "      <td>0.000000</td>\n",
       "      <td>0.000000</td>\n",
       "      <td>0.000000</td>\n",
       "    </tr>\n",
       "    <tr>\n",
       "      <th>25%</th>\n",
       "      <td>20854.000000</td>\n",
       "      <td>236118.000000</td>\n",
       "      <td>1998.000000</td>\n",
       "      <td>57.000000</td>\n",
       "      <td>2.000000</td>\n",
       "      <td>1.000000</td>\n",
       "      <td>0.000000</td>\n",
       "      <td>0.000000</td>\n",
       "      <td>0.000000</td>\n",
       "      <td>0.000000</td>\n",
       "      <td>0.000000</td>\n",
       "    </tr>\n",
       "    <tr>\n",
       "      <th>50%</th>\n",
       "      <td>48053.000000</td>\n",
       "      <td>447110.000000</td>\n",
       "      <td>2005.000000</td>\n",
       "      <td>84.000000</td>\n",
       "      <td>4.000000</td>\n",
       "      <td>1.000000</td>\n",
       "      <td>0.000000</td>\n",
       "      <td>1.000000</td>\n",
       "      <td>1.000000</td>\n",
       "      <td>1.000000</td>\n",
       "      <td>0.000000</td>\n",
       "    </tr>\n",
       "    <tr>\n",
       "      <th>75%</th>\n",
       "      <td>80003.000000</td>\n",
       "      <td>561612.000000</td>\n",
       "      <td>2006.000000</td>\n",
       "      <td>84.000000</td>\n",
       "      <td>8.000000</td>\n",
       "      <td>2.000000</td>\n",
       "      <td>0.000000</td>\n",
       "      <td>4.000000</td>\n",
       "      <td>1.000000</td>\n",
       "      <td>1.000000</td>\n",
       "      <td>1.000000</td>\n",
       "    </tr>\n",
       "    <tr>\n",
       "      <th>max</th>\n",
       "      <td>99999.000000</td>\n",
       "      <td>928120.000000</td>\n",
       "      <td>2007.000000</td>\n",
       "      <td>480.000000</td>\n",
       "      <td>9999.000000</td>\n",
       "      <td>2.000000</td>\n",
       "      <td>3000.000000</td>\n",
       "      <td>9500.000000</td>\n",
       "      <td>91999.000000</td>\n",
       "      <td>2.000000</td>\n",
       "      <td>1.000000</td>\n",
       "    </tr>\n",
       "  </tbody>\n",
       "</table>\n",
       "</div>"
      ],
      "text/plain": [
       "                 Zip           CCSC     ApprovalFY           Term  \\\n",
       "count  149999.000000  149999.000000  149999.000000  149999.000000   \n",
       "mean    49849.046527  401567.535270    2002.302889      93.010887   \n",
       "std     31159.635854  256946.069805       5.212507      69.306154   \n",
       "min         0.000000       0.000000    1962.000000       0.000000   \n",
       "25%     20854.000000  236118.000000    1998.000000      57.000000   \n",
       "50%     48053.000000  447110.000000    2005.000000      84.000000   \n",
       "75%     80003.000000  561612.000000    2006.000000      84.000000   \n",
       "max     99999.000000  928120.000000    2007.000000     480.000000   \n",
       "\n",
       "               NoEmp       NewExist      CreateJob    RetainedJob  \\\n",
       "count  149999.000000  149999.000000  149999.000000  149999.000000   \n",
       "mean        9.313749       1.319535       1.278455       3.685918   \n",
       "std        78.956632       0.468125      10.958749      27.679464   \n",
       "min         0.000000       0.000000       0.000000       0.000000   \n",
       "25%         2.000000       1.000000       0.000000       0.000000   \n",
       "50%         4.000000       1.000000       0.000000       1.000000   \n",
       "75%         8.000000       2.000000       0.000000       4.000000   \n",
       "max      9999.000000       2.000000    3000.000000    9500.000000   \n",
       "\n",
       "       FranchiseCode     UrbanRural        Default  \n",
       "count  149999.000000  149999.000000  149999.000000  \n",
       "mean     1655.999787       0.767905       0.334189  \n",
       "std      9956.791183       0.633091       0.471708  \n",
       "min         0.000000       0.000000       0.000000  \n",
       "25%         0.000000       0.000000       0.000000  \n",
       "50%         1.000000       1.000000       0.000000  \n",
       "75%         1.000000       1.000000       1.000000  \n",
       "max     91999.000000       2.000000       1.000000  "
      ]
     },
     "execution_count": 8,
     "metadata": {},
     "output_type": "execute_result"
    }
   ],
   "source": [
    "# Now Perform Bivariate analysis on continous variable\n",
    "\n",
    "# using describe function on the continous variables\n",
    "df_loan.describe()"
   ]
  },
  {
   "cell_type": "code",
   "execution_count": 9,
   "metadata": {
    "scrolled": true
   },
   "outputs": [
    {
     "data": {
      "text/plain": [
       "<matplotlib.axes._subplots.AxesSubplot at 0x2126ed25128>"
      ]
     },
     "execution_count": 9,
     "metadata": {},
     "output_type": "execute_result"
    },
    {
     "data": {
      "image/png": "[encoded data removed]",
      "text/plain": [
       "<Figure size 432x288 with 1 Axes>"
      ]
     },
     "metadata": {
      "needs_background": "light"
     },
     "output_type": "display_data"
    }
   ],
   "source": [
    "# plotting a histogram \n",
    "\n",
    "df_loan['Term'].plot.hist()"
   ]
  },
  {
   "cell_type": "code",
   "execution_count": 10,
   "metadata": {
    "scrolled": true
   },
   "outputs": [
    {
     "data": {
      "text/plain": [
       "<matplotlib.axes._subplots.AxesSubplot at 0x21263327dd8>"
      ]
     },
     "execution_count": 10,
     "metadata": {},
     "output_type": "execute_result"
    },
    {
     "data": {
      "image/png": "[encoded data removed]",
      "text/plain": [
       "<Figure size 432x288 with 1 Axes>"
      ]
     },
     "metadata": {
      "needs_background": "light"
     },
     "output_type": "display_data"
    }
   ],
   "source": [
    "# plotting a box plot \n",
    "\n",
    "df_loan['Term'].plot.box()  "
   ]
  },
  {
   "cell_type": "code",
   "execution_count": 11,
   "metadata": {
    "scrolled": true
   },
   "outputs": [
    {
     "data": {
      "text/plain": [
       "<matplotlib.axes._subplots.AxesSubplot at 0x212634bbdd8>"
      ]
     },
     "execution_count": 11,
     "metadata": {},
     "output_type": "execute_result"
    },
    {
     "data": {
      "image/png": "[encoded data removed]",
      "text/plain": [
       "<Figure size 432x288 with 1 Axes>"
      ]
     },
     "metadata": {
      "needs_background": "light"
     },
     "output_type": "display_data"
    }
   ],
   "source": [
    "df_loan['NoEmp'].plot.hist(bins=2)"
   ]
  },
  {
   "cell_type": "code",
   "execution_count": 12,
   "metadata": {
    "scrolled": true
   },
   "outputs": [
    {
     "data": {
      "text/plain": [
       "<matplotlib.axes._subplots.AxesSubplot at 0x212633cf1d0>"
      ]
     },
     "execution_count": 12,
     "metadata": {},
     "output_type": "execute_result"
    },
    {
     "data": {
      "image/png": "[encoded data removed]",
      "text/plain": [
       "<Figure size 432x288 with 1 Axes>"
      ]
     },
     "metadata": {
      "needs_background": "light"
     },
     "output_type": "display_data"
    }
   ],
   "source": [
    "df_loan['NoEmp'].plot.box()"
   ]
  },
  {
   "cell_type": "code",
   "execution_count": 13,
   "metadata": {
    "scrolled": true
   },
   "outputs": [
    {
     "data": {
      "text/plain": [
       "<matplotlib.axes._subplots.AxesSubplot at 0x21263419978>"
      ]
     },
     "execution_count": 13,
     "metadata": {},
     "output_type": "execute_result"
    },
    {
     "data": {
      "image/png": "[encoded data removed]",
      "text/plain": [
       "<Figure size 432x288 with 1 Axes>"
      ]
     },
     "metadata": {
      "needs_background": "light"
     },
     "output_type": "display_data"
    }
   ],
   "source": [
    "df_loan['NewExist'].plot.hist()"
   ]
  },
  {
   "cell_type": "code",
   "execution_count": 14,
   "metadata": {
    "scrolled": true
   },
   "outputs": [
    {
     "data": {
      "text/plain": [
       "<matplotlib.axes._subplots.AxesSubplot at 0x212633b4898>"
      ]
     },
     "execution_count": 14,
     "metadata": {},
     "output_type": "execute_result"
    },
    {
     "data": {
      "image/png": "[encoded data removed]",
      "text/plain": [
       "<Figure size 432x288 with 1 Axes>"
      ]
     },
     "metadata": {
      "needs_background": "light"
     },
     "output_type": "display_data"
    }
   ],
   "source": [
    "df_loan['CreateJob'].plot.hist()"
   ]
  },
  {
   "cell_type": "code",
   "execution_count": 15,
   "metadata": {
    "scrolled": true
   },
   "outputs": [
    {
     "data": {
      "text/plain": [
       "<matplotlib.axes._subplots.AxesSubplot at 0x212647674e0>"
      ]
     },
     "execution_count": 15,
     "metadata": {},
     "output_type": "execute_result"
    },
    {
     "data": {
      "image/png": "[encoded data removed]",
      "text/plain": [
       "<Figure size 432x288 with 1 Axes>"
      ]
     },
     "metadata": {
      "needs_background": "light"
     },
     "output_type": "display_data"
    }
   ],
   "source": [
    "df_loan['UrbanRural'].plot.hist()"
   ]
  },
  {
   "cell_type": "code",
   "execution_count": 16,
   "metadata": {
    "scrolled": true
   },
   "outputs": [
    {
     "data": {
      "text/plain": [
       "<matplotlib.axes._subplots.AxesSubplot at 0x212647f72e8>"
      ]
     },
     "execution_count": 16,
     "metadata": {},
     "output_type": "execute_result"
    },
    {
     "data": {
      "image/png": "[encoded data removed]",
      "text/plain": [
       "<Figure size 432x288 with 1 Axes>"
      ]
     },
     "metadata": {
      "needs_background": "light"
     },
     "output_type": "display_data"
    }
   ],
   "source": [
    "df_loan['Default'].plot.hist()"
   ]
  },
  {
   "cell_type": "code",
   "execution_count": 17,
   "metadata": {
    "scrolled": true
   },
   "outputs": [],
   "source": [
    "# performing bivarite analysis on Discrete variables\n",
    "\n",
    "#I create a function that help me to identify variales\n",
    "def column_analysis(x,df = df_loan): #print count for columns that only has few uniques\n",
    "    print(df[x].value_counts(),\"\\n\",df[x].value_counts()/len(df[x]))\n"
   ]
  },
  {
   "cell_type": "code",
   "execution_count": null,
   "metadata": {
    "scrolled": true
   },
   "outputs": [],
   "source": []
  },
  {
   "cell_type": "code",
   "execution_count": 18,
   "metadata": {
    "scrolled": false
   },
   "outputs": [
    {
     "name": "stdout",
     "output_type": "stream",
     "text": [
      "SUBWAY                            78\n",
      "SCHLOTZSKY'S DELI                 39\n",
      "QUIZNO'S CLASSIC SUBS             37\n",
      "DOMINO'S PIZZA                    36\n",
      "DAIRY QUEEN                       32\n",
      "CICI'S PIZZA                      31\n",
      "DUNKIN DONUTS                     29\n",
      "WEST TEXAS LEE CO INC             29\n",
      "DAYS INN                          27\n",
      "MAIL BOXES ETC.                   27\n",
      "SUPER 8 MOTEL                     25\n",
      "MAACO AUTO PAINTING & BODYWORK    25\n",
      "FANTASTIC SAMS                    25\n",
      "MATCO TOOLS                       25\n",
      "QUIZNO'S                          24\n",
      "COMPUTER RENAISSANCE              24\n",
      "COLD STONE CREAMERY               23\n",
      "GREAT CLIPS                       22\n",
      "MAIL BOXES ETC                    21\n",
      "MAIL BOXES, ETC.                  20\n",
      "COMFORT INN                       19\n",
      "PLAY IT AGAIN SPORTS              19\n",
      "Meathead Movers, Inc.             16\n",
      "HOLIDAY INN EXPRESS               15\n",
      "MINUTEMAN PRESS                   15\n",
      "QUIZNOS                           15\n",
      "UNIFORMS FOR AMERICA              15\n",
      "LEARNING EXPRESS                  14\n",
      "SUPER 8                           13\n",
      "SYLVAN LEARNING CENTER            13\n",
      "                                  ..\n",
      "PISHION TRADING CORP. DBA AGNO     1\n",
      "Main Street Car Wash               1\n",
      "The Wayfarers, LLC                 1\n",
      "Feed Granola Co LLC                1\n",
      "DINGERVILLE USA                    1\n",
      "BASI                               1\n",
      "Runde Engineering Inc              1\n",
      "AMERIGROUP LOAN CENTERS INC        1\n",
      "CENTURY DISCOUNT OFFICE SUPPLY     1\n",
      "DAVID A. AYER DBA AYER AUTO BO     1\n",
      "ISABELLE'S TRUCKING                1\n",
      "EASTERN DISTRIBUTERS               1\n",
      "GARNER & CHANNELL, L.L.C.          1\n",
      "CHAMP CITY, MCCARTY TEXACO,        1\n",
      "CLEAR SIGNALS INC                  1\n",
      "Mark L. Martinez dba Mark's Pa     1\n",
      "Happy Hearts Child Development     1\n",
      "Pho Rowland Vietnamese Restaur     1\n",
      "Kidz On The Go, Inc.               1\n",
      "Sharper Interiors, LLC dba Mod     1\n",
      "MMMC BUILDERS LLC                  1\n",
      "ELEGANT BRIDE AND FORMAL WEAR      1\n",
      "Rational Films LLC                 1\n",
      "PROFESSIONAL MANAGEMENT ASSOCI     1\n",
      "ROCKINGHAM ATHLETIC CLUB LLC       1\n",
      "JANG SOO GARDEN                    1\n",
      "Elite Gymnastics and Cheer         1\n",
      "EAST LONGMEADOW DRYWALL            1\n",
      "FERNANDO LEON, D.D.S.              1\n",
      "FALLGUARD OF THE TRIANGLE, INC     1\n",
      "Name: Name, Length: 140883, dtype: int64 \n",
      " SUBWAY                            0.000520\n",
      "SCHLOTZSKY'S DELI                 0.000260\n",
      "QUIZNO'S CLASSIC SUBS             0.000247\n",
      "DOMINO'S PIZZA                    0.000240\n",
      "DAIRY QUEEN                       0.000213\n",
      "CICI'S PIZZA                      0.000207\n",
      "DUNKIN DONUTS                     0.000193\n",
      "WEST TEXAS LEE CO INC             0.000193\n",
      "DAYS INN                          0.000180\n",
      "MAIL BOXES ETC.                   0.000180\n",
      "SUPER 8 MOTEL                     0.000167\n",
      "MAACO AUTO PAINTING & BODYWORK    0.000167\n",
      "FANTASTIC SAMS                    0.000167\n",
      "MATCO TOOLS                       0.000167\n",
      "QUIZNO'S                          0.000160\n",
      "COMPUTER RENAISSANCE              0.000160\n",
      "COLD STONE CREAMERY               0.000153\n",
      "GREAT CLIPS                       0.000147\n",
      "MAIL BOXES ETC                    0.000140\n",
      "MAIL BOXES, ETC.                  0.000133\n",
      "COMFORT INN                       0.000127\n",
      "PLAY IT AGAIN SPORTS              0.000127\n",
      "Meathead Movers, Inc.             0.000107\n",
      "HOLIDAY INN EXPRESS               0.000100\n",
      "MINUTEMAN PRESS                   0.000100\n",
      "QUIZNOS                           0.000100\n",
      "UNIFORMS FOR AMERICA              0.000100\n",
      "LEARNING EXPRESS                  0.000093\n",
      "SUPER 8                           0.000087\n",
      "SYLVAN LEARNING CENTER            0.000087\n",
      "                                    ...   \n",
      "PISHION TRADING CORP. DBA AGNO    0.000007\n",
      "Main Street Car Wash              0.000007\n",
      "The Wayfarers, LLC                0.000007\n",
      "Feed Granola Co LLC               0.000007\n",
      "DINGERVILLE USA                   0.000007\n",
      "BASI                              0.000007\n",
      "Runde Engineering Inc             0.000007\n",
      "AMERIGROUP LOAN CENTERS INC       0.000007\n",
      "CENTURY DISCOUNT OFFICE SUPPLY    0.000007\n",
      "DAVID A. AYER DBA AYER AUTO BO    0.000007\n",
      "ISABELLE'S TRUCKING               0.000007\n",
      "EASTERN DISTRIBUTERS              0.000007\n",
      "GARNER & CHANNELL, L.L.C.         0.000007\n",
      "CHAMP CITY, MCCARTY TEXACO,       0.000007\n",
      "CLEAR SIGNALS INC                 0.000007\n",
      "Mark L. Martinez dba Mark's Pa    0.000007\n",
      "Happy Hearts Child Development    0.000007\n",
      "Pho Rowland Vietnamese Restaur    0.000007\n",
      "Kidz On The Go, Inc.              0.000007\n",
      "Sharper Interiors, LLC dba Mod    0.000007\n",
      "MMMC BUILDERS LLC                 0.000007\n",
      "ELEGANT BRIDE AND FORMAL WEAR     0.000007\n",
      "Rational Films LLC                0.000007\n",
      "PROFESSIONAL MANAGEMENT ASSOCI    0.000007\n",
      "ROCKINGHAM ATHLETIC CLUB LLC      0.000007\n",
      "JANG SOO GARDEN                   0.000007\n",
      "Elite Gymnastics and Cheer        0.000007\n",
      "EAST LONGMEADOW DRYWALL           0.000007\n",
      "FERNANDO LEON, D.D.S.             0.000007\n",
      "FALLGUARD OF THE TRIANGLE, INC    0.000007\n",
      "Name: Name, Length: 140883, dtype: float64\n"
     ]
    }
   ],
   "source": [
    "column_analysis('Name')"
   ]
  },
  {
   "cell_type": "code",
   "execution_count": 19,
   "metadata": {
    "scrolled": true
   },
   "outputs": [
    {
     "name": "stdout",
     "output_type": "stream",
     "text": [
      "N    71611\n",
      "Y    49881\n",
      "0    23659\n",
      "T     4819\n",
      "1        3\n",
      "`        2\n",
      ",        1\n",
      "Name: RevLineCr, dtype: int64 \n",
      " N    0.477410\n",
      "Y    0.332542\n",
      "0    0.157728\n",
      "T    0.032127\n",
      "1    0.000020\n",
      "`    0.000013\n",
      ",    0.000007\n",
      "Name: RevLineCr, dtype: float64\n"
     ]
    }
   ],
   "source": [
    "column_analysis('RevLineCr')"
   ]
  },
  {
   "cell_type": "code",
   "execution_count": 20,
   "metadata": {
    "scrolled": true
   },
   "outputs": [
    {
     "name": "stdout",
     "output_type": "stream",
     "text": [
      "N    137871\n",
      "Y     12044\n",
      "C        83\n",
      "1         1\n",
      "Name: LowDoc, dtype: int64 \n",
      " N    0.919146\n",
      "Y    0.080294\n",
      "C    0.000553\n",
      "1    0.000007\n",
      "Name: LowDoc, dtype: float64\n"
     ]
    }
   ],
   "source": [
    "column_analysis('LowDoc')"
   ]
  },
  {
   "cell_type": "code",
   "execution_count": 21,
   "metadata": {
    "scrolled": true
   },
   "outputs": [
    {
     "name": "stdout",
     "output_type": "stream",
     "text": [
      "P I F     110123\n",
      "CHGOFF     39008\n",
      "Name: MIS_Status, dtype: int64 \n",
      " P I F     0.734158\n",
      "CHGOFF    0.260055\n",
      "Name: MIS_Status, dtype: float64\n"
     ]
    }
   ],
   "source": [
    "column_analysis('MIS_Status')"
   ]
  },
  {
   "cell_type": "code",
   "execution_count": 22,
   "metadata": {
    "scrolled": true
   },
   "outputs": [
    {
     "data": {
      "text/plain": [
       "<matplotlib.axes._subplots.AxesSubplot at 0x212642f2208>"
      ]
     },
     "execution_count": 22,
     "metadata": {},
     "output_type": "execute_result"
    },
    {
     "data": {
      "image/png": "[encoded data removed]",
      "text/plain": [
       "<Figure size 432x288 with 1 Axes>"
      ]
     },
     "metadata": {
      "needs_background": "light"
     },
     "output_type": "display_data"
    }
   ],
   "source": [
    "# Create a bar plot for frequencies\n",
    "df_loan['RevLineCr'].value_counts().plot.bar()"
   ]
  },
  {
   "cell_type": "code",
   "execution_count": 23,
   "metadata": {
    "scrolled": true
   },
   "outputs": [
    {
     "data": {
      "text/plain": [
       "<matplotlib.axes._subplots.AxesSubplot at 0x21264385c18>"
      ]
     },
     "execution_count": 23,
     "metadata": {},
     "output_type": "execute_result"
    },
    {
     "data": {
      "image/png": "[encoded data removed]",
      "text/plain": [
       "<Figure size 432x288 with 1 Axes>"
      ]
     },
     "metadata": {
      "needs_background": "light"
     },
     "output_type": "display_data"
    }
   ],
   "source": [
    "df_loan['LowDoc'].value_counts().plot.bar()"
   ]
  },
  {
   "cell_type": "code",
   "execution_count": 24,
   "metadata": {
    "scrolled": false
   },
   "outputs": [
    {
     "data": {
      "text/plain": [
       "<matplotlib.axes._subplots.AxesSubplot at 0x2126440bc50>"
      ]
     },
     "execution_count": 24,
     "metadata": {},
     "output_type": "execute_result"
    },
    {
     "data": {
      "image/png": "[encoded data removed]",
      "text/plain": [
       "<Figure size 432x288 with 1 Axes>"
      ]
     },
     "metadata": {
      "needs_background": "light"
     },
     "output_type": "display_data"
    }
   ],
   "source": [
    "(df_loan['MIS_Status'].value_counts()/len(df_loan['MIS_Status'])).plot.bar()"
   ]
  },
  {
   "cell_type": "code",
   "execution_count": 25,
   "metadata": {
    "scrolled": true
   },
   "outputs": [],
   "source": [
    "# Continous - Continous Bivaruate analysis:"
   ]
  },
  {
   "cell_type": "code",
   "execution_count": 26,
   "metadata": {
    "scrolled": true
   },
   "outputs": [
    {
     "data": {
      "text/plain": [
       "<matplotlib.axes._subplots.AxesSubplot at 0x21264e41780>"
      ]
     },
     "execution_count": 26,
     "metadata": {},
     "output_type": "execute_result"
    },
    {
     "data": {
      "image/png": "[encoded data removed]",
      "text/plain": [
       "<Figure size 432x288 with 1 Axes>"
      ]
     },
     "metadata": {
      "needs_background": "light"
     },
     "output_type": "display_data"
    }
   ],
   "source": [
    "df_loan.plot.scatter('Term','Default')"
   ]
  },
  {
   "cell_type": "code",
   "execution_count": 27,
   "metadata": {
    "scrolled": false
   },
   "outputs": [
    {
     "data": {
      "text/plain": [
       "<matplotlib.axes._subplots.AxesSubplot at 0x21264e9eb70>"
      ]
     },
     "execution_count": 27,
     "metadata": {},
     "output_type": "execute_result"
    },
    {
     "data": {
      "image/png": "[encoded data removed]",
      "text/plain": [
       "<Figure size 432x288 with 1 Axes>"
      ]
     },
     "metadata": {
      "needs_background": "light"
     },
     "output_type": "display_data"
    }
   ],
   "source": [
    "df_loan.plot.scatter('Zip','CCSC')# no relation"
   ]
  },
  {
   "cell_type": "code",
   "execution_count": 28,
   "metadata": {
    "scrolled": true
   },
   "outputs": [
    {
     "data": {
      "text/plain": [
       "<matplotlib.axes._subplots.AxesSubplot at 0x2126503c748>"
      ]
     },
     "execution_count": 28,
     "metadata": {},
     "output_type": "execute_result"
    },
    {
     "data": {
      "image/png": "[encoded data removed]",
      "text/plain": [
       "<Figure size 432x288 with 1 Axes>"
      ]
     },
     "metadata": {
      "needs_background": "light"
     },
     "output_type": "display_data"
    }
   ],
   "source": [
    "df_loan.plot.scatter('Term','ApprovalFY')   "
   ]
  },
  {
   "cell_type": "code",
   "execution_count": 29,
   "metadata": {
    "scrolled": true
   },
   "outputs": [
    {
     "data": {
      "text/plain": [
       "Name                 object\n",
       "City                 object\n",
       "State                object\n",
       "Zip                   int64\n",
       "Bank                 object\n",
       "BankState            object\n",
       "CCSC                  int64\n",
       "ApprovalDate         object\n",
       "ApprovalFY            int64\n",
       "Term                  int64\n",
       "NoEmp                 int64\n",
       "NewExist              int64\n",
       "CreateJob             int64\n",
       "RetainedJob           int64\n",
       "FranchiseCode         int64\n",
       "UrbanRural            int64\n",
       "RevLineCr            object\n",
       "LowDoc               object\n",
       "ChgOffDate           object\n",
       "DisbursementDate     object\n",
       "DisbursementGross    object\n",
       "BalanceGross         object\n",
       "MIS_Status           object\n",
       "ChgOffPrinGr         object\n",
       "GrAppv               object\n",
       "SBA_Appv             object\n",
       "Default               int64\n",
       "dtype: object"
      ]
     },
     "execution_count": 29,
     "metadata": {},
     "output_type": "execute_result"
    }
   ],
   "source": [
    "df_loan.dtypes"
   ]
  },
  {
   "cell_type": "code",
   "execution_count": 30,
   "metadata": {
    "scrolled": true
   },
   "outputs": [
    {
     "data": {
      "text/plain": [
       "<matplotlib.axes._subplots.AxesSubplot at 0x21264e41470>"
      ]
     },
     "execution_count": 30,
     "metadata": {},
     "output_type": "execute_result"
    },
    {
     "data": {
      "image/png": "[encoded data removed]",
      "text/plain": [
       "<Figure size 432x288 with 1 Axes>"
      ]
     },
     "metadata": {
      "needs_background": "light"
     },
     "output_type": "display_data"
    }
   ],
   "source": [
    "df_loan.plot.scatter('NoEmp','CreateJob')   "
   ]
  },
  {
   "cell_type": "code",
   "execution_count": 31,
   "metadata": {
    "scrolled": true
   },
   "outputs": [
    {
     "data": {
      "text/plain": [
       "<matplotlib.axes._subplots.AxesSubplot at 0x212655d9b70>"
      ]
     },
     "execution_count": 31,
     "metadata": {},
     "output_type": "execute_result"
    },
    {
     "data": {
      "image/png": "[encoded data removed]",
      "text/plain": [
       "<Figure size 432x288 with 1 Axes>"
      ]
     },
     "metadata": {
      "needs_background": "light"
     },
     "output_type": "display_data"
    }
   ],
   "source": [
    "df_loan.plot.scatter('UrbanRural','Default')   "
   ]
  },
  {
   "cell_type": "code",
   "execution_count": 32,
   "metadata": {
    "scrolled": true
   },
   "outputs": [
    {
     "data": {
      "text/plain": [
       "<matplotlib.axes._subplots.AxesSubplot at 0x21265641748>"
      ]
     },
     "execution_count": 32,
     "metadata": {},
     "output_type": "execute_result"
    },
    {
     "data": {
      "image/png": "[encoded data removed]",
      "text/plain": [
       "<Figure size 432x288 with 1 Axes>"
      ]
     },
     "metadata": {
      "needs_background": "light"
     },
     "output_type": "display_data"
    }
   ],
   "source": [
    "df_loan.plot.scatter('NoEmp','RetainedJob')   "
   ]
  },
  {
   "cell_type": "code",
   "execution_count": 33,
   "metadata": {
    "scrolled": true
   },
   "outputs": [
    {
     "data": {
      "text/html": [
       "<div>\n",
       "<style scoped>\n",
       "    .dataframe tbody tr th:only-of-type {\n",
       "        vertical-align: middle;\n",
       "    }\n",
       "\n",
       "    .dataframe tbody tr th {\n",
       "        vertical-align: top;\n",
       "    }\n",
       "\n",
       "    .dataframe thead th {\n",
       "        text-align: right;\n",
       "    }\n",
       "</style>\n",
       "<table border=\"1\" class=\"dataframe\">\n",
       "  <thead>\n",
       "    <tr style=\"text-align: right;\">\n",
       "      <th></th>\n",
       "      <th>Zip</th>\n",
       "      <th>CCSC</th>\n",
       "      <th>ApprovalFY</th>\n",
       "      <th>Term</th>\n",
       "      <th>NoEmp</th>\n",
       "      <th>NewExist</th>\n",
       "      <th>CreateJob</th>\n",
       "      <th>RetainedJob</th>\n",
       "      <th>FranchiseCode</th>\n",
       "      <th>UrbanRural</th>\n",
       "      <th>Default</th>\n",
       "    </tr>\n",
       "  </thead>\n",
       "  <tbody>\n",
       "    <tr>\n",
       "      <th>Zip</th>\n",
       "      <td>1.000000</td>\n",
       "      <td>-0.071785</td>\n",
       "      <td>-0.095580</td>\n",
       "      <td>0.148118</td>\n",
       "      <td>0.014771</td>\n",
       "      <td>-0.079057</td>\n",
       "      <td>0.014648</td>\n",
       "      <td>-0.000395</td>\n",
       "      <td>0.018416</td>\n",
       "      <td>-0.110019</td>\n",
       "      <td>0.001039</td>\n",
       "    </tr>\n",
       "    <tr>\n",
       "      <th>CCSC</th>\n",
       "      <td>-0.071785</td>\n",
       "      <td>1.000000</td>\n",
       "      <td>0.579349</td>\n",
       "      <td>-0.259663</td>\n",
       "      <td>-0.040582</td>\n",
       "      <td>0.044601</td>\n",
       "      <td>0.019404</td>\n",
       "      <td>0.046389</td>\n",
       "      <td>-0.056478</td>\n",
       "      <td>0.500575</td>\n",
       "      <td>-0.002584</td>\n",
       "    </tr>\n",
       "    <tr>\n",
       "      <th>ApprovalFY</th>\n",
       "      <td>-0.095580</td>\n",
       "      <td>0.579349</td>\n",
       "      <td>1.000000</td>\n",
       "      <td>-0.447960</td>\n",
       "      <td>-0.069961</td>\n",
       "      <td>0.027610</td>\n",
       "      <td>0.028481</td>\n",
       "      <td>0.067419</td>\n",
       "      <td>-0.076650</td>\n",
       "      <td>0.749811</td>\n",
       "      <td>-0.002216</td>\n",
       "    </tr>\n",
       "    <tr>\n",
       "      <th>Term</th>\n",
       "      <td>0.148118</td>\n",
       "      <td>-0.259663</td>\n",
       "      <td>-0.447960</td>\n",
       "      <td>1.000000</td>\n",
       "      <td>0.047236</td>\n",
       "      <td>-0.062044</td>\n",
       "      <td>0.056612</td>\n",
       "      <td>-0.004901</td>\n",
       "      <td>0.065750</td>\n",
       "      <td>-0.385952</td>\n",
       "      <td>-0.002218</td>\n",
       "    </tr>\n",
       "    <tr>\n",
       "      <th>NoEmp</th>\n",
       "      <td>0.014771</td>\n",
       "      <td>-0.040582</td>\n",
       "      <td>-0.069961</td>\n",
       "      <td>0.047236</td>\n",
       "      <td>1.000000</td>\n",
       "      <td>-0.028583</td>\n",
       "      <td>0.023257</td>\n",
       "      <td>0.033384</td>\n",
       "      <td>0.006650</td>\n",
       "      <td>-0.053505</td>\n",
       "      <td>-0.000495</td>\n",
       "    </tr>\n",
       "    <tr>\n",
       "      <th>NewExist</th>\n",
       "      <td>-0.079057</td>\n",
       "      <td>0.044601</td>\n",
       "      <td>0.027610</td>\n",
       "      <td>-0.062044</td>\n",
       "      <td>-0.028583</td>\n",
       "      <td>1.000000</td>\n",
       "      <td>0.013822</td>\n",
       "      <td>-0.029635</td>\n",
       "      <td>0.076829</td>\n",
       "      <td>0.026416</td>\n",
       "      <td>-0.009380</td>\n",
       "    </tr>\n",
       "    <tr>\n",
       "      <th>CreateJob</th>\n",
       "      <td>0.014648</td>\n",
       "      <td>0.019404</td>\n",
       "      <td>0.028481</td>\n",
       "      <td>0.056612</td>\n",
       "      <td>0.023257</td>\n",
       "      <td>0.013822</td>\n",
       "      <td>1.000000</td>\n",
       "      <td>0.048554</td>\n",
       "      <td>0.011896</td>\n",
       "      <td>0.018583</td>\n",
       "      <td>-0.002029</td>\n",
       "    </tr>\n",
       "    <tr>\n",
       "      <th>RetainedJob</th>\n",
       "      <td>-0.000395</td>\n",
       "      <td>0.046389</td>\n",
       "      <td>0.067419</td>\n",
       "      <td>-0.004901</td>\n",
       "      <td>0.033384</td>\n",
       "      <td>-0.029635</td>\n",
       "      <td>0.048554</td>\n",
       "      <td>1.000000</td>\n",
       "      <td>-0.003583</td>\n",
       "      <td>0.058434</td>\n",
       "      <td>-0.001216</td>\n",
       "    </tr>\n",
       "    <tr>\n",
       "      <th>FranchiseCode</th>\n",
       "      <td>0.018416</td>\n",
       "      <td>-0.056478</td>\n",
       "      <td>-0.076650</td>\n",
       "      <td>0.065750</td>\n",
       "      <td>0.006650</td>\n",
       "      <td>0.076829</td>\n",
       "      <td>0.011896</td>\n",
       "      <td>-0.003583</td>\n",
       "      <td>1.000000</td>\n",
       "      <td>-0.083914</td>\n",
       "      <td>-0.000525</td>\n",
       "    </tr>\n",
       "    <tr>\n",
       "      <th>UrbanRural</th>\n",
       "      <td>-0.110019</td>\n",
       "      <td>0.500575</td>\n",
       "      <td>0.749811</td>\n",
       "      <td>-0.385952</td>\n",
       "      <td>-0.053505</td>\n",
       "      <td>0.026416</td>\n",
       "      <td>0.018583</td>\n",
       "      <td>0.058434</td>\n",
       "      <td>-0.083914</td>\n",
       "      <td>1.000000</td>\n",
       "      <td>-0.004343</td>\n",
       "    </tr>\n",
       "    <tr>\n",
       "      <th>Default</th>\n",
       "      <td>0.001039</td>\n",
       "      <td>-0.002584</td>\n",
       "      <td>-0.002216</td>\n",
       "      <td>-0.002218</td>\n",
       "      <td>-0.000495</td>\n",
       "      <td>-0.009380</td>\n",
       "      <td>-0.002029</td>\n",
       "      <td>-0.001216</td>\n",
       "      <td>-0.000525</td>\n",
       "      <td>-0.004343</td>\n",
       "      <td>1.000000</td>\n",
       "    </tr>\n",
       "  </tbody>\n",
       "</table>\n",
       "</div>"
      ],
      "text/plain": [
       "                    Zip      CCSC  ApprovalFY      Term     NoEmp  NewExist  \\\n",
       "Zip            1.000000 -0.071785   -0.095580  0.148118  0.014771 -0.079057   \n",
       "CCSC          -0.071785  1.000000    0.579349 -0.259663 -0.040582  0.044601   \n",
       "ApprovalFY    -0.095580  0.579349    1.000000 -0.447960 -0.069961  0.027610   \n",
       "Term           0.148118 -0.259663   -0.447960  1.000000  0.047236 -0.062044   \n",
       "NoEmp          0.014771 -0.040582   -0.069961  0.047236  1.000000 -0.028583   \n",
       "NewExist      -0.079057  0.044601    0.027610 -0.062044 -0.028583  1.000000   \n",
       "CreateJob      0.014648  0.019404    0.028481  0.056612  0.023257  0.013822   \n",
       "RetainedJob   -0.000395  0.046389    0.067419 -0.004901  0.033384 -0.029635   \n",
       "FranchiseCode  0.018416 -0.056478   -0.076650  0.065750  0.006650  0.076829   \n",
       "UrbanRural    -0.110019  0.500575    0.749811 -0.385952 -0.053505  0.026416   \n",
       "Default        0.001039 -0.002584   -0.002216 -0.002218 -0.000495 -0.009380   \n",
       "\n",
       "               CreateJob  RetainedJob  FranchiseCode  UrbanRural   Default  \n",
       "Zip             0.014648    -0.000395       0.018416   -0.110019  0.001039  \n",
       "CCSC            0.019404     0.046389      -0.056478    0.500575 -0.002584  \n",
       "ApprovalFY      0.028481     0.067419      -0.076650    0.749811 -0.002216  \n",
       "Term            0.056612    -0.004901       0.065750   -0.385952 -0.002218  \n",
       "NoEmp           0.023257     0.033384       0.006650   -0.053505 -0.000495  \n",
       "NewExist        0.013822    -0.029635       0.076829    0.026416 -0.009380  \n",
       "CreateJob       1.000000     0.048554       0.011896    0.018583 -0.002029  \n",
       "RetainedJob     0.048554     1.000000      -0.003583    0.058434 -0.001216  \n",
       "FranchiseCode   0.011896    -0.003583       1.000000   -0.083914 -0.000525  \n",
       "UrbanRural      0.018583     0.058434      -0.083914    1.000000 -0.004343  \n",
       "Default        -0.002029    -0.001216      -0.000525   -0.004343  1.000000  "
      ]
     },
     "execution_count": 33,
     "metadata": {},
     "output_type": "execute_result"
    }
   ],
   "source": [
    "df_loan.corr()   # check correlation matrix "
   ]
  },
  {
   "cell_type": "code",
   "execution_count": 34,
   "metadata": {
    "scrolled": true
   },
   "outputs": [
    {
     "data": {
      "text/plain": [
       "DisbursementGross\n",
       "$0.00             0.267857\n",
       "$1,000,000.00     0.332155\n",
       "$1,000,050.00     0.000000\n",
       "$1,000.00         0.337838\n",
       "$1,001,000.00     0.333333\n",
       "$1,002,000.00     1.000000\n",
       "$1,003,000.00     0.000000\n",
       "$1,003,161.00     0.000000\n",
       "$1,005,000.00     0.000000\n",
       "$1,005,072.00     1.000000\n",
       "$1,005,902.00     0.000000\n",
       "$1,006,300.00     0.000000\n",
       "$1,006,400.00     0.000000\n",
       "$1,007,000.00     0.000000\n",
       "$1,008,000.00     0.000000\n",
       "$1,010,000.00     0.250000\n",
       "$1,011,000.00     1.000000\n",
       "$1,011,695.00     0.000000\n",
       "$1,011,978.00     0.000000\n",
       "$1,012,000.00     0.000000\n",
       "$1,012,500.00     0.000000\n",
       "$1,013,000.00     0.000000\n",
       "$1,014,000.00     0.000000\n",
       "$1,014,500.00     0.000000\n",
       "$1,014,800.00     0.000000\n",
       "$1,014.00         0.500000\n",
       "$1,015,000.00     0.000000\n",
       "$1,015,500.00     1.000000\n",
       "$1,015.00         0.000000\n",
       "$1,016,000.00     1.000000\n",
       "                    ...   \n",
       "$99,987.00        1.000000\n",
       "$99,989.00        0.000000\n",
       "$99,990.00        1.000000\n",
       "$99,993.00        0.000000\n",
       "$99,994.00        1.000000\n",
       "$99,995.00        0.000000\n",
       "$99,997.00        1.000000\n",
       "$99,998.00        0.428571\n",
       "$99,999.00        0.333333\n",
       "$990,000.00       0.312500\n",
       "$991,000.00       0.500000\n",
       "$991,604.00       1.000000\n",
       "$991,700.00       0.000000\n",
       "$992,000.00       0.500000\n",
       "$993,000.00       0.000000\n",
       "$993,800.00       0.000000\n",
       "$994,000.00       0.500000\n",
       "$994,456.00       0.000000\n",
       "$995,000.00       0.166667\n",
       "$995,140.00       1.000000\n",
       "$996,000.00       0.666667\n",
       "$997,000.00       0.181818\n",
       "$997,365.00       0.000000\n",
       "$997,500.00       1.000000\n",
       "$998,000.00       0.000000\n",
       "$998,348.00       0.000000\n",
       "$998,634.00       0.000000\n",
       "$999,000.00       0.000000\n",
       "$999,800.00       1.000000\n",
       "$999,961.00       0.000000\n",
       "Name: Default, Length: 38747, dtype: float64"
      ]
     },
     "execution_count": 34,
     "metadata": {},
     "output_type": "execute_result"
    }
   ],
   "source": [
    "df_loan.groupby('DisbursementGross')['Default'].mean()  # Most are of 0 "
   ]
  },
  {
   "cell_type": "code",
   "execution_count": 35,
   "metadata": {
    "scrolled": true
   },
   "outputs": [
    {
     "data": {
      "text/plain": [
       "0.000000    92027\n",
       "1.000000    45440\n",
       "0.500000     2961\n",
       "0.333333      214\n",
       "0.666667       91\n",
       "0.250000       36\n",
       "0.200000       16\n",
       "0.400000       15\n",
       "0.166667       11\n",
       "0.600000        9\n",
       "0.750000        9\n",
       "0.428571        5\n",
       "0.375000        4\n",
       "0.571429        4\n",
       "0.142857        3\n",
       "0.300000        3\n",
       "0.125000        2\n",
       "0.444444        2\n",
       "0.259259        2\n",
       "0.533333        2\n",
       "0.307692        2\n",
       "0.310345        1\n",
       "0.277778        1\n",
       "0.181818        1\n",
       "0.520000        1\n",
       "0.066667        1\n",
       "0.354839        1\n",
       "0.285714        1\n",
       "0.222222        1\n",
       "0.360000        1\n",
       "0.320000        1\n",
       "0.111111        1\n",
       "0.800000        1\n",
       "0.157895        1\n",
       "0.357143        1\n",
       "0.269231        1\n",
       "0.137931        1\n",
       "0.378378        1\n",
       "0.476190        1\n",
       "0.363636        1\n",
       "0.291667        1\n",
       "0.526316        1\n",
       "0.272727        1\n",
       "0.478261        1\n",
       "0.583333        1\n",
       "0.256410        1\n",
       "Name: Default, dtype: int64"
      ]
     },
     "execution_count": 35,
     "metadata": {},
     "output_type": "execute_result"
    }
   ],
   "source": [
    "df_loan.groupby('Name')['Default'].mean().value_counts()# much are non default'ies "
   ]
  },
  {
   "cell_type": "code",
   "execution_count": 36,
   "metadata": {
    "scrolled": true
   },
   "outputs": [
    {
     "data": {
      "text/plain": [
       "RevLineCr\n",
       ",    0.000000\n",
       "0    0.335517\n",
       "1    0.000000\n",
       "N    0.335647\n",
       "T    0.322474\n",
       "Y    0.332612\n",
       "`    0.000000\n",
       "Name: Default, dtype: float64"
      ]
     },
     "execution_count": 36,
     "metadata": {},
     "output_type": "execute_result"
    }
   ],
   "source": [
    "df_loan.groupby('RevLineCr')['Default'].mean() # it much tell abt revline and default rate value have 0 "
   ]
  },
  {
   "cell_type": "code",
   "execution_count": 37,
   "metadata": {
    "scrolled": true
   },
   "outputs": [
    {
     "data": {
      "text/plain": [
       "<matplotlib.axes._subplots.AxesSubplot at 0x212656929b0>"
      ]
     },
     "execution_count": 37,
     "metadata": {},
     "output_type": "execute_result"
    },
    {
     "data": {
      "image/png": "[encoded data removed]",
      "text/plain": [
       "<Figure size 432x288 with 1 Axes>"
      ]
     },
     "metadata": {
      "needs_background": "light"
     },
     "output_type": "display_data"
    }
   ],
   "source": [
    "df_loan.groupby('RevLineCr')['Default'].mean().plot.bar()"
   ]
  },
  {
   "cell_type": "code",
   "execution_count": 38,
   "metadata": {
    "scrolled": true
   },
   "outputs": [
    {
     "data": {
      "text/plain": [
       "<matplotlib.axes._subplots.AxesSubplot at 0x21266add518>"
      ]
     },
     "execution_count": 38,
     "metadata": {},
     "output_type": "execute_result"
    },
    {
     "data": {
      "image/png": "[encoded data removed]",
      "text/plain": [
       "<Figure size 432x288 with 1 Axes>"
      ]
     },
     "metadata": {
      "needs_background": "light"
     },
     "output_type": "display_data"
    }
   ],
   "source": [
    "df_loan.groupby('LowDoc')['Default'].mean().plot.bar()"
   ]
  },
  {
   "cell_type": "code",
   "execution_count": 39,
   "metadata": {
    "scrolled": true
   },
   "outputs": [
    {
     "data": {
      "text/html": [
       "<div>\n",
       "<style scoped>\n",
       "    .dataframe tbody tr th:only-of-type {\n",
       "        vertical-align: middle;\n",
       "    }\n",
       "\n",
       "    .dataframe tbody tr th {\n",
       "        vertical-align: top;\n",
       "    }\n",
       "\n",
       "    .dataframe thead th {\n",
       "        text-align: right;\n",
       "    }\n",
       "</style>\n",
       "<table border=\"1\" class=\"dataframe\">\n",
       "  <thead>\n",
       "    <tr style=\"text-align: right;\">\n",
       "      <th>MIS_Status</th>\n",
       "      <th>CHGOFF</th>\n",
       "      <th>P I F</th>\n",
       "    </tr>\n",
       "    <tr>\n",
       "      <th>Default</th>\n",
       "      <th></th>\n",
       "      <th></th>\n",
       "    </tr>\n",
       "  </thead>\n",
       "  <tbody>\n",
       "    <tr>\n",
       "      <th>0</th>\n",
       "      <td>25969</td>\n",
       "      <td>73312</td>\n",
       "    </tr>\n",
       "    <tr>\n",
       "      <th>1</th>\n",
       "      <td>13039</td>\n",
       "      <td>36811</td>\n",
       "    </tr>\n",
       "  </tbody>\n",
       "</table>\n",
       "</div>"
      ],
      "text/plain": [
       "MIS_Status  CHGOFF  P I F\n",
       "Default                  \n",
       "0            25969  73312\n",
       "1            13039  36811"
      ]
     },
     "execution_count": 39,
     "metadata": {},
     "output_type": "execute_result"
    }
   ],
   "source": [
    "pd.crosstab(df_loan['Default'],df_loan['MIS_Status'])"
   ]
  },
  {
   "cell_type": "markdown",
   "metadata": {},
   "source": [
    "# Now checking the Null Values\n"
   ]
  },
  {
   "cell_type": "markdown",
   "metadata": {},
   "source": [
    "\n"
   ]
  },
  {
   "cell_type": "markdown",
   "metadata": {},
   "source": [
    "There are are many missing value in a data set"
   ]
  },
  {
   "cell_type": "code",
   "execution_count": 40,
   "metadata": {
    "scrolled": true
   },
   "outputs": [
    {
     "data": {
      "text/plain": [
       "Name                      8\n",
       "City                      1\n",
       "State                     2\n",
       "Zip                       0\n",
       "Bank                    147\n",
       "BankState               148\n",
       "CCSC                      0\n",
       "ApprovalDate              0\n",
       "ApprovalFY                0\n",
       "Term                      0\n",
       "NoEmp                     0\n",
       "NewExist                  0\n",
       "CreateJob                 0\n",
       "RetainedJob               0\n",
       "FranchiseCode             0\n",
       "UrbanRural                0\n",
       "RevLineCr                23\n",
       "LowDoc                    0\n",
       "ChgOffDate           109533\n",
       "DisbursementDate        225\n",
       "DisbursementGross         0\n",
       "BalanceGross              0\n",
       "MIS_Status              868\n",
       "ChgOffPrinGr              0\n",
       "GrAppv                    0\n",
       "SBA_Appv                  0\n",
       "Default                   0\n",
       "dtype: int64"
      ]
     },
     "execution_count": 40,
     "metadata": {},
     "output_type": "execute_result"
    }
   ],
   "source": [
    "df_loan.isna().sum()"
   ]
  },
  {
   "cell_type": "code",
   "execution_count": null,
   "metadata": {
    "scrolled": true
   },
   "outputs": [],
   "source": []
  },
  {
   "cell_type": "markdown",
   "metadata": {},
   "source": [
    " Convert some variables that are categorical in nature : RevLineCr,LowDoc,Mis-Status\n",
    " "
   ]
  },
  {
   "cell_type": "code",
   "execution_count": 41,
   "metadata": {
    "scrolled": true
   },
   "outputs": [],
   "source": [
    "# Function that map value \n",
    "class_map = {'Y': 1, 'N': 0}"
   ]
  },
  {
   "cell_type": "code",
   "execution_count": 42,
   "metadata": {
    "scrolled": true
   },
   "outputs": [],
   "source": [
    "df_loan['RevLineCr'] = df_loan['RevLineCr'].map(class_map)"
   ]
  },
  {
   "cell_type": "code",
   "execution_count": 43,
   "metadata": {
    "scrolled": true
   },
   "outputs": [
    {
     "data": {
      "text/plain": [
       "0.0    71611\n",
       "1.0    49881\n",
       "Name: RevLineCr, dtype: int64"
      ]
     },
     "execution_count": 43,
     "metadata": {},
     "output_type": "execute_result"
    }
   ],
   "source": [
    "df_loan['RevLineCr'].value_counts()   # Now It covert to integer"
   ]
  },
  {
   "cell_type": "code",
   "execution_count": 44,
   "metadata": {
    "scrolled": true
   },
   "outputs": [
    {
     "data": {
      "text/plain": [
       "N    137871\n",
       "Y     12044\n",
       "C        83\n",
       "1         1\n",
       "Name: LowDoc, dtype: int64"
      ]
     },
     "execution_count": 44,
     "metadata": {},
     "output_type": "execute_result"
    }
   ],
   "source": [
    "df_loan['LowDoc'].value_counts()"
   ]
  },
  {
   "cell_type": "code",
   "execution_count": 45,
   "metadata": {
    "scrolled": true
   },
   "outputs": [],
   "source": [
    "# Function that map Low Doc value \n",
    "class_map1 = {'Y': 1, 'N': 0}"
   ]
  },
  {
   "cell_type": "code",
   "execution_count": 46,
   "metadata": {
    "scrolled": true
   },
   "outputs": [],
   "source": [
    "df_loan['LowDoc'] = df_loan['LowDoc'].map(class_map1) #"
   ]
  },
  {
   "cell_type": "code",
   "execution_count": 47,
   "metadata": {
    "scrolled": true
   },
   "outputs": [],
   "source": [
    "# function that map Mis-Status\n",
    "class_map2 = {'P I F': 1, 'CHGOFF': 0}"
   ]
  },
  {
   "cell_type": "code",
   "execution_count": 48,
   "metadata": {
    "scrolled": true
   },
   "outputs": [],
   "source": [
    "df_loan['MIS_Status'] = df_loan['MIS_Status'].map(class_map2)"
   ]
  },
  {
   "cell_type": "code",
   "execution_count": 49,
   "metadata": {
    "scrolled": true
   },
   "outputs": [
    {
     "data": {
      "text/plain": [
       "1.0    110123\n",
       "0.0     39008\n",
       "Name: MIS_Status, dtype: int64"
      ]
     },
     "execution_count": 49,
     "metadata": {},
     "output_type": "execute_result"
    }
   ],
   "source": [
    "df_loan['MIS_Status'].value_counts() # "
   ]
  },
  {
   "cell_type": "code",
   "execution_count": 50,
   "metadata": {
    "scrolled": true
   },
   "outputs": [],
   "source": [
    "df_data = df_loan.copy()"
   ]
  },
  {
   "cell_type": "code",
   "execution_count": 51,
   "metadata": {
    "scrolled": true
   },
   "outputs": [],
   "source": [
    "df_loan['RevLineCr'].fillna(0, inplace=True)\n",
    "\n",
    "df_loan['LowDoc'].fillna(0, inplace=True)\n",
    "\n",
    "df_loan['MIS_Status'].fillna(0, inplace=True)\n"
   ]
  },
  {
   "cell_type": "code",
   "execution_count": 52,
   "metadata": {
    "scrolled": true
   },
   "outputs": [],
   "source": [
    "df_loan = df_loan.fillna(df_loan.mode().iloc[0])"
   ]
  },
  {
   "cell_type": "code",
   "execution_count": 53,
   "metadata": {
    "scrolled": true
   },
   "outputs": [],
   "source": [
    "df_data = df_loan.copy()"
   ]
  },
  {
   "cell_type": "code",
   "execution_count": null,
   "metadata": {
    "scrolled": true
   },
   "outputs": [],
   "source": [
    "\n"
   ]
  },
  {
   "cell_type": "markdown",
   "metadata": {
    "scrolled": true
   },
   "source": [
    "# Feature Engineering"
   ]
  },
  {
   "cell_type": "code",
   "execution_count": 55,
   "metadata": {
    "scrolled": true
   },
   "outputs": [],
   "source": [
    "# Apply lambda function to Disbursement Gross then it will convert to float and replace its ($),(,) by ('')"
   ]
  },
  {
   "cell_type": "code",
   "execution_count": 56,
   "metadata": {
    "scrolled": true
   },
   "outputs": [],
   "source": [
    "df_loan['DisbursementGross'] = df_loan['DisbursementGross'].apply(lambda x: x.replace('$','')).apply(lambda x: x.replace(',','')).astype(float)"
   ]
  },
  {
   "cell_type": "code",
   "execution_count": 57,
   "metadata": {
    "scrolled": true
   },
   "outputs": [],
   "source": [
    "#1 to 25000,25000 to 50000 , 50000 to 93208,93208 to 190000 ,190000 to 4029520"
   ]
  },
  {
   "cell_type": "code",
   "execution_count": 58,
   "metadata": {
    "scrolled": true
   },
   "outputs": [],
   "source": [
    "df_data['BalanceGross'] = df_data['BalanceGross'].apply(lambda x: x.replace('$','')).apply(lambda x: x.replace(',','')).astype(float)"
   ]
  },
  {
   "cell_type": "code",
   "execution_count": 59,
   "metadata": {
    "scrolled": true
   },
   "outputs": [],
   "source": [
    "df_data['DisbursementGross'] = df_data['DisbursementGross'].apply(lambda x: x.replace('$','')).apply(lambda x: x.replace(',','')).astype(float)"
   ]
  },
  {
   "cell_type": "code",
   "execution_count": 60,
   "metadata": {
    "scrolled": true
   },
   "outputs": [],
   "source": [
    "df_data['SBA_Appv'] = df_data['SBA_Appv'].apply(lambda x: x.replace('$','')).apply(lambda x: x.replace(',','')).astype(float)"
   ]
  },
  {
   "cell_type": "code",
   "execution_count": 61,
   "metadata": {
    "scrolled": true
   },
   "outputs": [],
   "source": [
    "df_data['GrAppv'] = df_data['GrAppv'].apply(lambda x: x.replace('$','')).apply(lambda x: x.replace(',','')).astype(float)"
   ]
  },
  {
   "cell_type": "code",
   "execution_count": 62,
   "metadata": {
    "scrolled": true
   },
   "outputs": [],
   "source": [
    "df_data['ChgOffPrinGr'] = df_data['ChgOffPrinGr'].apply(lambda x: x.replace('$','')).apply(lambda x: x.replace(',','')).astype(float)"
   ]
  },
  {
   "cell_type": "code",
   "execution_count": 63,
   "metadata": {
    "scrolled": true
   },
   "outputs": [],
   "source": [
    "df_data['ApprovalDate'] = pd.to_datetime(df_data['ApprovalDate'], format='%d-%b-%y').dt.strftime('%Y')\n"
   ]
  },
  {
   "cell_type": "code",
   "execution_count": 64,
   "metadata": {
    "scrolled": true
   },
   "outputs": [
    {
     "data": {
      "text/plain": [
       "2006    49413\n",
       "2005    37024\n",
       "1997    32224\n",
       "1998    14365\n",
       "2004    11427\n",
       "1983     1780\n",
       "1984     1716\n",
       "1982      714\n",
       "2003      370\n",
       "1981      336\n",
       "1980      273\n",
       "2001       98\n",
       "1979       81\n",
       "1978       63\n",
       "1999       33\n",
       "2000       30\n",
       "2002       21\n",
       "1972       19\n",
       "1971        8\n",
       "1996        1\n",
       "2064        1\n",
       "2061        1\n",
       "2066        1\n",
       "Name: ApprovalDate, dtype: int64"
      ]
     },
     "execution_count": 64,
     "metadata": {},
     "output_type": "execute_result"
    }
   ],
   "source": [
    "df_data['ApprovalDate'].value_counts()"
   ]
  },
  {
   "cell_type": "code",
   "execution_count": 65,
   "metadata": {
    "scrolled": true
   },
   "outputs": [],
   "source": [
    "df_data['DisbursementDate'] = pd.to_datetime(df_data['DisbursementDate'], format='%d-%b-%y').dt.strftime('%Y')"
   ]
  },
  {
   "cell_type": "code",
   "execution_count": 66,
   "metadata": {
    "scrolled": true
   },
   "outputs": [
    {
     "data": {
      "text/plain": [
       "2006    51579\n",
       "2005    33193\n",
       "1998    21011\n",
       "1997    20981\n",
       "2004     8552\n",
       "1999     3390\n",
       "2007     2744\n",
       "1984     1880\n",
       "2008     1192\n",
       "1983     1112\n",
       "2000      823\n",
       "2009      811\n",
       "1985      692\n",
       "1982      421\n",
       "1981      332\n",
       "2001      319\n",
       "2003      294\n",
       "1980      199\n",
       "2002      183\n",
       "1979       86\n",
       "1986       86\n",
       "1978       42\n",
       "2010       27\n",
       "1972       16\n",
       "2012       10\n",
       "1987        8\n",
       "1971        5\n",
       "1973        3\n",
       "1988        2\n",
       "1996        1\n",
       "2013        1\n",
       "1995        1\n",
       "2048        1\n",
       "2066        1\n",
       "2011        1\n",
       "Name: DisbursementDate, dtype: int64"
      ]
     },
     "execution_count": 66,
     "metadata": {},
     "output_type": "execute_result"
    }
   ],
   "source": [
    "df_data['DisbursementDate'].value_counts()"
   ]
  },
  {
   "cell_type": "code",
   "execution_count": 67,
   "metadata": {
    "scrolled": false
   },
   "outputs": [],
   "source": [
    "df_data['ChgOffDate'] = pd.to_datetime(df_data['ChgOffDate'], format='%d-%b-%y').dt.strftime('%Y')"
   ]
  },
  {
   "cell_type": "code",
   "execution_count": 68,
   "metadata": {
    "scrolled": true
   },
   "outputs": [
    {
     "data": {
      "text/plain": [
       "2006    55361\n",
       "2005    33547\n",
       "1997    23838\n",
       "1998    22736\n",
       "2004     5552\n",
       "2007     3536\n",
       "1984     1993\n",
       "1983     1608\n",
       "1982      529\n",
       "1981      407\n",
       "2003      259\n",
       "1985      151\n",
       "1980      138\n",
       "2001      100\n",
       "1979       99\n",
       "1999       43\n",
       "1978       38\n",
       "2000       34\n",
       "1972       23\n",
       "1973        4\n",
       "1966        1\n",
       "1965        1\n",
       "1962        1\n",
       "Name: ApprovalFY, dtype: int64"
      ]
     },
     "execution_count": 68,
     "metadata": {},
     "output_type": "execute_result"
    }
   ],
   "source": [
    "df_data['ApprovalFY'].value_counts()"
   ]
  },
  {
   "cell_type": "code",
   "execution_count": 69,
   "metadata": {
    "scrolled": true
   },
   "outputs": [
    {
     "name": "stderr",
     "output_type": "stream",
     "text": [
      "C:\\ProgramData\\Anaconda3\\lib\\site-packages\\pandas\\core\\ops.py:1649: FutureWarning: elementwise comparison failed; returning scalar instead, but in the future will perform elementwise comparison\n",
      "  result = method(y)\n"
     ]
    }
   ],
   "source": [
    "df_data['CCSC']=np.where(df_data['CCSC'] =='0', 0, df_data['CCSC'])\n",
    "df_data['CCSC']=np.where(df_data['CCSC'] > 1, 1, df_data['CCSC'])"
   ]
  },
  {
   "cell_type": "code",
   "execution_count": 70,
   "metadata": {
    "scrolled": true
   },
   "outputs": [],
   "source": [
    "#df_data['Term'] = pd.qcut(df_data['Term'], 5, \n",
    " #                                  labels=['1_to_47', '47 to 72', '72 to 84','84 to 120' , '120 to 480'])\n"
   ]
  },
  {
   "cell_type": "code",
   "execution_count": 71,
   "metadata": {
    "scrolled": true
   },
   "outputs": [],
   "source": [
    "#df_data['DisbursementGross'] = pd.qcut(df_data['DisbursementGross'], 5, \n",
    " #                                  labels=['1 to 25000','25000 to 50000' , '50000 to 93208','93208 to 190000' ,'190000 to 4029520'])"
   ]
  },
  {
   "cell_type": "code",
   "execution_count": 72,
   "metadata": {
    "scrolled": true
   },
   "outputs": [],
   "source": [
    "#df_data['BalanceGross'] = pd.qcut(df_data['BalanceGross'], 1, \n",
    "#                                   labels=['1_to_82785'])"
   ]
  },
  {
   "cell_type": "code",
   "execution_count": 73,
   "metadata": {
    "scrolled": true
   },
   "outputs": [],
   "source": [
    "#df_data['SBA_Appv'] = pd.qcut(df_data['SBA_Appv'], 5, \n",
    "#                                   labels=['99 to 12500' ,'12500 to 24000','24000 to 45000','45000_to _120000','120000_to_4000000'])"
   ]
  },
  {
   "cell_type": "code",
   "execution_count": 74,
   "metadata": {
    "scrolled": true
   },
   "outputs": [],
   "source": [
    "##df_data['GrAppv'] = pd.qcut(df_data['GrAppv'], 5, \n",
    "  #                                 labels=['199 to 20600','20600 to 40000 ','40000 to 75000' ,'75000 to 158000' ,'158000 to 4000000'])"
   ]
  },
  {
   "cell_type": "code",
   "execution_count": 75,
   "metadata": {
    "scrolled": true
   },
   "outputs": [],
   "source": [
    "#df_data['ChgOffPrinGr'] = pd.qcut(df_data['ChgOffPrinGr'], 1, \n",
    " #                                  labels=['0_to_208959'])"
   ]
  },
  {
   "cell_type": "code",
   "execution_count": 76,
   "metadata": {
    "scrolled": true
   },
   "outputs": [
    {
     "data": {
      "text/plain": [
       "(149999, 27)"
      ]
     },
     "execution_count": 76,
     "metadata": {},
     "output_type": "execute_result"
    }
   ],
   "source": [
    "df_data.shape"
   ]
  },
  {
   "cell_type": "code",
   "execution_count": null,
   "metadata": {
    "scrolled": true
   },
   "outputs": [],
   "source": [
    "\n"
   ]
  },
  {
   "cell_type": "code",
   "execution_count": 77,
   "metadata": {
    "scrolled": true
   },
   "outputs": [
    {
     "data": {
      "text/plain": [
       "Index(['Name', 'City', 'State', 'Zip', 'Bank', 'BankState', 'CCSC',\n",
       "       'ApprovalDate', 'ApprovalFY', 'Term', 'NoEmp', 'NewExist', 'CreateJob',\n",
       "       'RetainedJob', 'FranchiseCode', 'UrbanRural', 'RevLineCr', 'LowDoc',\n",
       "       'ChgOffDate', 'DisbursementDate', 'DisbursementGross', 'BalanceGross',\n",
       "       'MIS_Status', 'ChgOffPrinGr', 'GrAppv', 'SBA_Appv', 'Default'],\n",
       "      dtype='object')"
      ]
     },
     "execution_count": 77,
     "metadata": {},
     "output_type": "execute_result"
    }
   ],
   "source": [
    "# split target and features\n",
    "df_data.columns"
   ]
  },
  {
   "cell_type": "code",
   "execution_count": 78,
   "metadata": {
    "scrolled": true
   },
   "outputs": [],
   "source": [
    "x = df_data[['Name', 'City', 'State', 'Zip', 'Bank', 'BankState', 'CCSC',\n",
    "       'ApprovalDate', 'ApprovalFY', 'Term', 'NoEmp', 'NewExist', 'CreateJob',\n",
    "       'RetainedJob', 'FranchiseCode', 'UrbanRural', 'RevLineCr', 'LowDoc',\n",
    "       'ChgOffDate', 'DisbursementDate', 'DisbursementGross', 'BalanceGross',\n",
    "        'ChgOffPrinGr', 'GrAppv', 'SBA_Appv']]\n",
    "y = df_data['MIS_Status']"
   ]
  },
  {
   "cell_type": "code",
   "execution_count": 79,
   "metadata": {
    "scrolled": true
   },
   "outputs": [],
   "source": [
    "df_data1 = df_data.copy()"
   ]
  },
  {
   "cell_type": "code",
   "execution_count": 80,
   "metadata": {
    "scrolled": true
   },
   "outputs": [
    {
     "name": "stdout",
     "output_type": "stream",
     "text": [
      "['Zip', 'CCSC', 'ApprovalFY', 'Term', 'NoEmp', 'NewExist', 'CreateJob', 'RetainedJob', 'FranchiseCode', 'UrbanRural', 'RevLineCr', 'LowDoc', 'DisbursementGross', 'BalanceGross', 'MIS_Status', 'ChgOffPrinGr', 'GrAppv', 'SBA_Appv', 'Default']\n"
     ]
    }
   ],
   "source": [
    "from xverse.feature_subset import FeatureSubset\n",
    "\n",
    "numerical_features = list(df_data1._get_numeric_data().columns)\n",
    "categorical_features = list(df_data1.columns.difference(numerical_features))\n",
    "print(numerical_features)\n",
    "\n",
    "clf = FeatureSubset(numerical_features) #select only numeric features\n",
    "df = clf.fit_transform(df_data1) #returns the dataframe with selected features"
   ]
  },
  {
   "cell_type": "code",
   "execution_count": 81,
   "metadata": {
    "scrolled": true
   },
   "outputs": [],
   "source": [
    "from xverse.feature_subset import SplitXY\n",
    "\n",
    "clf = SplitXY(['MIS_Status']) #Split the dataset into X and y\n",
    "X, y = clf.fit_transform(df) #returns features (X) dataset and target(Y) as a numpy array"
   ]
  },
  {
   "cell_type": "code",
   "execution_count": 82,
   "metadata": {
    "scrolled": true
   },
   "outputs": [
    {
     "data": {
      "text/plain": [
       "MonotonicBinning(cardinality_cutoff=5, custom_binning=None, feature_names='all',\n",
       "                 force_bins=4, max_bins=20, prefix=None)"
      ]
     },
     "execution_count": 82,
     "metadata": {},
     "output_type": "execute_result"
    }
   ],
   "source": [
    "from xverse.transformer import MonotonicBinning\n",
    "\n",
    "clf = MonotonicBinning()\n",
    "clf.fit(X, y)"
   ]
  },
  {
   "cell_type": "code",
   "execution_count": 83,
   "metadata": {
    "scrolled": true
   },
   "outputs": [
    {
     "data": {
      "text/plain": [
       "{'ApprovalFY': array([1962., 1998., 2006., 2007.]),\n",
       " 'BalanceGross': array([     0.,  12750., 827875.]),\n",
       " 'CCSC': array([0., 1.]),\n",
       " 'ChgOffPrinGr': array([0.000000e+00, 1.000000e+00, 1.999999e+06]),\n",
       " 'CreateJob': array([0.e+00, 1.e+00, 3.e+03]),\n",
       " 'Default': array([0., 1.]),\n",
       " 'DisbursementGross': array([      0.        ,   41291.33333333,  101703.66666667,\n",
       "        4029520.        ]),\n",
       " 'FranchiseCode': array([0.0000e+00, 1.0000e+00, 9.1999e+04]),\n",
       " 'GrAppv': array([2.e+02, 3.e+04, 1.e+05, 4.e+06]),\n",
       " 'LowDoc': array([0., 1.]),\n",
       " 'NewExist': array([0., 1., 2.]),\n",
       " 'NoEmp': array([0.000e+00, 2.000e+00, 6.000e+00, 9.999e+03]),\n",
       " 'RetainedJob': array([0.0e+00, 2.0e+00, 9.5e+03]),\n",
       " 'RevLineCr': array([0., 1.]),\n",
       " 'SBA_Appv': array([1.000e+02, 1.750e+04, 5.025e+04, 4.000e+06]),\n",
       " 'Term': array([  0.,  60.,  84., 480.]),\n",
       " 'UrbanRural': array([0., 1., 2.]),\n",
       " 'Zip': array([    0., 31763., 70601., 99999.])}"
      ]
     },
     "execution_count": 83,
     "metadata": {},
     "output_type": "execute_result"
    }
   ],
   "source": [
    "clf.bins"
   ]
  },
  {
   "cell_type": "code",
   "execution_count": 84,
   "metadata": {
    "scrolled": true
   },
   "outputs": [],
   "source": [
    "output_bins = clf.bins #will be used later in this exercise"
   ]
  },
  {
   "cell_type": "code",
   "execution_count": 85,
   "metadata": {
    "scrolled": true
   },
   "outputs": [],
   "source": [
    "out_X = clf.transform(X)"
   ]
  },
  {
   "cell_type": "code",
   "execution_count": 86,
   "metadata": {
    "scrolled": true
   },
   "outputs": [
    {
     "data": {
      "text/html": [
       "<div>\n",
       "<style scoped>\n",
       "    .dataframe tbody tr th:only-of-type {\n",
       "        vertical-align: middle;\n",
       "    }\n",
       "\n",
       "    .dataframe tbody tr th {\n",
       "        vertical-align: top;\n",
       "    }\n",
       "\n",
       "    .dataframe thead th {\n",
       "        text-align: right;\n",
       "    }\n",
       "</style>\n",
       "<table border=\"1\" class=\"dataframe\">\n",
       "  <thead>\n",
       "    <tr style=\"text-align: right;\">\n",
       "      <th></th>\n",
       "      <th>ApprovalFY</th>\n",
       "      <th>BalanceGross</th>\n",
       "      <th>CCSC</th>\n",
       "      <th>ChgOffPrinGr</th>\n",
       "      <th>CreateJob</th>\n",
       "      <th>Default</th>\n",
       "      <th>DisbursementGross</th>\n",
       "      <th>FranchiseCode</th>\n",
       "      <th>GrAppv</th>\n",
       "      <th>LowDoc</th>\n",
       "      <th>NewExist</th>\n",
       "      <th>NoEmp</th>\n",
       "      <th>RetainedJob</th>\n",
       "      <th>RevLineCr</th>\n",
       "      <th>SBA_Appv</th>\n",
       "      <th>Term</th>\n",
       "      <th>UrbanRural</th>\n",
       "      <th>Zip</th>\n",
       "    </tr>\n",
       "  </thead>\n",
       "  <tbody>\n",
       "    <tr>\n",
       "      <th>0</th>\n",
       "      <td>(1961.999, 1998.0]</td>\n",
       "      <td>0.0</td>\n",
       "      <td>1</td>\n",
       "      <td>(-0.001, 1.0]</td>\n",
       "      <td>(-0.001, 1.0]</td>\n",
       "      <td>0</td>\n",
       "      <td>(41291.333, 101703.667]</td>\n",
       "      <td>(-0.001, 1.0]</td>\n",
       "      <td>(30000.0, 100000.0]</td>\n",
       "      <td>1.0</td>\n",
       "      <td>2</td>\n",
       "      <td>(2.0, 6.0]</td>\n",
       "      <td>(-0.001, 2.0]</td>\n",
       "      <td>0.0</td>\n",
       "      <td>(17500.0, 50250.0]</td>\n",
       "      <td>(60.0, 84.0]</td>\n",
       "      <td>0</td>\n",
       "      <td>(31763.0, 70601.0]</td>\n",
       "    </tr>\n",
       "    <tr>\n",
       "      <th>1</th>\n",
       "      <td>(1961.999, 1998.0]</td>\n",
       "      <td>0.0</td>\n",
       "      <td>1</td>\n",
       "      <td>(-0.001, 1.0]</td>\n",
       "      <td>(-0.001, 1.0]</td>\n",
       "      <td>0</td>\n",
       "      <td>(-0.001, 41291.333]</td>\n",
       "      <td>(-0.001, 1.0]</td>\n",
       "      <td>(30000.0, 100000.0]</td>\n",
       "      <td>1.0</td>\n",
       "      <td>2</td>\n",
       "      <td>(-0.001, 2.0]</td>\n",
       "      <td>(-0.001, 2.0]</td>\n",
       "      <td>0.0</td>\n",
       "      <td>(17500.0, 50250.0]</td>\n",
       "      <td>(-0.001, 60.0]</td>\n",
       "      <td>0</td>\n",
       "      <td>(31763.0, 70601.0]</td>\n",
       "    </tr>\n",
       "    <tr>\n",
       "      <th>2</th>\n",
       "      <td>(1961.999, 1998.0]</td>\n",
       "      <td>0.0</td>\n",
       "      <td>1</td>\n",
       "      <td>(-0.001, 1.0]</td>\n",
       "      <td>(-0.001, 1.0]</td>\n",
       "      <td>0</td>\n",
       "      <td>(101703.667, 4029520.0]</td>\n",
       "      <td>(-0.001, 1.0]</td>\n",
       "      <td>(100000.0, 4000000.0]</td>\n",
       "      <td>0.0</td>\n",
       "      <td>1</td>\n",
       "      <td>(6.0, 9999.0]</td>\n",
       "      <td>(-0.001, 2.0]</td>\n",
       "      <td>0.0</td>\n",
       "      <td>(50250.0, 4000000.0]</td>\n",
       "      <td>(84.0, 480.0]</td>\n",
       "      <td>0</td>\n",
       "      <td>(31763.0, 70601.0]</td>\n",
       "    </tr>\n",
       "    <tr>\n",
       "      <th>3</th>\n",
       "      <td>(1961.999, 1998.0]</td>\n",
       "      <td>0.0</td>\n",
       "      <td>0</td>\n",
       "      <td>(-0.001, 1.0]</td>\n",
       "      <td>(-0.001, 1.0]</td>\n",
       "      <td>0</td>\n",
       "      <td>(-0.001, 41291.333]</td>\n",
       "      <td>(-0.001, 1.0]</td>\n",
       "      <td>(30000.0, 100000.0]</td>\n",
       "      <td>1.0</td>\n",
       "      <td>1</td>\n",
       "      <td>(-0.001, 2.0]</td>\n",
       "      <td>(-0.001, 2.0]</td>\n",
       "      <td>0.0</td>\n",
       "      <td>(17500.0, 50250.0]</td>\n",
       "      <td>(-0.001, 60.0]</td>\n",
       "      <td>0</td>\n",
       "      <td>(70601.0, 99999.0]</td>\n",
       "    </tr>\n",
       "    <tr>\n",
       "      <th>4</th>\n",
       "      <td>(1961.999, 1998.0]</td>\n",
       "      <td>0.0</td>\n",
       "      <td>0</td>\n",
       "      <td>(-0.001, 1.0]</td>\n",
       "      <td>(1.0, 3000.0]</td>\n",
       "      <td>0</td>\n",
       "      <td>(101703.667, 4029520.0]</td>\n",
       "      <td>(-0.001, 1.0]</td>\n",
       "      <td>(100000.0, 4000000.0]</td>\n",
       "      <td>0.0</td>\n",
       "      <td>1</td>\n",
       "      <td>(6.0, 9999.0]</td>\n",
       "      <td>(2.0, 9500.0]</td>\n",
       "      <td>0.0</td>\n",
       "      <td>(50250.0, 4000000.0]</td>\n",
       "      <td>(84.0, 480.0]</td>\n",
       "      <td>0</td>\n",
       "      <td>(31763.0, 70601.0]</td>\n",
       "    </tr>\n",
       "  </tbody>\n",
       "</table>\n",
       "</div>"
      ],
      "text/plain": [
       "           ApprovalFY  BalanceGross  CCSC   ChgOffPrinGr      CreateJob  \\\n",
       "0  (1961.999, 1998.0]           0.0     1  (-0.001, 1.0]  (-0.001, 1.0]   \n",
       "1  (1961.999, 1998.0]           0.0     1  (-0.001, 1.0]  (-0.001, 1.0]   \n",
       "2  (1961.999, 1998.0]           0.0     1  (-0.001, 1.0]  (-0.001, 1.0]   \n",
       "3  (1961.999, 1998.0]           0.0     0  (-0.001, 1.0]  (-0.001, 1.0]   \n",
       "4  (1961.999, 1998.0]           0.0     0  (-0.001, 1.0]  (1.0, 3000.0]   \n",
       "\n",
       "   Default        DisbursementGross  FranchiseCode                 GrAppv  \\\n",
       "0        0  (41291.333, 101703.667]  (-0.001, 1.0]    (30000.0, 100000.0]   \n",
       "1        0      (-0.001, 41291.333]  (-0.001, 1.0]    (30000.0, 100000.0]   \n",
       "2        0  (101703.667, 4029520.0]  (-0.001, 1.0]  (100000.0, 4000000.0]   \n",
       "3        0      (-0.001, 41291.333]  (-0.001, 1.0]    (30000.0, 100000.0]   \n",
       "4        0  (101703.667, 4029520.0]  (-0.001, 1.0]  (100000.0, 4000000.0]   \n",
       "\n",
       "   LowDoc  NewExist          NoEmp    RetainedJob  RevLineCr  \\\n",
       "0     1.0         2     (2.0, 6.0]  (-0.001, 2.0]        0.0   \n",
       "1     1.0         2  (-0.001, 2.0]  (-0.001, 2.0]        0.0   \n",
       "2     0.0         1  (6.0, 9999.0]  (-0.001, 2.0]        0.0   \n",
       "3     1.0         1  (-0.001, 2.0]  (-0.001, 2.0]        0.0   \n",
       "4     0.0         1  (6.0, 9999.0]  (2.0, 9500.0]        0.0   \n",
       "\n",
       "               SBA_Appv            Term  UrbanRural                 Zip  \n",
       "0    (17500.0, 50250.0]    (60.0, 84.0]           0  (31763.0, 70601.0]  \n",
       "1    (17500.0, 50250.0]  (-0.001, 60.0]           0  (31763.0, 70601.0]  \n",
       "2  (50250.0, 4000000.0]   (84.0, 480.0]           0  (31763.0, 70601.0]  \n",
       "3    (17500.0, 50250.0]  (-0.001, 60.0]           0  (70601.0, 99999.0]  \n",
       "4  (50250.0, 4000000.0]   (84.0, 480.0]           0  (31763.0, 70601.0]  "
      ]
     },
     "execution_count": 86,
     "metadata": {},
     "output_type": "execute_result"
    }
   ],
   "source": [
    "\n",
    "out_X.head()"
   ]
  },
  {
   "cell_type": "code",
   "execution_count": 87,
   "metadata": {
    "scrolled": true
   },
   "outputs": [
    {
     "data": {
      "text/html": [
       "<div>\n",
       "<style scoped>\n",
       "    .dataframe tbody tr th:only-of-type {\n",
       "        vertical-align: middle;\n",
       "    }\n",
       "\n",
       "    .dataframe tbody tr th {\n",
       "        vertical-align: top;\n",
       "    }\n",
       "\n",
       "    .dataframe thead th {\n",
       "        text-align: right;\n",
       "    }\n",
       "</style>\n",
       "<table border=\"1\" class=\"dataframe\">\n",
       "  <thead>\n",
       "    <tr style=\"text-align: right;\">\n",
       "      <th></th>\n",
       "      <th>ApprovalFY</th>\n",
       "      <th>BalanceGross</th>\n",
       "      <th>CCSC</th>\n",
       "      <th>ChgOffPrinGr</th>\n",
       "      <th>CreateJob</th>\n",
       "      <th>Default</th>\n",
       "      <th>DisbursementGross</th>\n",
       "      <th>FranchiseCode</th>\n",
       "      <th>GrAppv</th>\n",
       "      <th>LowDoc</th>\n",
       "      <th>NewExist</th>\n",
       "      <th>NoEmp</th>\n",
       "      <th>RetainedJob</th>\n",
       "      <th>RevLineCr</th>\n",
       "      <th>SBA_Appv</th>\n",
       "      <th>Term</th>\n",
       "      <th>UrbanRural</th>\n",
       "      <th>Zip</th>\n",
       "    </tr>\n",
       "  </thead>\n",
       "  <tbody>\n",
       "    <tr>\n",
       "      <th>0</th>\n",
       "      <td>(1961.999, 1998.0]</td>\n",
       "      <td>0.0</td>\n",
       "      <td>1</td>\n",
       "      <td>(-0.001, 1.0]</td>\n",
       "      <td>(-0.001, 1.0]</td>\n",
       "      <td>0</td>\n",
       "      <td>(41291.333, 101703.667]</td>\n",
       "      <td>(-0.001, 1.0]</td>\n",
       "      <td>(30000.0, 100000.0]</td>\n",
       "      <td>1.0</td>\n",
       "      <td>2</td>\n",
       "      <td>(2.0, 6.0]</td>\n",
       "      <td>(-0.001, 2.0]</td>\n",
       "      <td>0.0</td>\n",
       "      <td>(17500.0, 50250.0]</td>\n",
       "      <td>(60.0, 84.0]</td>\n",
       "      <td>0</td>\n",
       "      <td>(31763.0, 70601.0]</td>\n",
       "    </tr>\n",
       "    <tr>\n",
       "      <th>1</th>\n",
       "      <td>(1961.999, 1998.0]</td>\n",
       "      <td>0.0</td>\n",
       "      <td>1</td>\n",
       "      <td>(-0.001, 1.0]</td>\n",
       "      <td>(-0.001, 1.0]</td>\n",
       "      <td>0</td>\n",
       "      <td>(-0.001, 41291.333]</td>\n",
       "      <td>(-0.001, 1.0]</td>\n",
       "      <td>(30000.0, 100000.0]</td>\n",
       "      <td>1.0</td>\n",
       "      <td>2</td>\n",
       "      <td>(-0.001, 2.0]</td>\n",
       "      <td>(-0.001, 2.0]</td>\n",
       "      <td>0.0</td>\n",
       "      <td>(17500.0, 50250.0]</td>\n",
       "      <td>(-0.001, 60.0]</td>\n",
       "      <td>0</td>\n",
       "      <td>(31763.0, 70601.0]</td>\n",
       "    </tr>\n",
       "    <tr>\n",
       "      <th>2</th>\n",
       "      <td>(1961.999, 1998.0]</td>\n",
       "      <td>0.0</td>\n",
       "      <td>1</td>\n",
       "      <td>(-0.001, 1.0]</td>\n",
       "      <td>(-0.001, 1.0]</td>\n",
       "      <td>0</td>\n",
       "      <td>(101703.667, 4029520.0]</td>\n",
       "      <td>(-0.001, 1.0]</td>\n",
       "      <td>(100000.0, 4000000.0]</td>\n",
       "      <td>0.0</td>\n",
       "      <td>1</td>\n",
       "      <td>(6.0, 9999.0]</td>\n",
       "      <td>(-0.001, 2.0]</td>\n",
       "      <td>0.0</td>\n",
       "      <td>(50250.0, 4000000.0]</td>\n",
       "      <td>(84.0, 480.0]</td>\n",
       "      <td>0</td>\n",
       "      <td>(31763.0, 70601.0]</td>\n",
       "    </tr>\n",
       "    <tr>\n",
       "      <th>3</th>\n",
       "      <td>(1961.999, 1998.0]</td>\n",
       "      <td>0.0</td>\n",
       "      <td>0</td>\n",
       "      <td>(-0.001, 1.0]</td>\n",
       "      <td>(-0.001, 1.0]</td>\n",
       "      <td>0</td>\n",
       "      <td>(-0.001, 41291.333]</td>\n",
       "      <td>(-0.001, 1.0]</td>\n",
       "      <td>(30000.0, 100000.0]</td>\n",
       "      <td>1.0</td>\n",
       "      <td>1</td>\n",
       "      <td>(-0.001, 2.0]</td>\n",
       "      <td>(-0.001, 2.0]</td>\n",
       "      <td>0.0</td>\n",
       "      <td>(17500.0, 50250.0]</td>\n",
       "      <td>(-0.001, 60.0]</td>\n",
       "      <td>0</td>\n",
       "      <td>(70601.0, 99999.0]</td>\n",
       "    </tr>\n",
       "    <tr>\n",
       "      <th>4</th>\n",
       "      <td>(1961.999, 1998.0]</td>\n",
       "      <td>0.0</td>\n",
       "      <td>0</td>\n",
       "      <td>(-0.001, 1.0]</td>\n",
       "      <td>(1.0, 3000.0]</td>\n",
       "      <td>0</td>\n",
       "      <td>(101703.667, 4029520.0]</td>\n",
       "      <td>(-0.001, 1.0]</td>\n",
       "      <td>(100000.0, 4000000.0]</td>\n",
       "      <td>0.0</td>\n",
       "      <td>1</td>\n",
       "      <td>(6.0, 9999.0]</td>\n",
       "      <td>(2.0, 9500.0]</td>\n",
       "      <td>0.0</td>\n",
       "      <td>(50250.0, 4000000.0]</td>\n",
       "      <td>(84.0, 480.0]</td>\n",
       "      <td>0</td>\n",
       "      <td>(31763.0, 70601.0]</td>\n",
       "    </tr>\n",
       "  </tbody>\n",
       "</table>\n",
       "</div>"
      ],
      "text/plain": [
       "           ApprovalFY  BalanceGross  CCSC   ChgOffPrinGr      CreateJob  \\\n",
       "0  (1961.999, 1998.0]           0.0     1  (-0.001, 1.0]  (-0.001, 1.0]   \n",
       "1  (1961.999, 1998.0]           0.0     1  (-0.001, 1.0]  (-0.001, 1.0]   \n",
       "2  (1961.999, 1998.0]           0.0     1  (-0.001, 1.0]  (-0.001, 1.0]   \n",
       "3  (1961.999, 1998.0]           0.0     0  (-0.001, 1.0]  (-0.001, 1.0]   \n",
       "4  (1961.999, 1998.0]           0.0     0  (-0.001, 1.0]  (1.0, 3000.0]   \n",
       "\n",
       "   Default        DisbursementGross  FranchiseCode                 GrAppv  \\\n",
       "0        0  (41291.333, 101703.667]  (-0.001, 1.0]    (30000.0, 100000.0]   \n",
       "1        0      (-0.001, 41291.333]  (-0.001, 1.0]    (30000.0, 100000.0]   \n",
       "2        0  (101703.667, 4029520.0]  (-0.001, 1.0]  (100000.0, 4000000.0]   \n",
       "3        0      (-0.001, 41291.333]  (-0.001, 1.0]    (30000.0, 100000.0]   \n",
       "4        0  (101703.667, 4029520.0]  (-0.001, 1.0]  (100000.0, 4000000.0]   \n",
       "\n",
       "   LowDoc  NewExist          NoEmp    RetainedJob  RevLineCr  \\\n",
       "0     1.0         2     (2.0, 6.0]  (-0.001, 2.0]        0.0   \n",
       "1     1.0         2  (-0.001, 2.0]  (-0.001, 2.0]        0.0   \n",
       "2     0.0         1  (6.0, 9999.0]  (-0.001, 2.0]        0.0   \n",
       "3     1.0         1  (-0.001, 2.0]  (-0.001, 2.0]        0.0   \n",
       "4     0.0         1  (6.0, 9999.0]  (2.0, 9500.0]        0.0   \n",
       "\n",
       "               SBA_Appv            Term  UrbanRural                 Zip  \n",
       "0    (17500.0, 50250.0]    (60.0, 84.0]           0  (31763.0, 70601.0]  \n",
       "1    (17500.0, 50250.0]  (-0.001, 60.0]           0  (31763.0, 70601.0]  \n",
       "2  (50250.0, 4000000.0]   (84.0, 480.0]           0  (31763.0, 70601.0]  \n",
       "3    (17500.0, 50250.0]  (-0.001, 60.0]           0  (70601.0, 99999.0]  \n",
       "4  (50250.0, 4000000.0]   (84.0, 480.0]           0  (31763.0, 70601.0]  "
      ]
     },
     "execution_count": 87,
     "metadata": {},
     "output_type": "execute_result"
    }
   ],
   "source": [
    "clf = MonotonicBinning(custom_binning=output_bins) #output_bins was created earlier\n",
    "\n",
    "out_X = clf.transform(X)\n",
    "out_X.head()"
   ]
  },
  {
   "cell_type": "code",
   "execution_count": 88,
   "metadata": {
    "scrolled": true
   },
   "outputs": [],
   "source": [
    "X = X.mask(np.random.random(X.shape) < .1)"
   ]
  },
  {
   "cell_type": "code",
   "execution_count": 89,
   "metadata": {
    "scrolled": true
   },
   "outputs": [
    {
     "data": {
      "text/html": [
       "<div>\n",
       "<style scoped>\n",
       "    .dataframe tbody tr th:only-of-type {\n",
       "        vertical-align: middle;\n",
       "    }\n",
       "\n",
       "    .dataframe tbody tr th {\n",
       "        vertical-align: top;\n",
       "    }\n",
       "\n",
       "    .dataframe thead th {\n",
       "        text-align: right;\n",
       "    }\n",
       "</style>\n",
       "<table border=\"1\" class=\"dataframe\">\n",
       "  <thead>\n",
       "    <tr style=\"text-align: right;\">\n",
       "      <th></th>\n",
       "      <th>ApprovalFY</th>\n",
       "      <th>BalanceGross</th>\n",
       "      <th>CCSC</th>\n",
       "      <th>ChgOffPrinGr</th>\n",
       "      <th>CreateJob</th>\n",
       "      <th>Default</th>\n",
       "      <th>DisbursementGross</th>\n",
       "      <th>FranchiseCode</th>\n",
       "      <th>GrAppv</th>\n",
       "      <th>LowDoc</th>\n",
       "      <th>NewExist</th>\n",
       "      <th>NoEmp</th>\n",
       "      <th>RetainedJob</th>\n",
       "      <th>RevLineCr</th>\n",
       "      <th>SBA_Appv</th>\n",
       "      <th>Term</th>\n",
       "      <th>UrbanRural</th>\n",
       "      <th>Zip</th>\n",
       "    </tr>\n",
       "  </thead>\n",
       "  <tbody>\n",
       "    <tr>\n",
       "      <th>0</th>\n",
       "      <td>NaN</td>\n",
       "      <td>0.0</td>\n",
       "      <td>NaN</td>\n",
       "      <td>(-0.001, 1.0]</td>\n",
       "      <td>(-0.001, 1.0]</td>\n",
       "      <td>NaN</td>\n",
       "      <td>(41291.333, 101703.667]</td>\n",
       "      <td>NaN</td>\n",
       "      <td>NaN</td>\n",
       "      <td>1.0</td>\n",
       "      <td>2.0</td>\n",
       "      <td>(2.0, 6.0]</td>\n",
       "      <td>(-0.001, 2.0]</td>\n",
       "      <td>0.0</td>\n",
       "      <td>(17500.0, 50250.0]</td>\n",
       "      <td>(60.0, 84.0]</td>\n",
       "      <td>0.0</td>\n",
       "      <td>(31763.0, 70601.0]</td>\n",
       "    </tr>\n",
       "    <tr>\n",
       "      <th>1</th>\n",
       "      <td>(1961.999, 1998.0]</td>\n",
       "      <td>0.0</td>\n",
       "      <td>1.0</td>\n",
       "      <td>(-0.001, 1.0]</td>\n",
       "      <td>NaN</td>\n",
       "      <td>0.0</td>\n",
       "      <td>(-0.001, 41291.333]</td>\n",
       "      <td>(-0.001, 1.0]</td>\n",
       "      <td>NaN</td>\n",
       "      <td>1.0</td>\n",
       "      <td>2.0</td>\n",
       "      <td>(-0.001, 2.0]</td>\n",
       "      <td>(-0.001, 2.0]</td>\n",
       "      <td>0.0</td>\n",
       "      <td>(17500.0, 50250.0]</td>\n",
       "      <td>(-0.001, 60.0]</td>\n",
       "      <td>0.0</td>\n",
       "      <td>(31763.0, 70601.0]</td>\n",
       "    </tr>\n",
       "    <tr>\n",
       "      <th>2</th>\n",
       "      <td>(1961.999, 1998.0]</td>\n",
       "      <td>0.0</td>\n",
       "      <td>1.0</td>\n",
       "      <td>NaN</td>\n",
       "      <td>(-0.001, 1.0]</td>\n",
       "      <td>NaN</td>\n",
       "      <td>(101703.667, 4029520.0]</td>\n",
       "      <td>(-0.001, 1.0]</td>\n",
       "      <td>(100000.0, 4000000.0]</td>\n",
       "      <td>0.0</td>\n",
       "      <td>1.0</td>\n",
       "      <td>(6.0, 9999.0]</td>\n",
       "      <td>(-0.001, 2.0]</td>\n",
       "      <td>0.0</td>\n",
       "      <td>(50250.0, 4000000.0]</td>\n",
       "      <td>(84.0, 480.0]</td>\n",
       "      <td>0.0</td>\n",
       "      <td>(31763.0, 70601.0]</td>\n",
       "    </tr>\n",
       "    <tr>\n",
       "      <th>3</th>\n",
       "      <td>(1961.999, 1998.0]</td>\n",
       "      <td>0.0</td>\n",
       "      <td>0.0</td>\n",
       "      <td>(-0.001, 1.0]</td>\n",
       "      <td>(-0.001, 1.0]</td>\n",
       "      <td>NaN</td>\n",
       "      <td>(-0.001, 41291.333]</td>\n",
       "      <td>(-0.001, 1.0]</td>\n",
       "      <td>(30000.0, 100000.0]</td>\n",
       "      <td>1.0</td>\n",
       "      <td>1.0</td>\n",
       "      <td>(-0.001, 2.0]</td>\n",
       "      <td>(-0.001, 2.0]</td>\n",
       "      <td>0.0</td>\n",
       "      <td>(17500.0, 50250.0]</td>\n",
       "      <td>(-0.001, 60.0]</td>\n",
       "      <td>0.0</td>\n",
       "      <td>(70601.0, 99999.0]</td>\n",
       "    </tr>\n",
       "    <tr>\n",
       "      <th>4</th>\n",
       "      <td>(1961.999, 1998.0]</td>\n",
       "      <td>0.0</td>\n",
       "      <td>0.0</td>\n",
       "      <td>(-0.001, 1.0]</td>\n",
       "      <td>(1.0, 3000.0]</td>\n",
       "      <td>0.0</td>\n",
       "      <td>(101703.667, 4029520.0]</td>\n",
       "      <td>(-0.001, 1.0]</td>\n",
       "      <td>(100000.0, 4000000.0]</td>\n",
       "      <td>0.0</td>\n",
       "      <td>1.0</td>\n",
       "      <td>(6.0, 9999.0]</td>\n",
       "      <td>(2.0, 9500.0]</td>\n",
       "      <td>0.0</td>\n",
       "      <td>NaN</td>\n",
       "      <td>(84.0, 480.0]</td>\n",
       "      <td>0.0</td>\n",
       "      <td>NaN</td>\n",
       "    </tr>\n",
       "  </tbody>\n",
       "</table>\n",
       "</div>"
      ],
      "text/plain": [
       "           ApprovalFY  BalanceGross  CCSC   ChgOffPrinGr      CreateJob  \\\n",
       "0                 NaN           0.0   NaN  (-0.001, 1.0]  (-0.001, 1.0]   \n",
       "1  (1961.999, 1998.0]           0.0   1.0  (-0.001, 1.0]            NaN   \n",
       "2  (1961.999, 1998.0]           0.0   1.0            NaN  (-0.001, 1.0]   \n",
       "3  (1961.999, 1998.0]           0.0   0.0  (-0.001, 1.0]  (-0.001, 1.0]   \n",
       "4  (1961.999, 1998.0]           0.0   0.0  (-0.001, 1.0]  (1.0, 3000.0]   \n",
       "\n",
       "   Default        DisbursementGross  FranchiseCode                 GrAppv  \\\n",
       "0      NaN  (41291.333, 101703.667]            NaN                    NaN   \n",
       "1      0.0      (-0.001, 41291.333]  (-0.001, 1.0]                    NaN   \n",
       "2      NaN  (101703.667, 4029520.0]  (-0.001, 1.0]  (100000.0, 4000000.0]   \n",
       "3      NaN      (-0.001, 41291.333]  (-0.001, 1.0]    (30000.0, 100000.0]   \n",
       "4      0.0  (101703.667, 4029520.0]  (-0.001, 1.0]  (100000.0, 4000000.0]   \n",
       "\n",
       "   LowDoc  NewExist          NoEmp    RetainedJob  RevLineCr  \\\n",
       "0     1.0       2.0     (2.0, 6.0]  (-0.001, 2.0]        0.0   \n",
       "1     1.0       2.0  (-0.001, 2.0]  (-0.001, 2.0]        0.0   \n",
       "2     0.0       1.0  (6.0, 9999.0]  (-0.001, 2.0]        0.0   \n",
       "3     1.0       1.0  (-0.001, 2.0]  (-0.001, 2.0]        0.0   \n",
       "4     0.0       1.0  (6.0, 9999.0]  (2.0, 9500.0]        0.0   \n",
       "\n",
       "               SBA_Appv            Term  UrbanRural                 Zip  \n",
       "0    (17500.0, 50250.0]    (60.0, 84.0]         0.0  (31763.0, 70601.0]  \n",
       "1    (17500.0, 50250.0]  (-0.001, 60.0]         0.0  (31763.0, 70601.0]  \n",
       "2  (50250.0, 4000000.0]   (84.0, 480.0]         0.0  (31763.0, 70601.0]  \n",
       "3    (17500.0, 50250.0]  (-0.001, 60.0]         0.0  (70601.0, 99999.0]  \n",
       "4                   NaN   (84.0, 480.0]         0.0                 NaN  "
      ]
     },
     "execution_count": 89,
     "metadata": {},
     "output_type": "execute_result"
    }
   ],
   "source": [
    "out_X = clf.transform(X)\n",
    "out_X.head()"
   ]
  },
  {
   "cell_type": "code",
   "execution_count": 90,
   "metadata": {
    "scrolled": true
   },
   "outputs": [
    {
     "data": {
      "text/plain": [
       "WOE(exclude_features=None, feature_names='all', mono_cardinality_cutoff=5,\n",
       "    mono_custom_binning={'ApprovalFY': array([1962., 1998., 2006., 2007.]),\n",
       "                         'BalanceGross': array([     0.,  12750., 827875.,     nan]),\n",
       "                         'CCSC': array([ 0.,  1., nan]),\n",
       "                         'ChgOffPrinGr': array([0.000000e+00, 1.000000e+00, 1.999999e+06]),\n",
       "                         'CreateJob': array([0.e+00, 1.e+00, 3.e+03]),\n",
       "                         'Default': array([ 0.,  1., nan]),\n",
       "                         'Disb...\n",
       "                       'NA': -0.011521674553624564},\n",
       "              'UrbanRural': {0.0: 1.0843465442178053, 1.0: -0.4536845519684273,\n",
       "                             2.0: -0.05812536276218578,\n",
       "                             'NA': 0.024571509353740594},\n",
       "              'Zip': {Interval(-0.001, 31709.0, closed='right'): 0.031234812409301874,\n",
       "                      Interval(31709.0, 70582.0, closed='right'): -0.05530685716310654,\n",
       "                      Interval(70582.0, 99999.0, closed='right'): 0.02448437883286041,\n",
       "                      'NA': 0.0019937432726009376}},\n",
       "    woe_prefix=None)"
      ]
     },
     "execution_count": 90,
     "metadata": {},
     "output_type": "execute_result"
    }
   ],
   "source": [
    "\n",
    "from xverse.transformer import WOE\n",
    "\n",
    "clf = WOE()\n",
    "clf.fit(X, y)"
   ]
  },
  {
   "cell_type": "code",
   "execution_count": 91,
   "metadata": {
    "scrolled": true
   },
   "outputs": [
    {
     "data": {
      "text/html": [
       "<div>\n",
       "<style scoped>\n",
       "    .dataframe tbody tr th:only-of-type {\n",
       "        vertical-align: middle;\n",
       "    }\n",
       "\n",
       "    .dataframe tbody tr th {\n",
       "        vertical-align: top;\n",
       "    }\n",
       "\n",
       "    .dataframe thead th {\n",
       "        text-align: right;\n",
       "    }\n",
       "</style>\n",
       "<table border=\"1\" class=\"dataframe\">\n",
       "  <thead>\n",
       "    <tr style=\"text-align: right;\">\n",
       "      <th></th>\n",
       "      <th>Variable_Name</th>\n",
       "      <th>Category</th>\n",
       "      <th>Count</th>\n",
       "      <th>Event</th>\n",
       "      <th>Non_Event</th>\n",
       "      <th>Event_Rate</th>\n",
       "      <th>Non_Event_Rate</th>\n",
       "      <th>Event_Distribution</th>\n",
       "      <th>Non_Event_Distribution</th>\n",
       "      <th>WOE</th>\n",
       "      <th>Information_Value</th>\n",
       "    </tr>\n",
       "  </thead>\n",
       "  <tbody>\n",
       "    <tr>\n",
       "      <th>0</th>\n",
       "      <td>ApprovalFY</td>\n",
       "      <td>(1961.999, 1998.0]</td>\n",
       "      <td>46306</td>\n",
       "      <td>41344.0</td>\n",
       "      <td>4962.0</td>\n",
       "      <td>0.892843</td>\n",
       "      <td>0.107157</td>\n",
       "      <td>0.375435</td>\n",
       "      <td>0.124436</td>\n",
       "      <td>1.104295</td>\n",
       "      <td>0.379606</td>\n",
       "    </tr>\n",
       "    <tr>\n",
       "      <th>1</th>\n",
       "      <td>ApprovalFY</td>\n",
       "      <td>(1998.0, 2006.0]</td>\n",
       "      <td>85414</td>\n",
       "      <td>55970.0</td>\n",
       "      <td>29444.0</td>\n",
       "      <td>0.655279</td>\n",
       "      <td>0.344721</td>\n",
       "      <td>0.508250</td>\n",
       "      <td>0.738389</td>\n",
       "      <td>-0.373498</td>\n",
       "      <td>0.379606</td>\n",
       "    </tr>\n",
       "    <tr>\n",
       "      <th>2</th>\n",
       "      <td>ApprovalFY</td>\n",
       "      <td>(2006.0, 2007.0]</td>\n",
       "      <td>3149</td>\n",
       "      <td>1726.0</td>\n",
       "      <td>1423.0</td>\n",
       "      <td>0.548111</td>\n",
       "      <td>0.451889</td>\n",
       "      <td>0.015673</td>\n",
       "      <td>0.035686</td>\n",
       "      <td>-0.822784</td>\n",
       "      <td>0.379606</td>\n",
       "    </tr>\n",
       "    <tr>\n",
       "      <th>3</th>\n",
       "      <td>ApprovalFY</td>\n",
       "      <td>NA</td>\n",
       "      <td>15130</td>\n",
       "      <td>11083.0</td>\n",
       "      <td>4047.0</td>\n",
       "      <td>0.732518</td>\n",
       "      <td>0.267482</td>\n",
       "      <td>0.100642</td>\n",
       "      <td>0.101490</td>\n",
       "      <td>-0.008387</td>\n",
       "      <td>0.379606</td>\n",
       "    </tr>\n",
       "    <tr>\n",
       "      <th>4</th>\n",
       "      <td>BalanceGross</td>\n",
       "      <td>0</td>\n",
       "      <td>135097</td>\n",
       "      <td>99122.0</td>\n",
       "      <td>35975.0</td>\n",
       "      <td>0.733710</td>\n",
       "      <td>0.266290</td>\n",
       "      <td>0.900103</td>\n",
       "      <td>0.902172</td>\n",
       "      <td>-0.002296</td>\n",
       "      <td>0.000047</td>\n",
       "    </tr>\n",
       "    <tr>\n",
       "      <th>5</th>\n",
       "      <td>BalanceGross</td>\n",
       "      <td>12750</td>\n",
       "      <td>1</td>\n",
       "      <td>1.0</td>\n",
       "      <td>0.0</td>\n",
       "      <td>1.000000</td>\n",
       "      <td>0.000000</td>\n",
       "      <td>0.000009</td>\n",
       "      <td>0.000000</td>\n",
       "      <td>0.000000</td>\n",
       "      <td>0.000047</td>\n",
       "    </tr>\n",
       "    <tr>\n",
       "      <th>6</th>\n",
       "      <td>BalanceGross</td>\n",
       "      <td>827875</td>\n",
       "      <td>1</td>\n",
       "      <td>1.0</td>\n",
       "      <td>0.0</td>\n",
       "      <td>1.000000</td>\n",
       "      <td>0.000000</td>\n",
       "      <td>0.000009</td>\n",
       "      <td>0.000000</td>\n",
       "      <td>0.000000</td>\n",
       "      <td>0.000047</td>\n",
       "    </tr>\n",
       "    <tr>\n",
       "      <th>7</th>\n",
       "      <td>BalanceGross</td>\n",
       "      <td>NA</td>\n",
       "      <td>14900</td>\n",
       "      <td>10999.0</td>\n",
       "      <td>3901.0</td>\n",
       "      <td>0.738188</td>\n",
       "      <td>0.261812</td>\n",
       "      <td>0.099879</td>\n",
       "      <td>0.097828</td>\n",
       "      <td>0.020748</td>\n",
       "      <td>0.000047</td>\n",
       "    </tr>\n",
       "    <tr>\n",
       "      <th>8</th>\n",
       "      <td>CCSC</td>\n",
       "      <td>0</td>\n",
       "      <td>28637</td>\n",
       "      <td>24839.0</td>\n",
       "      <td>3798.0</td>\n",
       "      <td>0.867374</td>\n",
       "      <td>0.132626</td>\n",
       "      <td>0.225557</td>\n",
       "      <td>0.095245</td>\n",
       "      <td>0.862117</td>\n",
       "      <td>0.136143</td>\n",
       "    </tr>\n",
       "    <tr>\n",
       "      <th>9</th>\n",
       "      <td>CCSC</td>\n",
       "      <td>1</td>\n",
       "      <td>106245</td>\n",
       "      <td>74126.0</td>\n",
       "      <td>32119.0</td>\n",
       "      <td>0.697689</td>\n",
       "      <td>0.302311</td>\n",
       "      <td>0.673120</td>\n",
       "      <td>0.805472</td>\n",
       "      <td>-0.179505</td>\n",
       "      <td>0.136143</td>\n",
       "    </tr>\n",
       "  </tbody>\n",
       "</table>\n",
       "</div>"
      ],
      "text/plain": [
       "  Variable_Name            Category   Count    Event  Non_Event  Event_Rate  \\\n",
       "0    ApprovalFY  (1961.999, 1998.0]   46306  41344.0     4962.0    0.892843   \n",
       "1    ApprovalFY    (1998.0, 2006.0]   85414  55970.0    29444.0    0.655279   \n",
       "2    ApprovalFY    (2006.0, 2007.0]    3149   1726.0     1423.0    0.548111   \n",
       "3    ApprovalFY                  NA   15130  11083.0     4047.0    0.732518   \n",
       "4  BalanceGross                   0  135097  99122.0    35975.0    0.733710   \n",
       "5  BalanceGross               12750       1      1.0        0.0    1.000000   \n",
       "6  BalanceGross              827875       1      1.0        0.0    1.000000   \n",
       "7  BalanceGross                  NA   14900  10999.0     3901.0    0.738188   \n",
       "8          CCSC                   0   28637  24839.0     3798.0    0.867374   \n",
       "9          CCSC                   1  106245  74126.0    32119.0    0.697689   \n",
       "\n",
       "   Non_Event_Rate  Event_Distribution  Non_Event_Distribution       WOE  \\\n",
       "0        0.107157            0.375435                0.124436  1.104295   \n",
       "1        0.344721            0.508250                0.738389 -0.373498   \n",
       "2        0.451889            0.015673                0.035686 -0.822784   \n",
       "3        0.267482            0.100642                0.101490 -0.008387   \n",
       "4        0.266290            0.900103                0.902172 -0.002296   \n",
       "5        0.000000            0.000009                0.000000  0.000000   \n",
       "6        0.000000            0.000009                0.000000  0.000000   \n",
       "7        0.261812            0.099879                0.097828  0.020748   \n",
       "8        0.132626            0.225557                0.095245  0.862117   \n",
       "9        0.302311            0.673120                0.805472 -0.179505   \n",
       "\n",
       "   Information_Value  \n",
       "0           0.379606  \n",
       "1           0.379606  \n",
       "2           0.379606  \n",
       "3           0.379606  \n",
       "4           0.000047  \n",
       "5           0.000047  \n",
       "6           0.000047  \n",
       "7           0.000047  \n",
       "8           0.136143  \n",
       "9           0.136143  "
      ]
     },
     "execution_count": 91,
     "metadata": {},
     "output_type": "execute_result"
    }
   ],
   "source": [
    "\n",
    "clf.woe_df.head(10)"
   ]
  },
  {
   "cell_type": "code",
   "execution_count": 92,
   "metadata": {
    "scrolled": true
   },
   "outputs": [
    {
     "data": {
      "text/html": [
       "<div>\n",
       "<style scoped>\n",
       "    .dataframe tbody tr th:only-of-type {\n",
       "        vertical-align: middle;\n",
       "    }\n",
       "\n",
       "    .dataframe tbody tr th {\n",
       "        vertical-align: top;\n",
       "    }\n",
       "\n",
       "    .dataframe thead th {\n",
       "        text-align: right;\n",
       "    }\n",
       "</style>\n",
       "<table border=\"1\" class=\"dataframe\">\n",
       "  <thead>\n",
       "    <tr style=\"text-align: right;\">\n",
       "      <th></th>\n",
       "      <th>Variable_Name</th>\n",
       "      <th>Information_Value</th>\n",
       "    </tr>\n",
       "  </thead>\n",
       "  <tbody>\n",
       "    <tr>\n",
       "      <th>3</th>\n",
       "      <td>ChgOffPrinGr</td>\n",
       "      <td>7.149690</td>\n",
       "    </tr>\n",
       "    <tr>\n",
       "      <th>15</th>\n",
       "      <td>Term</td>\n",
       "      <td>1.115345</td>\n",
       "    </tr>\n",
       "    <tr>\n",
       "      <th>16</th>\n",
       "      <td>UrbanRural</td>\n",
       "      <td>0.380479</td>\n",
       "    </tr>\n",
       "    <tr>\n",
       "      <th>0</th>\n",
       "      <td>ApprovalFY</td>\n",
       "      <td>0.379606</td>\n",
       "    </tr>\n",
       "    <tr>\n",
       "      <th>14</th>\n",
       "      <td>SBA_Appv</td>\n",
       "      <td>0.197616</td>\n",
       "    </tr>\n",
       "    <tr>\n",
       "      <th>8</th>\n",
       "      <td>GrAppv</td>\n",
       "      <td>0.138999</td>\n",
       "    </tr>\n",
       "    <tr>\n",
       "      <th>2</th>\n",
       "      <td>CCSC</td>\n",
       "      <td>0.136143</td>\n",
       "    </tr>\n",
       "    <tr>\n",
       "      <th>9</th>\n",
       "      <td>LowDoc</td>\n",
       "      <td>0.106533</td>\n",
       "    </tr>\n",
       "    <tr>\n",
       "      <th>12</th>\n",
       "      <td>RetainedJob</td>\n",
       "      <td>0.089671</td>\n",
       "    </tr>\n",
       "    <tr>\n",
       "      <th>6</th>\n",
       "      <td>DisbursementGross</td>\n",
       "      <td>0.051155</td>\n",
       "    </tr>\n",
       "    <tr>\n",
       "      <th>11</th>\n",
       "      <td>NoEmp</td>\n",
       "      <td>0.043359</td>\n",
       "    </tr>\n",
       "    <tr>\n",
       "      <th>4</th>\n",
       "      <td>CreateJob</td>\n",
       "      <td>0.009277</td>\n",
       "    </tr>\n",
       "    <tr>\n",
       "      <th>7</th>\n",
       "      <td>FranchiseCode</td>\n",
       "      <td>0.008788</td>\n",
       "    </tr>\n",
       "    <tr>\n",
       "      <th>13</th>\n",
       "      <td>RevLineCr</td>\n",
       "      <td>0.007244</td>\n",
       "    </tr>\n",
       "    <tr>\n",
       "      <th>10</th>\n",
       "      <td>NewExist</td>\n",
       "      <td>0.005680</td>\n",
       "    </tr>\n",
       "    <tr>\n",
       "      <th>17</th>\n",
       "      <td>Zip</td>\n",
       "      <td>0.001400</td>\n",
       "    </tr>\n",
       "    <tr>\n",
       "      <th>5</th>\n",
       "      <td>Default</td>\n",
       "      <td>0.000055</td>\n",
       "    </tr>\n",
       "    <tr>\n",
       "      <th>1</th>\n",
       "      <td>BalanceGross</td>\n",
       "      <td>0.000047</td>\n",
       "    </tr>\n",
       "  </tbody>\n",
       "</table>\n",
       "</div>"
      ],
      "text/plain": [
       "        Variable_Name  Information_Value\n",
       "3        ChgOffPrinGr           7.149690\n",
       "15               Term           1.115345\n",
       "16         UrbanRural           0.380479\n",
       "0          ApprovalFY           0.379606\n",
       "14           SBA_Appv           0.197616\n",
       "8              GrAppv           0.138999\n",
       "2                CCSC           0.136143\n",
       "9              LowDoc           0.106533\n",
       "12        RetainedJob           0.089671\n",
       "6   DisbursementGross           0.051155\n",
       "11              NoEmp           0.043359\n",
       "4           CreateJob           0.009277\n",
       "7       FranchiseCode           0.008788\n",
       "13          RevLineCr           0.007244\n",
       "10           NewExist           0.005680\n",
       "17                Zip           0.001400\n",
       "5             Default           0.000055\n",
       "1        BalanceGross           0.000047"
      ]
     },
     "execution_count": 92,
     "metadata": {},
     "output_type": "execute_result"
    }
   ],
   "source": [
    "clf.iv_df"
   ]
  },
  {
   "cell_type": "code",
   "execution_count": 93,
   "metadata": {
    "scrolled": true
   },
   "outputs": [
    {
     "data": {
      "text/html": [
       "<div>\n",
       "<style scoped>\n",
       "    .dataframe tbody tr th:only-of-type {\n",
       "        vertical-align: middle;\n",
       "    }\n",
       "\n",
       "    .dataframe tbody tr th {\n",
       "        vertical-align: top;\n",
       "    }\n",
       "\n",
       "    .dataframe thead th {\n",
       "        text-align: right;\n",
       "    }\n",
       "</style>\n",
       "<table border=\"1\" class=\"dataframe\">\n",
       "  <thead>\n",
       "    <tr style=\"text-align: right;\">\n",
       "      <th></th>\n",
       "      <th>Zip</th>\n",
       "      <th>CCSC</th>\n",
       "      <th>ApprovalFY</th>\n",
       "      <th>Term</th>\n",
       "      <th>NoEmp</th>\n",
       "      <th>NewExist</th>\n",
       "      <th>CreateJob</th>\n",
       "      <th>RetainedJob</th>\n",
       "      <th>FranchiseCode</th>\n",
       "      <th>UrbanRural</th>\n",
       "      <th>RevLineCr</th>\n",
       "      <th>LowDoc</th>\n",
       "      <th>DisbursementGross</th>\n",
       "      <th>BalanceGross</th>\n",
       "      <th>MIS_Status</th>\n",
       "      <th>ChgOffPrinGr</th>\n",
       "      <th>GrAppv</th>\n",
       "      <th>SBA_Appv</th>\n",
       "      <th>Default</th>\n",
       "    </tr>\n",
       "  </thead>\n",
       "  <tbody>\n",
       "    <tr>\n",
       "      <th>count</th>\n",
       "      <td>149999.000000</td>\n",
       "      <td>149999.000000</td>\n",
       "      <td>149999.000000</td>\n",
       "      <td>149999.000000</td>\n",
       "      <td>149999.000000</td>\n",
       "      <td>149999.000000</td>\n",
       "      <td>149999.000000</td>\n",
       "      <td>149999.000000</td>\n",
       "      <td>149999.000000</td>\n",
       "      <td>149999.000000</td>\n",
       "      <td>149999.000000</td>\n",
       "      <td>149999.000000</td>\n",
       "      <td>1.499990e+05</td>\n",
       "      <td>149999.000000</td>\n",
       "      <td>149999.000000</td>\n",
       "      <td>1.499990e+05</td>\n",
       "      <td>1.499990e+05</td>\n",
       "      <td>1.499990e+05</td>\n",
       "      <td>149999.000000</td>\n",
       "    </tr>\n",
       "    <tr>\n",
       "      <th>mean</th>\n",
       "      <td>49849.046527</td>\n",
       "      <td>0.787752</td>\n",
       "      <td>2002.302889</td>\n",
       "      <td>93.010887</td>\n",
       "      <td>9.313749</td>\n",
       "      <td>1.319535</td>\n",
       "      <td>1.278455</td>\n",
       "      <td>3.685918</td>\n",
       "      <td>1655.999787</td>\n",
       "      <td>0.767905</td>\n",
       "      <td>0.332542</td>\n",
       "      <td>0.080294</td>\n",
       "      <td>1.412937e+05</td>\n",
       "      <td>5.604204</td>\n",
       "      <td>0.734158</td>\n",
       "      <td>1.505716e+04</td>\n",
       "      <td>1.276918e+05</td>\n",
       "      <td>9.250016e+04</td>\n",
       "      <td>0.334189</td>\n",
       "    </tr>\n",
       "    <tr>\n",
       "      <th>std</th>\n",
       "      <td>31159.635854</td>\n",
       "      <td>0.408901</td>\n",
       "      <td>5.212507</td>\n",
       "      <td>69.306154</td>\n",
       "      <td>78.956632</td>\n",
       "      <td>0.468125</td>\n",
       "      <td>10.958749</td>\n",
       "      <td>27.679464</td>\n",
       "      <td>9956.791183</td>\n",
       "      <td>0.633091</td>\n",
       "      <td>0.471126</td>\n",
       "      <td>0.271749</td>\n",
       "      <td>2.185792e+05</td>\n",
       "      <td>2137.824451</td>\n",
       "      <td>0.441782</td>\n",
       "      <td>5.710400e+04</td>\n",
       "      <td>2.142117e+05</td>\n",
       "      <td>1.664169e+05</td>\n",
       "      <td>0.471708</td>\n",
       "    </tr>\n",
       "    <tr>\n",
       "      <th>min</th>\n",
       "      <td>0.000000</td>\n",
       "      <td>0.000000</td>\n",
       "      <td>1962.000000</td>\n",
       "      <td>0.000000</td>\n",
       "      <td>0.000000</td>\n",
       "      <td>0.000000</td>\n",
       "      <td>0.000000</td>\n",
       "      <td>0.000000</td>\n",
       "      <td>0.000000</td>\n",
       "      <td>0.000000</td>\n",
       "      <td>0.000000</td>\n",
       "      <td>0.000000</td>\n",
       "      <td>0.000000e+00</td>\n",
       "      <td>0.000000</td>\n",
       "      <td>0.000000</td>\n",
       "      <td>0.000000e+00</td>\n",
       "      <td>2.000000e+02</td>\n",
       "      <td>1.000000e+02</td>\n",
       "      <td>0.000000</td>\n",
       "    </tr>\n",
       "    <tr>\n",
       "      <th>25%</th>\n",
       "      <td>20854.000000</td>\n",
       "      <td>1.000000</td>\n",
       "      <td>1998.000000</td>\n",
       "      <td>57.000000</td>\n",
       "      <td>2.000000</td>\n",
       "      <td>1.000000</td>\n",
       "      <td>0.000000</td>\n",
       "      <td>0.000000</td>\n",
       "      <td>0.000000</td>\n",
       "      <td>0.000000</td>\n",
       "      <td>0.000000</td>\n",
       "      <td>0.000000</td>\n",
       "      <td>3.000000e+04</td>\n",
       "      <td>0.000000</td>\n",
       "      <td>0.000000</td>\n",
       "      <td>0.000000e+00</td>\n",
       "      <td>2.500000e+04</td>\n",
       "      <td>1.250000e+04</td>\n",
       "      <td>0.000000</td>\n",
       "    </tr>\n",
       "    <tr>\n",
       "      <th>50%</th>\n",
       "      <td>48053.000000</td>\n",
       "      <td>1.000000</td>\n",
       "      <td>2005.000000</td>\n",
       "      <td>84.000000</td>\n",
       "      <td>4.000000</td>\n",
       "      <td>1.000000</td>\n",
       "      <td>0.000000</td>\n",
       "      <td>1.000000</td>\n",
       "      <td>1.000000</td>\n",
       "      <td>1.000000</td>\n",
       "      <td>0.000000</td>\n",
       "      <td>0.000000</td>\n",
       "      <td>6.550000e+04</td>\n",
       "      <td>0.000000</td>\n",
       "      <td>1.000000</td>\n",
       "      <td>0.000000e+00</td>\n",
       "      <td>5.000000e+04</td>\n",
       "      <td>2.500000e+04</td>\n",
       "      <td>0.000000</td>\n",
       "    </tr>\n",
       "    <tr>\n",
       "      <th>75%</th>\n",
       "      <td>80003.000000</td>\n",
       "      <td>1.000000</td>\n",
       "      <td>2006.000000</td>\n",
       "      <td>84.000000</td>\n",
       "      <td>8.000000</td>\n",
       "      <td>2.000000</td>\n",
       "      <td>0.000000</td>\n",
       "      <td>4.000000</td>\n",
       "      <td>1.000000</td>\n",
       "      <td>1.000000</td>\n",
       "      <td>1.000000</td>\n",
       "      <td>0.000000</td>\n",
       "      <td>1.500000e+05</td>\n",
       "      <td>0.000000</td>\n",
       "      <td>1.000000</td>\n",
       "      <td>6.003000e+03</td>\n",
       "      <td>1.200000e+05</td>\n",
       "      <td>8.000000e+04</td>\n",
       "      <td>1.000000</td>\n",
       "    </tr>\n",
       "    <tr>\n",
       "      <th>max</th>\n",
       "      <td>99999.000000</td>\n",
       "      <td>1.000000</td>\n",
       "      <td>2007.000000</td>\n",
       "      <td>480.000000</td>\n",
       "      <td>9999.000000</td>\n",
       "      <td>2.000000</td>\n",
       "      <td>3000.000000</td>\n",
       "      <td>9500.000000</td>\n",
       "      <td>91999.000000</td>\n",
       "      <td>2.000000</td>\n",
       "      <td>1.000000</td>\n",
       "      <td>1.000000</td>\n",
       "      <td>4.029520e+06</td>\n",
       "      <td>827875.000000</td>\n",
       "      <td>1.000000</td>\n",
       "      <td>1.999999e+06</td>\n",
       "      <td>4.000000e+06</td>\n",
       "      <td>4.000000e+06</td>\n",
       "      <td>1.000000</td>\n",
       "    </tr>\n",
       "  </tbody>\n",
       "</table>\n",
       "</div>"
      ],
      "text/plain": [
       "                 Zip           CCSC     ApprovalFY           Term  \\\n",
       "count  149999.000000  149999.000000  149999.000000  149999.000000   \n",
       "mean    49849.046527       0.787752    2002.302889      93.010887   \n",
       "std     31159.635854       0.408901       5.212507      69.306154   \n",
       "min         0.000000       0.000000    1962.000000       0.000000   \n",
       "25%     20854.000000       1.000000    1998.000000      57.000000   \n",
       "50%     48053.000000       1.000000    2005.000000      84.000000   \n",
       "75%     80003.000000       1.000000    2006.000000      84.000000   \n",
       "max     99999.000000       1.000000    2007.000000     480.000000   \n",
       "\n",
       "               NoEmp       NewExist      CreateJob    RetainedJob  \\\n",
       "count  149999.000000  149999.000000  149999.000000  149999.000000   \n",
       "mean        9.313749       1.319535       1.278455       3.685918   \n",
       "std        78.956632       0.468125      10.958749      27.679464   \n",
       "min         0.000000       0.000000       0.000000       0.000000   \n",
       "25%         2.000000       1.000000       0.000000       0.000000   \n",
       "50%         4.000000       1.000000       0.000000       1.000000   \n",
       "75%         8.000000       2.000000       0.000000       4.000000   \n",
       "max      9999.000000       2.000000    3000.000000    9500.000000   \n",
       "\n",
       "       FranchiseCode     UrbanRural      RevLineCr         LowDoc  \\\n",
       "count  149999.000000  149999.000000  149999.000000  149999.000000   \n",
       "mean     1655.999787       0.767905       0.332542       0.080294   \n",
       "std      9956.791183       0.633091       0.471126       0.271749   \n",
       "min         0.000000       0.000000       0.000000       0.000000   \n",
       "25%         0.000000       0.000000       0.000000       0.000000   \n",
       "50%         1.000000       1.000000       0.000000       0.000000   \n",
       "75%         1.000000       1.000000       1.000000       0.000000   \n",
       "max     91999.000000       2.000000       1.000000       1.000000   \n",
       "\n",
       "       DisbursementGross   BalanceGross     MIS_Status  ChgOffPrinGr  \\\n",
       "count       1.499990e+05  149999.000000  149999.000000  1.499990e+05   \n",
       "mean        1.412937e+05       5.604204       0.734158  1.505716e+04   \n",
       "std         2.185792e+05    2137.824451       0.441782  5.710400e+04   \n",
       "min         0.000000e+00       0.000000       0.000000  0.000000e+00   \n",
       "25%         3.000000e+04       0.000000       0.000000  0.000000e+00   \n",
       "50%         6.550000e+04       0.000000       1.000000  0.000000e+00   \n",
       "75%         1.500000e+05       0.000000       1.000000  6.003000e+03   \n",
       "max         4.029520e+06  827875.000000       1.000000  1.999999e+06   \n",
       "\n",
       "             GrAppv      SBA_Appv        Default  \n",
       "count  1.499990e+05  1.499990e+05  149999.000000  \n",
       "mean   1.276918e+05  9.250016e+04       0.334189  \n",
       "std    2.142117e+05  1.664169e+05       0.471708  \n",
       "min    2.000000e+02  1.000000e+02       0.000000  \n",
       "25%    2.500000e+04  1.250000e+04       0.000000  \n",
       "50%    5.000000e+04  2.500000e+04       0.000000  \n",
       "75%    1.200000e+05  8.000000e+04       1.000000  \n",
       "max    4.000000e+06  4.000000e+06       1.000000  "
      ]
     },
     "execution_count": 93,
     "metadata": {},
     "output_type": "execute_result"
    }
   ],
   "source": [
    "df_data1.describe()"
   ]
  },
  {
   "cell_type": "code",
   "execution_count": 94,
   "metadata": {
    "scrolled": true
   },
   "outputs": [
    {
     "data": {
      "text/plain": [
       "Name                  object\n",
       "City                  object\n",
       "State                 object\n",
       "Zip                    int64\n",
       "Bank                  object\n",
       "BankState             object\n",
       "CCSC                   int64\n",
       "ApprovalDate          object\n",
       "ApprovalFY             int64\n",
       "Term                   int64\n",
       "NoEmp                  int64\n",
       "NewExist               int64\n",
       "CreateJob              int64\n",
       "RetainedJob            int64\n",
       "FranchiseCode          int64\n",
       "UrbanRural             int64\n",
       "RevLineCr            float64\n",
       "LowDoc               float64\n",
       "ChgOffDate            object\n",
       "DisbursementDate      object\n",
       "DisbursementGross    float64\n",
       "BalanceGross         float64\n",
       "MIS_Status           float64\n",
       "ChgOffPrinGr         float64\n",
       "GrAppv               float64\n",
       "SBA_Appv             float64\n",
       "Default                int64\n",
       "dtype: object"
      ]
     },
     "execution_count": 94,
     "metadata": {},
     "output_type": "execute_result"
    }
   ],
   "source": [
    "df_data1.dtypes"
   ]
  },
  {
   "cell_type": "code",
   "execution_count": 95,
   "metadata": {
    "scrolled": true
   },
   "outputs": [],
   "source": [
    "#anomaly detection i.e find out outliers in numeric variables and treat them (if any).\n"
   ]
  },
  {
   "cell_type": "code",
   "execution_count": 96,
   "metadata": {
    "scrolled": true
   },
   "outputs": [
    {
     "data": {
      "text/plain": [
       "<matplotlib.axes._subplots.AxesSubplot at 0x21264c45400>"
      ]
     },
     "execution_count": 96,
     "metadata": {},
     "output_type": "execute_result"
    },
    {
     "data": {
      "image/png": "[encoded data removed]",
      "text/plain": [
       "<Figure size 432x288 with 1 Axes>"
      ]
     },
     "metadata": {
      "needs_background": "light"
     },
     "output_type": "display_data"
    }
   ],
   "source": [
    "df_data1.boxplot(column='NoEmp',by='Default')"
   ]
  },
  {
   "cell_type": "code",
   "execution_count": 97,
   "metadata": {
    "scrolled": true
   },
   "outputs": [
    {
     "data": {
      "text/plain": [
       "<matplotlib.axes._subplots.AxesSubplot at 0x21264ca1908>"
      ]
     },
     "execution_count": 97,
     "metadata": {},
     "output_type": "execute_result"
    },
    {
     "data": {
      "image/png": "[encoded data removed]",
      "text/plain": [
       "<Figure size 432x288 with 1 Axes>"
      ]
     },
     "metadata": {
      "needs_background": "light"
     },
     "output_type": "display_data"
    }
   ],
   "source": [
    "df_data1.boxplot(column='DisbursementGross', by = 'MIS_Status')"
   ]
  },
  {
   "cell_type": "code",
   "execution_count": 98,
   "metadata": {
    "scrolled": true
   },
   "outputs": [
    {
     "data": {
      "text/plain": [
       "<matplotlib.axes._subplots.AxesSubplot at 0x21204b0a780>"
      ]
     },
     "execution_count": 98,
     "metadata": {},
     "output_type": "execute_result"
    },
    {
     "data": {
      "image/png": "[encoded data removed]",
      "text/plain": [
       "<Figure size 432x288 with 1 Axes>"
      ]
     },
     "metadata": {
      "needs_background": "light"
     },
     "output_type": "display_data"
    }
   ],
   "source": [
    "df_data1.boxplot(column = \"GrAppv\",by = \"MIS_Status\")"
   ]
  },
  {
   "cell_type": "code",
   "execution_count": 99,
   "metadata": {
    "scrolled": true
   },
   "outputs": [
    {
     "data": {
      "text/plain": [
       "<matplotlib.axes._subplots.AxesSubplot at 0x21277ae6208>"
      ]
     },
     "execution_count": 99,
     "metadata": {},
     "output_type": "execute_result"
    },
    {
     "data": {
      "image/png": "[encoded data removed]",
      "text/plain": [
       "<Figure size 432x288 with 1 Axes>"
      ]
     },
     "metadata": {
      "needs_background": "light"
     },
     "output_type": "display_data"
    }
   ],
   "source": [
    "df_data1.boxplot(column = \"BalanceGross\",by = \"MIS_Status\")"
   ]
  },
  {
   "cell_type": "code",
   "execution_count": 100,
   "metadata": {
    "scrolled": true
   },
   "outputs": [],
   "source": [
    "#Now check some collinearity bw variables\n"
   ]
  },
  {
   "cell_type": "code",
   "execution_count": 101,
   "metadata": {
    "scrolled": false
   },
   "outputs": [
    {
     "data": {
      "text/html": [
       "<div>\n",
       "<style scoped>\n",
       "    .dataframe tbody tr th:only-of-type {\n",
       "        vertical-align: middle;\n",
       "    }\n",
       "\n",
       "    .dataframe tbody tr th {\n",
       "        vertical-align: top;\n",
       "    }\n",
       "\n",
       "    .dataframe thead th {\n",
       "        text-align: right;\n",
       "    }\n",
       "</style>\n",
       "<table border=\"1\" class=\"dataframe\">\n",
       "  <thead>\n",
       "    <tr style=\"text-align: right;\">\n",
       "      <th></th>\n",
       "      <th>Zip</th>\n",
       "      <th>CCSC</th>\n",
       "      <th>ApprovalFY</th>\n",
       "      <th>Term</th>\n",
       "      <th>NoEmp</th>\n",
       "      <th>NewExist</th>\n",
       "      <th>CreateJob</th>\n",
       "      <th>RetainedJob</th>\n",
       "      <th>FranchiseCode</th>\n",
       "      <th>UrbanRural</th>\n",
       "      <th>RevLineCr</th>\n",
       "      <th>LowDoc</th>\n",
       "      <th>DisbursementGross</th>\n",
       "      <th>BalanceGross</th>\n",
       "      <th>MIS_Status</th>\n",
       "      <th>ChgOffPrinGr</th>\n",
       "      <th>GrAppv</th>\n",
       "      <th>SBA_Appv</th>\n",
       "      <th>Default</th>\n",
       "    </tr>\n",
       "  </thead>\n",
       "  <tbody>\n",
       "    <tr>\n",
       "      <th>Zip</th>\n",
       "      <td>1.000000</td>\n",
       "      <td>-0.075084</td>\n",
       "      <td>-0.095580</td>\n",
       "      <td>0.148118</td>\n",
       "      <td>0.014771</td>\n",
       "      <td>-0.079057</td>\n",
       "      <td>0.014648</td>\n",
       "      <td>-0.000395</td>\n",
       "      <td>0.018416</td>\n",
       "      <td>-0.110019</td>\n",
       "      <td>0.010451</td>\n",
       "      <td>-0.012643</td>\n",
       "      <td>0.104686</td>\n",
       "      <td>0.001677</td>\n",
       "      <td>0.004295</td>\n",
       "      <td>0.025156</td>\n",
       "      <td>0.106495</td>\n",
       "      <td>0.116512</td>\n",
       "      <td>0.001039</td>\n",
       "    </tr>\n",
       "    <tr>\n",
       "      <th>CCSC</th>\n",
       "      <td>-0.075084</td>\n",
       "      <td>1.000000</td>\n",
       "      <td>0.705950</td>\n",
       "      <td>-0.353859</td>\n",
       "      <td>-0.049409</td>\n",
       "      <td>0.001256</td>\n",
       "      <td>0.010357</td>\n",
       "      <td>0.050399</td>\n",
       "      <td>-0.116234</td>\n",
       "      <td>0.619358</td>\n",
       "      <td>0.309769</td>\n",
       "      <td>-0.258508</td>\n",
       "      <td>-0.198698</td>\n",
       "      <td>0.001361</td>\n",
       "      <td>-0.156759</td>\n",
       "      <td>0.001335</td>\n",
       "      <td>-0.241268</td>\n",
       "      <td>-0.268012</td>\n",
       "      <td>-0.001052</td>\n",
       "    </tr>\n",
       "    <tr>\n",
       "      <th>ApprovalFY</th>\n",
       "      <td>-0.095580</td>\n",
       "      <td>0.705950</td>\n",
       "      <td>1.000000</td>\n",
       "      <td>-0.447960</td>\n",
       "      <td>-0.069961</td>\n",
       "      <td>0.027610</td>\n",
       "      <td>0.028481</td>\n",
       "      <td>0.067419</td>\n",
       "      <td>-0.076650</td>\n",
       "      <td>0.749811</td>\n",
       "      <td>0.379262</td>\n",
       "      <td>-0.274767</td>\n",
       "      <td>-0.210861</td>\n",
       "      <td>0.001852</td>\n",
       "      <td>-0.157232</td>\n",
       "      <td>-0.022691</td>\n",
       "      <td>-0.263326</td>\n",
       "      <td>-0.305633</td>\n",
       "      <td>-0.002216</td>\n",
       "    </tr>\n",
       "    <tr>\n",
       "      <th>Term</th>\n",
       "      <td>0.148118</td>\n",
       "      <td>-0.353859</td>\n",
       "      <td>-0.447960</td>\n",
       "      <td>1.000000</td>\n",
       "      <td>0.047236</td>\n",
       "      <td>-0.062044</td>\n",
       "      <td>0.056612</td>\n",
       "      <td>-0.004901</td>\n",
       "      <td>0.065750</td>\n",
       "      <td>-0.385952</td>\n",
       "      <td>-0.300033</td>\n",
       "      <td>-0.031447</td>\n",
       "      <td>0.492785</td>\n",
       "      <td>0.001335</td>\n",
       "      <td>0.380243</td>\n",
       "      <td>-0.060354</td>\n",
       "      <td>0.540744</td>\n",
       "      <td>0.575043</td>\n",
       "      <td>-0.002218</td>\n",
       "    </tr>\n",
       "    <tr>\n",
       "      <th>NoEmp</th>\n",
       "      <td>0.014771</td>\n",
       "      <td>-0.049409</td>\n",
       "      <td>-0.069961</td>\n",
       "      <td>0.047236</td>\n",
       "      <td>1.000000</td>\n",
       "      <td>-0.028583</td>\n",
       "      <td>0.023257</td>\n",
       "      <td>0.033384</td>\n",
       "      <td>0.006650</td>\n",
       "      <td>-0.053505</td>\n",
       "      <td>-0.026985</td>\n",
       "      <td>-0.007982</td>\n",
       "      <td>0.068730</td>\n",
       "      <td>-0.000210</td>\n",
       "      <td>0.019119</td>\n",
       "      <td>0.011457</td>\n",
       "      <td>0.070373</td>\n",
       "      <td>0.074792</td>\n",
       "      <td>-0.000495</td>\n",
       "    </tr>\n",
       "    <tr>\n",
       "      <th>NewExist</th>\n",
       "      <td>-0.079057</td>\n",
       "      <td>0.001256</td>\n",
       "      <td>0.027610</td>\n",
       "      <td>-0.062044</td>\n",
       "      <td>-0.028583</td>\n",
       "      <td>1.000000</td>\n",
       "      <td>0.013822</td>\n",
       "      <td>-0.029635</td>\n",
       "      <td>0.076829</td>\n",
       "      <td>0.026416</td>\n",
       "      <td>-0.016346</td>\n",
       "      <td>0.116160</td>\n",
       "      <td>-0.067581</td>\n",
       "      <td>0.003726</td>\n",
       "      <td>0.028136</td>\n",
       "      <td>-0.003056</td>\n",
       "      <td>-0.056671</td>\n",
       "      <td>-0.054663</td>\n",
       "      <td>-0.009380</td>\n",
       "    </tr>\n",
       "    <tr>\n",
       "      <th>CreateJob</th>\n",
       "      <td>0.014648</td>\n",
       "      <td>0.010357</td>\n",
       "      <td>0.028481</td>\n",
       "      <td>0.056612</td>\n",
       "      <td>0.023257</td>\n",
       "      <td>0.013822</td>\n",
       "      <td>1.000000</td>\n",
       "      <td>0.048554</td>\n",
       "      <td>0.011896</td>\n",
       "      <td>0.018583</td>\n",
       "      <td>-0.024305</td>\n",
       "      <td>-0.034470</td>\n",
       "      <td>0.096755</td>\n",
       "      <td>-0.000306</td>\n",
       "      <td>0.002737</td>\n",
       "      <td>0.035666</td>\n",
       "      <td>0.098156</td>\n",
       "      <td>0.123664</td>\n",
       "      <td>-0.002029</td>\n",
       "    </tr>\n",
       "    <tr>\n",
       "      <th>RetainedJob</th>\n",
       "      <td>-0.000395</td>\n",
       "      <td>0.050399</td>\n",
       "      <td>0.067419</td>\n",
       "      <td>-0.004901</td>\n",
       "      <td>0.033384</td>\n",
       "      <td>-0.029635</td>\n",
       "      <td>0.048554</td>\n",
       "      <td>1.000000</td>\n",
       "      <td>-0.003583</td>\n",
       "      <td>0.058434</td>\n",
       "      <td>0.022494</td>\n",
       "      <td>-0.039346</td>\n",
       "      <td>0.030617</td>\n",
       "      <td>-0.000349</td>\n",
       "      <td>-0.008357</td>\n",
       "      <td>0.013143</td>\n",
       "      <td>0.020312</td>\n",
       "      <td>0.021866</td>\n",
       "      <td>-0.001216</td>\n",
       "    </tr>\n",
       "    <tr>\n",
       "      <th>FranchiseCode</th>\n",
       "      <td>0.018416</td>\n",
       "      <td>-0.116234</td>\n",
       "      <td>-0.076650</td>\n",
       "      <td>0.065750</td>\n",
       "      <td>0.006650</td>\n",
       "      <td>0.076829</td>\n",
       "      <td>0.011896</td>\n",
       "      <td>-0.003583</td>\n",
       "      <td>1.000000</td>\n",
       "      <td>-0.083914</td>\n",
       "      <td>-0.086174</td>\n",
       "      <td>0.022778</td>\n",
       "      <td>0.093885</td>\n",
       "      <td>-0.000436</td>\n",
       "      <td>0.038133</td>\n",
       "      <td>0.017945</td>\n",
       "      <td>0.105632</td>\n",
       "      <td>0.104048</td>\n",
       "      <td>-0.000525</td>\n",
       "    </tr>\n",
       "    <tr>\n",
       "      <th>UrbanRural</th>\n",
       "      <td>-0.110019</td>\n",
       "      <td>0.619358</td>\n",
       "      <td>0.749811</td>\n",
       "      <td>-0.385952</td>\n",
       "      <td>-0.053505</td>\n",
       "      <td>0.026416</td>\n",
       "      <td>0.018583</td>\n",
       "      <td>0.058434</td>\n",
       "      <td>-0.083914</td>\n",
       "      <td>1.000000</td>\n",
       "      <td>0.350657</td>\n",
       "      <td>-0.350565</td>\n",
       "      <td>-0.220903</td>\n",
       "      <td>0.005039</td>\n",
       "      <td>-0.197747</td>\n",
       "      <td>0.022440</td>\n",
       "      <td>-0.270693</td>\n",
       "      <td>-0.296260</td>\n",
       "      <td>-0.004343</td>\n",
       "    </tr>\n",
       "    <tr>\n",
       "      <th>RevLineCr</th>\n",
       "      <td>0.010451</td>\n",
       "      <td>0.309769</td>\n",
       "      <td>0.379262</td>\n",
       "      <td>-0.300033</td>\n",
       "      <td>-0.026985</td>\n",
       "      <td>-0.016346</td>\n",
       "      <td>-0.024305</td>\n",
       "      <td>0.022494</td>\n",
       "      <td>-0.086174</td>\n",
       "      <td>0.350657</td>\n",
       "      <td>1.000000</td>\n",
       "      <td>-0.208507</td>\n",
       "      <td>-0.179031</td>\n",
       "      <td>-0.001850</td>\n",
       "      <td>-0.040152</td>\n",
       "      <td>-0.056233</td>\n",
       "      <td>-0.273465</td>\n",
       "      <td>-0.293272</td>\n",
       "      <td>-0.002360</td>\n",
       "    </tr>\n",
       "    <tr>\n",
       "      <th>LowDoc</th>\n",
       "      <td>-0.012643</td>\n",
       "      <td>-0.258508</td>\n",
       "      <td>-0.274767</td>\n",
       "      <td>-0.031447</td>\n",
       "      <td>-0.007982</td>\n",
       "      <td>0.116160</td>\n",
       "      <td>-0.034470</td>\n",
       "      <td>-0.039346</td>\n",
       "      <td>0.022778</td>\n",
       "      <td>-0.350565</td>\n",
       "      <td>-0.208507</td>\n",
       "      <td>1.000000</td>\n",
       "      <td>-0.113635</td>\n",
       "      <td>-0.000775</td>\n",
       "      <td>0.125268</td>\n",
       "      <td>-0.063861</td>\n",
       "      <td>-0.096303</td>\n",
       "      <td>-0.082117</td>\n",
       "      <td>0.004578</td>\n",
       "    </tr>\n",
       "    <tr>\n",
       "      <th>DisbursementGross</th>\n",
       "      <td>0.104686</td>\n",
       "      <td>-0.198698</td>\n",
       "      <td>-0.210861</td>\n",
       "      <td>0.492785</td>\n",
       "      <td>0.068730</td>\n",
       "      <td>-0.067581</td>\n",
       "      <td>0.096755</td>\n",
       "      <td>0.030617</td>\n",
       "      <td>0.093885</td>\n",
       "      <td>-0.220903</td>\n",
       "      <td>-0.179031</td>\n",
       "      <td>-0.113635</td>\n",
       "      <td>1.000000</td>\n",
       "      <td>0.011069</td>\n",
       "      <td>0.109184</td>\n",
       "      <td>0.236516</td>\n",
       "      <td>0.958266</td>\n",
       "      <td>0.919860</td>\n",
       "      <td>-0.000721</td>\n",
       "    </tr>\n",
       "    <tr>\n",
       "      <th>BalanceGross</th>\n",
       "      <td>0.001677</td>\n",
       "      <td>0.001361</td>\n",
       "      <td>0.001852</td>\n",
       "      <td>0.001335</td>\n",
       "      <td>-0.000210</td>\n",
       "      <td>0.003726</td>\n",
       "      <td>-0.000306</td>\n",
       "      <td>-0.000349</td>\n",
       "      <td>-0.000436</td>\n",
       "      <td>0.005039</td>\n",
       "      <td>-0.001850</td>\n",
       "      <td>-0.000775</td>\n",
       "      <td>0.011069</td>\n",
       "      <td>1.000000</td>\n",
       "      <td>0.001577</td>\n",
       "      <td>-0.000691</td>\n",
       "      <td>0.011456</td>\n",
       "      <td>0.011110</td>\n",
       "      <td>-0.001857</td>\n",
       "    </tr>\n",
       "    <tr>\n",
       "      <th>MIS_Status</th>\n",
       "      <td>0.004295</td>\n",
       "      <td>-0.156759</td>\n",
       "      <td>-0.157232</td>\n",
       "      <td>0.380243</td>\n",
       "      <td>0.019119</td>\n",
       "      <td>0.028136</td>\n",
       "      <td>0.002737</td>\n",
       "      <td>-0.008357</td>\n",
       "      <td>0.038133</td>\n",
       "      <td>-0.197747</td>\n",
       "      <td>-0.040152</td>\n",
       "      <td>0.125268</td>\n",
       "      <td>0.109184</td>\n",
       "      <td>0.001577</td>\n",
       "      <td>1.000000</td>\n",
       "      <td>-0.432171</td>\n",
       "      <td>0.122406</td>\n",
       "      <td>0.133190</td>\n",
       "      <td>0.000292</td>\n",
       "    </tr>\n",
       "    <tr>\n",
       "      <th>ChgOffPrinGr</th>\n",
       "      <td>0.025156</td>\n",
       "      <td>0.001335</td>\n",
       "      <td>-0.022691</td>\n",
       "      <td>-0.060354</td>\n",
       "      <td>0.011457</td>\n",
       "      <td>-0.003056</td>\n",
       "      <td>0.035666</td>\n",
       "      <td>0.013143</td>\n",
       "      <td>0.017945</td>\n",
       "      <td>0.022440</td>\n",
       "      <td>-0.056233</td>\n",
       "      <td>-0.063861</td>\n",
       "      <td>0.236516</td>\n",
       "      <td>-0.000691</td>\n",
       "      <td>-0.432171</td>\n",
       "      <td>1.000000</td>\n",
       "      <td>0.237790</td>\n",
       "      <td>0.216866</td>\n",
       "      <td>0.002178</td>\n",
       "    </tr>\n",
       "    <tr>\n",
       "      <th>GrAppv</th>\n",
       "      <td>0.106495</td>\n",
       "      <td>-0.241268</td>\n",
       "      <td>-0.263326</td>\n",
       "      <td>0.540744</td>\n",
       "      <td>0.070373</td>\n",
       "      <td>-0.056671</td>\n",
       "      <td>0.098156</td>\n",
       "      <td>0.020312</td>\n",
       "      <td>0.105632</td>\n",
       "      <td>-0.270693</td>\n",
       "      <td>-0.273465</td>\n",
       "      <td>-0.096303</td>\n",
       "      <td>0.958266</td>\n",
       "      <td>0.011456</td>\n",
       "      <td>0.122406</td>\n",
       "      <td>0.237790</td>\n",
       "      <td>1.000000</td>\n",
       "      <td>0.969124</td>\n",
       "      <td>-0.000915</td>\n",
       "    </tr>\n",
       "    <tr>\n",
       "      <th>SBA_Appv</th>\n",
       "      <td>0.116512</td>\n",
       "      <td>-0.268012</td>\n",
       "      <td>-0.305633</td>\n",
       "      <td>0.575043</td>\n",
       "      <td>0.074792</td>\n",
       "      <td>-0.054663</td>\n",
       "      <td>0.123664</td>\n",
       "      <td>0.021866</td>\n",
       "      <td>0.104048</td>\n",
       "      <td>-0.296260</td>\n",
       "      <td>-0.293272</td>\n",
       "      <td>-0.082117</td>\n",
       "      <td>0.919860</td>\n",
       "      <td>0.011110</td>\n",
       "      <td>0.133190</td>\n",
       "      <td>0.216866</td>\n",
       "      <td>0.969124</td>\n",
       "      <td>1.000000</td>\n",
       "      <td>-0.001655</td>\n",
       "    </tr>\n",
       "    <tr>\n",
       "      <th>Default</th>\n",
       "      <td>0.001039</td>\n",
       "      <td>-0.001052</td>\n",
       "      <td>-0.002216</td>\n",
       "      <td>-0.002218</td>\n",
       "      <td>-0.000495</td>\n",
       "      <td>-0.009380</td>\n",
       "      <td>-0.002029</td>\n",
       "      <td>-0.001216</td>\n",
       "      <td>-0.000525</td>\n",
       "      <td>-0.004343</td>\n",
       "      <td>-0.002360</td>\n",
       "      <td>0.004578</td>\n",
       "      <td>-0.000721</td>\n",
       "      <td>-0.001857</td>\n",
       "      <td>0.000292</td>\n",
       "      <td>0.002178</td>\n",
       "      <td>-0.000915</td>\n",
       "      <td>-0.001655</td>\n",
       "      <td>1.000000</td>\n",
       "    </tr>\n",
       "  </tbody>\n",
       "</table>\n",
       "</div>"
      ],
      "text/plain": [
       "                        Zip      CCSC  ApprovalFY      Term     NoEmp  \\\n",
       "Zip                1.000000 -0.075084   -0.095580  0.148118  0.014771   \n",
       "CCSC              -0.075084  1.000000    0.705950 -0.353859 -0.049409   \n",
       "ApprovalFY        -0.095580  0.705950    1.000000 -0.447960 -0.069961   \n",
       "Term               0.148118 -0.353859   -0.447960  1.000000  0.047236   \n",
       "NoEmp              0.014771 -0.049409   -0.069961  0.047236  1.000000   \n",
       "NewExist          -0.079057  0.001256    0.027610 -0.062044 -0.028583   \n",
       "CreateJob          0.014648  0.010357    0.028481  0.056612  0.023257   \n",
       "RetainedJob       -0.000395  0.050399    0.067419 -0.004901  0.033384   \n",
       "FranchiseCode      0.018416 -0.116234   -0.076650  0.065750  0.006650   \n",
       "UrbanRural        -0.110019  0.619358    0.749811 -0.385952 -0.053505   \n",
       "RevLineCr          0.010451  0.309769    0.379262 -0.300033 -0.026985   \n",
       "LowDoc            -0.012643 -0.258508   -0.274767 -0.031447 -0.007982   \n",
       "DisbursementGross  0.104686 -0.198698   -0.210861  0.492785  0.068730   \n",
       "BalanceGross       0.001677  0.001361    0.001852  0.001335 -0.000210   \n",
       "MIS_Status         0.004295 -0.156759   -0.157232  0.380243  0.019119   \n",
       "ChgOffPrinGr       0.025156  0.001335   -0.022691 -0.060354  0.011457   \n",
       "GrAppv             0.106495 -0.241268   -0.263326  0.540744  0.070373   \n",
       "SBA_Appv           0.116512 -0.268012   -0.305633  0.575043  0.074792   \n",
       "Default            0.001039 -0.001052   -0.002216 -0.002218 -0.000495   \n",
       "\n",
       "                   NewExist  CreateJob  RetainedJob  FranchiseCode  \\\n",
       "Zip               -0.079057   0.014648    -0.000395       0.018416   \n",
       "CCSC               0.001256   0.010357     0.050399      -0.116234   \n",
       "ApprovalFY         0.027610   0.028481     0.067419      -0.076650   \n",
       "Term              -0.062044   0.056612    -0.004901       0.065750   \n",
       "NoEmp             -0.028583   0.023257     0.033384       0.006650   \n",
       "NewExist           1.000000   0.013822    -0.029635       0.076829   \n",
       "CreateJob          0.013822   1.000000     0.048554       0.011896   \n",
       "RetainedJob       -0.029635   0.048554     1.000000      -0.003583   \n",
       "FranchiseCode      0.076829   0.011896    -0.003583       1.000000   \n",
       "UrbanRural         0.026416   0.018583     0.058434      -0.083914   \n",
       "RevLineCr         -0.016346  -0.024305     0.022494      -0.086174   \n",
       "LowDoc             0.116160  -0.034470    -0.039346       0.022778   \n",
       "DisbursementGross -0.067581   0.096755     0.030617       0.093885   \n",
       "BalanceGross       0.003726  -0.000306    -0.000349      -0.000436   \n",
       "MIS_Status         0.028136   0.002737    -0.008357       0.038133   \n",
       "ChgOffPrinGr      -0.003056   0.035666     0.013143       0.017945   \n",
       "GrAppv            -0.056671   0.098156     0.020312       0.105632   \n",
       "SBA_Appv          -0.054663   0.123664     0.021866       0.104048   \n",
       "Default           -0.009380  -0.002029    -0.001216      -0.000525   \n",
       "\n",
       "                   UrbanRural  RevLineCr    LowDoc  DisbursementGross  \\\n",
       "Zip                 -0.110019   0.010451 -0.012643           0.104686   \n",
       "CCSC                 0.619358   0.309769 -0.258508          -0.198698   \n",
       "ApprovalFY           0.749811   0.379262 -0.274767          -0.210861   \n",
       "Term                -0.385952  -0.300033 -0.031447           0.492785   \n",
       "NoEmp               -0.053505  -0.026985 -0.007982           0.068730   \n",
       "NewExist             0.026416  -0.016346  0.116160          -0.067581   \n",
       "CreateJob            0.018583  -0.024305 -0.034470           0.096755   \n",
       "RetainedJob          0.058434   0.022494 -0.039346           0.030617   \n",
       "FranchiseCode       -0.083914  -0.086174  0.022778           0.093885   \n",
       "UrbanRural           1.000000   0.350657 -0.350565          -0.220903   \n",
       "RevLineCr            0.350657   1.000000 -0.208507          -0.179031   \n",
       "LowDoc              -0.350565  -0.208507  1.000000          -0.113635   \n",
       "DisbursementGross   -0.220903  -0.179031 -0.113635           1.000000   \n",
       "BalanceGross         0.005039  -0.001850 -0.000775           0.011069   \n",
       "MIS_Status          -0.197747  -0.040152  0.125268           0.109184   \n",
       "ChgOffPrinGr         0.022440  -0.056233 -0.063861           0.236516   \n",
       "GrAppv              -0.270693  -0.273465 -0.096303           0.958266   \n",
       "SBA_Appv            -0.296260  -0.293272 -0.082117           0.919860   \n",
       "Default             -0.004343  -0.002360  0.004578          -0.000721   \n",
       "\n",
       "                   BalanceGross  MIS_Status  ChgOffPrinGr    GrAppv  SBA_Appv  \\\n",
       "Zip                    0.001677    0.004295      0.025156  0.106495  0.116512   \n",
       "CCSC                   0.001361   -0.156759      0.001335 -0.241268 -0.268012   \n",
       "ApprovalFY             0.001852   -0.157232     -0.022691 -0.263326 -0.305633   \n",
       "Term                   0.001335    0.380243     -0.060354  0.540744  0.575043   \n",
       "NoEmp                 -0.000210    0.019119      0.011457  0.070373  0.074792   \n",
       "NewExist               0.003726    0.028136     -0.003056 -0.056671 -0.054663   \n",
       "CreateJob             -0.000306    0.002737      0.035666  0.098156  0.123664   \n",
       "RetainedJob           -0.000349   -0.008357      0.013143  0.020312  0.021866   \n",
       "FranchiseCode         -0.000436    0.038133      0.017945  0.105632  0.104048   \n",
       "UrbanRural             0.005039   -0.197747      0.022440 -0.270693 -0.296260   \n",
       "RevLineCr             -0.001850   -0.040152     -0.056233 -0.273465 -0.293272   \n",
       "LowDoc                -0.000775    0.125268     -0.063861 -0.096303 -0.082117   \n",
       "DisbursementGross      0.011069    0.109184      0.236516  0.958266  0.919860   \n",
       "BalanceGross           1.000000    0.001577     -0.000691  0.011456  0.011110   \n",
       "MIS_Status             0.001577    1.000000     -0.432171  0.122406  0.133190   \n",
       "ChgOffPrinGr          -0.000691   -0.432171      1.000000  0.237790  0.216866   \n",
       "GrAppv                 0.011456    0.122406      0.237790  1.000000  0.969124   \n",
       "SBA_Appv               0.011110    0.133190      0.216866  0.969124  1.000000   \n",
       "Default               -0.001857    0.000292      0.002178 -0.000915 -0.001655   \n",
       "\n",
       "                    Default  \n",
       "Zip                0.001039  \n",
       "CCSC              -0.001052  \n",
       "ApprovalFY        -0.002216  \n",
       "Term              -0.002218  \n",
       "NoEmp             -0.000495  \n",
       "NewExist          -0.009380  \n",
       "CreateJob         -0.002029  \n",
       "RetainedJob       -0.001216  \n",
       "FranchiseCode     -0.000525  \n",
       "UrbanRural        -0.004343  \n",
       "RevLineCr         -0.002360  \n",
       "LowDoc             0.004578  \n",
       "DisbursementGross -0.000721  \n",
       "BalanceGross      -0.001857  \n",
       "MIS_Status         0.000292  \n",
       "ChgOffPrinGr       0.002178  \n",
       "GrAppv            -0.000915  \n",
       "SBA_Appv          -0.001655  \n",
       "Default            1.000000  "
      ]
     },
     "execution_count": 101,
     "metadata": {},
     "output_type": "execute_result"
    }
   ],
   "source": [
    "df_data1.corr()"
   ]
  },
  {
   "cell_type": "code",
   "execution_count": 102,
   "metadata": {},
   "outputs": [
    {
     "name": "stderr",
     "output_type": "stream",
     "text": [
      "C:\\ProgramData\\Anaconda3\\lib\\site-packages\\ipykernel_launcher.py:6: UserWarning: Matplotlib is currently using agg, which is a non-GUI backend, so cannot show the figure.\n",
      "  \n"
     ]
    },
    {
     "data": {
      "image/png": "[encoded data removed]",
      "text/plain": [
       "<Figure size 936x864 with 2 Axes>"
      ]
     },
     "metadata": {
      "needs_background": "light"
     },
     "output_type": "display_data"
    }
   ],
   "source": [
    "#Find correlation matrix\n",
    "\n",
    "plt.figure(figsize=(13,12))\n",
    "cor = df_data1.corr()\n",
    "sns.heatmap(cor, annot=True, cmap=plt.cm.Reds)\n",
    "plt.show()"
   ]
  },
  {
   "cell_type": "code",
   "execution_count": 103,
   "metadata": {},
   "outputs": [],
   "source": [
    "# ApprovalFY,Zip,ccsc ,Name,City,State,zip,Bank,BankState ,ChgOffDate not good predictors that why drop these variables"
   ]
  },
  {
   "cell_type": "code",
   "execution_count": 104,
   "metadata": {
    "scrolled": true
   },
   "outputs": [],
   "source": [
    "df_datay = df_data1['MIS_Status']"
   ]
  },
  {
   "cell_type": "code",
   "execution_count": 105,
   "metadata": {
    "scrolled": true
   },
   "outputs": [],
   "source": [
    "df_data1=df_data1.drop(columns=\"MIS_Status\",axis=1)"
   ]
  },
  {
   "cell_type": "code",
   "execution_count": 106,
   "metadata": {},
   "outputs": [],
   "source": [
    "df_data1=df_data1.drop(columns=\"Name\",axis=1)"
   ]
  },
  {
   "cell_type": "code",
   "execution_count": 107,
   "metadata": {},
   "outputs": [],
   "source": [
    "df_data1=df_data1.drop(columns=\"City\",axis=1)"
   ]
  },
  {
   "cell_type": "code",
   "execution_count": 108,
   "metadata": {},
   "outputs": [],
   "source": [
    "df_data1=df_data1.drop(columns=\"State\",axis=1)"
   ]
  },
  {
   "cell_type": "code",
   "execution_count": 109,
   "metadata": {},
   "outputs": [],
   "source": [
    "df_data1=df_data1.drop(columns=\"Zip\",axis=1)"
   ]
  },
  {
   "cell_type": "code",
   "execution_count": 110,
   "metadata": {},
   "outputs": [],
   "source": [
    "df_data1=df_data1.drop(columns=\"Bank\",axis=1)"
   ]
  },
  {
   "cell_type": "code",
   "execution_count": 111,
   "metadata": {},
   "outputs": [],
   "source": [
    "df_data1=df_data1.drop(columns=\"BankState\",axis=1)"
   ]
  },
  {
   "cell_type": "code",
   "execution_count": 112,
   "metadata": {},
   "outputs": [],
   "source": [
    "df_data1=df_data1.drop(columns=\"CCSC\",axis=1)"
   ]
  },
  {
   "cell_type": "code",
   "execution_count": 113,
   "metadata": {},
   "outputs": [],
   "source": [
    "df_data1=df_data1.drop(columns='ApprovalFY',axis=1)"
   ]
  },
  {
   "cell_type": "code",
   "execution_count": 114,
   "metadata": {},
   "outputs": [],
   "source": [
    "df_data1=df_data1.drop(columns='ChgOffDate',axis=1)"
   ]
  },
  {
   "cell_type": "code",
   "execution_count": 115,
   "metadata": {},
   "outputs": [
    {
     "name": "stdout",
     "output_type": "stream",
     "text": [
      "<class 'pandas.core.frame.DataFrame'>\n",
      "RangeIndex: 149999 entries, 0 to 149998\n",
      "Data columns (total 17 columns):\n",
      "ApprovalDate         149999 non-null object\n",
      "Term                 149999 non-null int64\n",
      "NoEmp                149999 non-null int64\n",
      "NewExist             149999 non-null int64\n",
      "CreateJob            149999 non-null int64\n",
      "RetainedJob          149999 non-null int64\n",
      "FranchiseCode        149999 non-null int64\n",
      "UrbanRural           149999 non-null int64\n",
      "RevLineCr            149999 non-null float64\n",
      "LowDoc               149999 non-null float64\n",
      "DisbursementDate     149999 non-null object\n",
      "DisbursementGross    149999 non-null float64\n",
      "BalanceGross         149999 non-null float64\n",
      "ChgOffPrinGr         149999 non-null float64\n",
      "GrAppv               149999 non-null float64\n",
      "SBA_Appv             149999 non-null float64\n",
      "Default              149999 non-null int64\n",
      "dtypes: float64(7), int64(8), object(2)\n",
      "memory usage: 19.5+ MB\n"
     ]
    }
   ],
   "source": [
    "df_data1.info()"
   ]
  },
  {
   "cell_type": "code",
   "execution_count": 116,
   "metadata": {},
   "outputs": [],
   "source": [
    "df_datax = df_data1"
   ]
  },
  {
   "cell_type": "markdown",
   "metadata": {},
   "source": [
    "# Feature selection"
   ]
  },
  {
   "cell_type": "code",
   "execution_count": 164,
   "metadata": {},
   "outputs": [],
   "source": [
    "from sklearn.feature_selection import f_classif  "
   ]
  },
  {
   "cell_type": "code",
   "execution_count": 176,
   "metadata": {},
   "outputs": [
    {
     "data": {
      "text/plain": [
       "(array([3.78084546e+03, 2.53529503e+04, 5.48517430e+01, 1.18834459e+02,\n",
       "        1.12374995e+00, 1.04774985e+01, 2.18434692e+02, 6.10416277e+03,\n",
       "        2.42216674e+02, 2.39128325e+03, 3.40702480e+03, 1.80972370e+03,\n",
       "        3.73253508e-01, 3.44494540e+04, 2.28164387e+03, 2.70894878e+03,\n",
       "        1.27583040e-02]),\n",
       " array([0.00000000e+00, 0.00000000e+00, 1.30650381e-13, 1.16600637e-27,\n",
       "        2.89114130e-01, 1.20863482e-03, 2.15100534e-49, 0.00000000e+00,\n",
       "        1.42610503e-54, 0.00000000e+00, 0.00000000e+00, 0.00000000e+00,\n",
       "        5.41237072e-01, 0.00000000e+00, 0.00000000e+00, 0.00000000e+00,\n",
       "        9.10068236e-01]))"
      ]
     },
     "execution_count": 176,
     "metadata": {},
     "output_type": "execute_result"
    }
   ],
   "source": [
    "#f_classif(df_datax,df_datay)\n",
    "\n",
    "f_classif(df_datax,df_datay)\n"
   ]
  },
  {
   "cell_type": "code",
   "execution_count": 177,
   "metadata": {},
   "outputs": [
    {
     "data": {
      "text/plain": [
       "array([0.00000000e+00, 0.00000000e+00, 1.30650381e-13, 1.16600637e-27,\n",
       "       2.89114130e-01, 1.20863482e-03, 2.15100534e-49, 0.00000000e+00,\n",
       "       1.42610503e-54, 0.00000000e+00, 0.00000000e+00, 0.00000000e+00,\n",
       "       5.41237072e-01, 0.00000000e+00, 0.00000000e+00, 0.00000000e+00,\n",
       "       9.10068236e-01])"
      ]
     },
     "execution_count": 177,
     "metadata": {},
     "output_type": "execute_result"
    }
   ],
   "source": [
    "p_values = f_classif(df_datax,df_datay)[1]\n",
    "p_values"
   ]
  },
  {
   "cell_type": "code",
   "execution_count": 178,
   "metadata": {},
   "outputs": [
    {
     "data": {
      "text/plain": [
       "array([0.   , 0.   , 0.   , 0.   , 0.289, 0.001, 0.   , 0.   , 0.   ,\n",
       "       0.   , 0.   , 0.   , 0.541, 0.   , 0.   , 0.   , 0.91 ])"
      ]
     },
     "execution_count": 178,
     "metadata": {},
     "output_type": "execute_result"
    }
   ],
   "source": [
    "p_values.round(3)  # P values"
   ]
  },
  {
   "cell_type": "markdown",
   "metadata": {},
   "source": [
    "## Splitting a data "
   ]
  },
  {
   "cell_type": "code",
   "execution_count": 118,
   "metadata": {},
   "outputs": [
    {
     "data": {
      "text/plain": [
       "((149999, 17), (149999,))"
      ]
     },
     "execution_count": 118,
     "metadata": {},
     "output_type": "execute_result"
    }
   ],
   "source": [
    "df_datax.shape,df_datay.shape"
   ]
  },
  {
   "cell_type": "code",
   "execution_count": 119,
   "metadata": {},
   "outputs": [],
   "source": [
    "#The dataset is then split to the train and test set. The test size is set at 20%\n",
    "from sklearn.model_selection import train_test_split\n",
    "x, y = df_datax.values, df_datay.values\n",
    "x_train, x_test, y_train, y_test = train_test_split(x, y, test_size=0.2, random_state=0)\n"
   ]
  },
  {
   "cell_type": "code",
   "execution_count": 120,
   "metadata": {},
   "outputs": [
    {
     "data": {
      "text/plain": [
       "((119999, 17), (119999,))"
      ]
     },
     "execution_count": 120,
     "metadata": {},
     "output_type": "execute_result"
    }
   ],
   "source": [
    "x_train.shape,y_train.shape"
   ]
  },
  {
   "cell_type": "code",
   "execution_count": 121,
   "metadata": {},
   "outputs": [
    {
     "data": {
      "text/plain": [
       "((30000, 17), (30000,))"
      ]
     },
     "execution_count": 121,
     "metadata": {},
     "output_type": "execute_result"
    }
   ],
   "source": [
    "x_test.shape,y_test.shape"
   ]
  },
  {
   "cell_type": "code",
   "execution_count": 122,
   "metadata": {
    "scrolled": true
   },
   "outputs": [],
   "source": [
    "#from sklearn.preprocessing import StandardScaler\n",
    "\n",
    "#scaler = StandardScaler()\n",
    "#scaler.fit(x)\n",
    "#x_scaled = scaler.transform(x)"
   ]
  },
  {
   "cell_type": "code",
   "execution_count": 123,
   "metadata": {
    "scrolled": true
   },
   "outputs": [],
   "source": [
    "#x = sm.add_constant(x_scaled)\n",
    "#reg_log = sm.Logit(y,x)\n",
    "#results_log = reg_log.fit()"
   ]
  },
  {
   "cell_type": "code",
   "execution_count": 124,
   "metadata": {
    "scrolled": true
   },
   "outputs": [],
   "source": [
    "#results_log.summary()"
   ]
  },
  {
   "cell_type": "markdown",
   "metadata": {},
   "source": [
    "## Model Making : Logistic,DecisonTree,RandomForest,NeuralNet"
   ]
  },
  {
   "cell_type": "code",
   "execution_count": 125,
   "metadata": {
    "scrolled": true
   },
   "outputs": [],
   "source": [
    "from sklearn.linear_model import LogisticRegression"
   ]
  },
  {
   "cell_type": "code",
   "execution_count": 126,
   "metadata": {},
   "outputs": [],
   "source": [
    "model = LogisticRegression()  # Logistic Regression"
   ]
  },
  {
   "cell_type": "code",
   "execution_count": 127,
   "metadata": {},
   "outputs": [
    {
     "name": "stderr",
     "output_type": "stream",
     "text": [
      "C:\\ProgramData\\Anaconda3\\lib\\site-packages\\sklearn\\linear_model\\logistic.py:432: FutureWarning: Default solver will be changed to 'lbfgs' in 0.22. Specify a solver to silence this warning.\n",
      "  FutureWarning)\n"
     ]
    },
    {
     "data": {
      "text/plain": [
       "LogisticRegression(C=1.0, class_weight=None, dual=False, fit_intercept=True,\n",
       "                   intercept_scaling=1, l1_ratio=None, max_iter=100,\n",
       "                   multi_class='warn', n_jobs=None, penalty='l2',\n",
       "                   random_state=None, solver='warn', tol=0.0001, verbose=0,\n",
       "                   warm_start=False)"
      ]
     },
     "execution_count": 127,
     "metadata": {},
     "output_type": "execute_result"
    }
   ],
   "source": [
    "model.fit(x_train,y_train)\n"
   ]
  },
  {
   "cell_type": "code",
   "execution_count": 128,
   "metadata": {
    "scrolled": true
   },
   "outputs": [
    {
     "data": {
      "text/plain": [
       "array([[ 5.40722848e-04,  4.26381731e-05,  4.71553853e-07,\n",
       "         4.13911774e-07,  2.14145712e-07,  4.90389918e-07,\n",
       "         7.69326266e-06,  1.49023518e-07,  1.61325946e-07,\n",
       "         1.07612026e-07,  5.40793049e-04,  1.21710095e-05,\n",
       "         2.21380209e-07, -4.41562565e-04,  4.40277368e-05,\n",
       "        -4.81173807e-05,  9.37519693e-08]])"
      ]
     },
     "execution_count": 128,
     "metadata": {},
     "output_type": "execute_result"
    }
   ],
   "source": [
    "model.coef_"
   ]
  },
  {
   "cell_type": "code",
   "execution_count": 129,
   "metadata": {},
   "outputs": [
    {
     "data": {
      "text/plain": [
       "array([2.70038131e-07])"
      ]
     },
     "execution_count": 129,
     "metadata": {},
     "output_type": "execute_result"
    }
   ],
   "source": [
    "model.intercept_"
   ]
  },
  {
   "cell_type": "code",
   "execution_count": 130,
   "metadata": {},
   "outputs": [],
   "source": [
    "from sklearn.metrics import accuracy_score"
   ]
  },
  {
   "cell_type": "code",
   "execution_count": 131,
   "metadata": {},
   "outputs": [
    {
     "name": "stdout",
     "output_type": "stream",
     "text": [
      "Target on train data [0. 1. 1. ... 1. 1. 0.]\n"
     ]
    }
   ],
   "source": [
    "predict_train = model.predict(x_train)\n",
    "print('Target on train data',predict_train) "
   ]
  },
  {
   "cell_type": "code",
   "execution_count": 132,
   "metadata": {},
   "outputs": [
    {
     "name": "stdout",
     "output_type": "stream",
     "text": [
      "accuracy_score on train dataset :  0.9701664180534838\n"
     ]
    }
   ],
   "source": [
    "accuracy_train = accuracy_score(y_train,predict_train)\n",
    "print('accuracy_score on train dataset : ', accuracy_train)"
   ]
  },
  {
   "cell_type": "code",
   "execution_count": 133,
   "metadata": {},
   "outputs": [
    {
     "name": "stdout",
     "output_type": "stream",
     "text": [
      "Target on train data [0. 1. 0. ... 1. 1. 1.]\n"
     ]
    }
   ],
   "source": [
    "predict_test = model.predict(x_test)\n",
    "print('Target on train data',predict_test) "
   ]
  },
  {
   "cell_type": "code",
   "execution_count": 134,
   "metadata": {},
   "outputs": [
    {
     "name": "stdout",
     "output_type": "stream",
     "text": [
      "accuracy_score on train dataset :  0.9693666666666667\n"
     ]
    }
   ],
   "source": [
    "accuracy_train = accuracy_score(y_test,predict_test)\n",
    "print('accuracy_score on train dataset : ', accuracy_train)"
   ]
  },
  {
   "cell_type": "code",
   "execution_count": 135,
   "metadata": {},
   "outputs": [],
   "source": [
    "# Model is just fit not overfit or underfit"
   ]
  },
  {
   "cell_type": "code",
   "execution_count": 136,
   "metadata": {},
   "outputs": [],
   "source": [
    "from sklearn.preprocessing import StandardScaler\n",
    "\n",
    "scaler = StandardScaler()\n",
    "scaler.fit(x_train)\n",
    "x_scaled = scaler.transform(x_train)"
   ]
  },
  {
   "cell_type": "code",
   "execution_count": 137,
   "metadata": {},
   "outputs": [
    {
     "name": "stdout",
     "output_type": "stream",
     "text": [
      "Warning: Maximum number of iterations has been exceeded.\n",
      "         Current function value: 0.106923\n",
      "         Iterations: 35\n"
     ]
    },
    {
     "name": "stderr",
     "output_type": "stream",
     "text": [
      "C:\\ProgramData\\Anaconda3\\lib\\site-packages\\statsmodels\\base\\model.py:512: ConvergenceWarning: Maximum Likelihood optimization failed to converge. Check mle_retvals\n",
      "  \"Check mle_retvals\", ConvergenceWarning)\n"
     ]
    },
    {
     "name": "stdout",
     "output_type": "stream",
     "text": [
      "                         Results: Logit\n",
      "=================================================================\n",
      "Model:              Logit            Pseudo R-squared: 0.815     \n",
      "Dependent Variable: y                AIC:              25695.2698\n",
      "Date:               2020-02-12 16:21 BIC:              25860.0888\n",
      "No. Observations:   119999           Log-Likelihood:   -12831.   \n",
      "Df Model:           16               LL-Null:          -69426.   \n",
      "Df Residuals:       119982           LLR p-value:      0.0000    \n",
      "Converged:          0.0000           Scale:            1.0000    \n",
      "No. Iterations:     35.0000                                      \n",
      "------------------------------------------------------------------\n",
      "          Coef.    Std.Err.      z      P>|z|    [0.025    0.975] \n",
      "------------------------------------------------------------------\n",
      "x1         0.7416    0.0905     8.1899  0.0000    0.5641    0.9190\n",
      "x2         1.9955    0.0349    57.1273  0.0000    1.9270    2.0640\n",
      "x3        -0.0275    0.0089    -3.1080  0.0019   -0.0449   -0.0102\n",
      "x4         0.0164    0.0166     0.9883  0.3230   -0.0161    0.0490\n",
      "x5        -0.0717    0.0268    -2.6734  0.0075   -0.1242   -0.0191\n",
      "x6         0.9999    0.1074     9.3103  0.0000    0.7894    1.2104\n",
      "x7         0.0432    0.0280     1.5450  0.1223   -0.0116    0.0981\n",
      "x8        -0.3395    0.0255   -13.3283  0.0000   -0.3894   -0.2895\n",
      "x9         0.1923    0.0178    10.7881  0.0000    0.1574    0.2272\n",
      "x10        0.5360    0.0266    20.1849  0.0000    0.4840    0.5881\n",
      "x11       -0.3417    0.0896    -3.8135  0.0001   -0.5173   -0.1661\n",
      "x12        1.6755    0.2009     8.3382  0.0000    1.2816    2.0693\n",
      "x13        0.3705    2.1016     0.1763  0.8601   -3.7485    4.4894\n",
      "x14      -20.5115    0.1602  -128.0592  0.0000  -20.8255  -20.1976\n",
      "x15       13.5388    0.3957    34.2109  0.0000   12.7632   14.3145\n",
      "x16      -12.0523    0.2497   -48.2707  0.0000  -12.5417  -11.5629\n",
      "x17        0.0127    0.0171     0.7450  0.4563   -0.0207    0.0462\n",
      "=================================================================\n",
      "\n"
     ]
    }
   ],
   "source": [
    "import statsmodels.api as sm\n",
    "logit_model=sm.Logit(y_train,x_scaled)\n",
    "result=logit_model.fit()\n",
    "print(result.summary2())"
   ]
  },
  {
   "cell_type": "code",
   "execution_count": 138,
   "metadata": {},
   "outputs": [
    {
     "data": {
      "text/plain": [
       "0.9701664180534838"
      ]
     },
     "execution_count": 138,
     "metadata": {},
     "output_type": "execute_result"
    }
   ],
   "source": [
    "model.score(x_train,y_train)\n"
   ]
  },
  {
   "cell_type": "code",
   "execution_count": 1,
   "metadata": {},
   "outputs": [
    {
     "ename": "NameError",
     "evalue": "name 'x_train' is not defined",
     "output_type": "error",
     "traceback": [
      "\u001b[1;31m---------------------------------------------------------------------------\u001b[0m",
      "\u001b[1;31mNameError\u001b[0m                                 Traceback (most recent call last)",
      "\u001b[1;32m<ipython-input-1-940b71f68219>\u001b[0m in \u001b[0;36m<module>\u001b[1;34m\u001b[0m\n\u001b[0;32m      1\u001b[0m \u001b[1;32mfrom\u001b[0m \u001b[0msklearn\u001b[0m\u001b[1;33m.\u001b[0m\u001b[0mtree\u001b[0m \u001b[1;32mimport\u001b[0m \u001b[0mDecisionTreeClassifier\u001b[0m\u001b[1;33m\u001b[0m\u001b[1;33m\u001b[0m\u001b[0m\n\u001b[0;32m      2\u001b[0m \u001b[0mdt_classifier\u001b[0m\u001b[1;33m=\u001b[0m\u001b[0mDecisionTreeClassifier\u001b[0m\u001b[1;33m(\u001b[0m\u001b[0mcriterion\u001b[0m\u001b[1;33m=\u001b[0m\u001b[1;34m'gini'\u001b[0m\u001b[1;33m,\u001b[0m\u001b[0mrandom_state\u001b[0m\u001b[1;33m=\u001b[0m\u001b[1;36m42\u001b[0m\u001b[1;33m,\u001b[0m\u001b[0mmax_depth\u001b[0m\u001b[1;33m=\u001b[0m\u001b[1;36m1\u001b[0m\u001b[1;33m)\u001b[0m  \u001b[1;31m# Decision Tree\u001b[0m\u001b[1;33m\u001b[0m\u001b[1;33m\u001b[0m\u001b[0m\n\u001b[1;32m----> 3\u001b[1;33m \u001b[0mdt_classifier\u001b[0m\u001b[1;33m.\u001b[0m\u001b[0mfit\u001b[0m\u001b[1;33m(\u001b[0m\u001b[0mx_train\u001b[0m\u001b[1;33m,\u001b[0m\u001b[0my_train\u001b[0m\u001b[1;33m)\u001b[0m\u001b[1;33m\u001b[0m\u001b[1;33m\u001b[0m\u001b[0m\n\u001b[0m",
      "\u001b[1;31mNameError\u001b[0m: name 'x_train' is not defined"
     ]
    }
   ],
   "source": [
    "from sklearn.tree import DecisionTreeClassifier\n",
    "dt_classifier=DecisionTreeClassifier(criterion='gini',random_state=42,max_depth=1)  # Decision Tree\n",
    "dt_classifier.fit(x_train,y_train)\n"
   ]
  },
  {
   "cell_type": "code",
   "execution_count": 140,
   "metadata": {},
   "outputs": [
    {
     "data": {
      "text/plain": [
       "0.9999916665972216"
      ]
     },
     "execution_count": 140,
     "metadata": {},
     "output_type": "execute_result"
    }
   ],
   "source": [
    "dt_classifier.score(x_train,y_train)"
   ]
  },
  {
   "cell_type": "code",
   "execution_count": 141,
   "metadata": {},
   "outputs": [
    {
     "name": "stdout",
     "output_type": "stream",
     "text": [
      "Target on train data [0. 1. 1. ... 1. 1. 0.]\n"
     ]
    }
   ],
   "source": [
    "predict_train = dt_classifier.predict(x_train)\n",
    "print('Target on train data',predict_train) "
   ]
  },
  {
   "cell_type": "code",
   "execution_count": 142,
   "metadata": {},
   "outputs": [
    {
     "name": "stdout",
     "output_type": "stream",
     "text": [
      "accuracy_score on train dataset :  0.9999916665972216\n"
     ]
    }
   ],
   "source": [
    "accuracy_train = accuracy_score(y_train,predict_train)\n",
    "print('accuracy_score on train dataset : ', accuracy_train)"
   ]
  },
  {
   "cell_type": "code",
   "execution_count": 143,
   "metadata": {},
   "outputs": [
    {
     "name": "stdout",
     "output_type": "stream",
     "text": [
      "Target on test data [0. 1. 0. ... 1. 1. 1.]\n"
     ]
    }
   ],
   "source": [
    "predict_test = dt_classifier.predict(x_test)\n",
    "print('Target on test data',predict_test) "
   ]
  },
  {
   "cell_type": "code",
   "execution_count": 144,
   "metadata": {},
   "outputs": [
    {
     "name": "stdout",
     "output_type": "stream",
     "text": [
      "accuracy_score on test dataset :  0.9817333333333333\n"
     ]
    }
   ],
   "source": [
    "accuracy_test = accuracy_score(y_test,predict_test)\n",
    "print('accuracy_score on test dataset : ', accuracy_test)"
   ]
  },
  {
   "cell_type": "code",
   "execution_count": 145,
   "metadata": {},
   "outputs": [],
   "source": [
    "##Confusion matrix ,recall,Precison"
   ]
  },
  {
   "cell_type": "code",
   "execution_count": 146,
   "metadata": {},
   "outputs": [],
   "source": [
    "y_pred = model.predict(x_test)"
   ]
  },
  {
   "cell_type": "code",
   "execution_count": 147,
   "metadata": {},
   "outputs": [],
   "source": [
    "from sklearn.metrics import classification_report,confusion_matrix"
   ]
  },
  {
   "cell_type": "code",
   "execution_count": 148,
   "metadata": {},
   "outputs": [],
   "source": [
    "report = classification_report(y_test,y_pred)"
   ]
  },
  {
   "cell_type": "code",
   "execution_count": 149,
   "metadata": {},
   "outputs": [
    {
     "data": {
      "text/plain": [
       "'              precision    recall  f1-score   support\\n\\n         0.0       0.97      0.91      0.94      8037\\n         1.0       0.97      0.99      0.98     21963\\n\\n    accuracy                           0.97     30000\\n   macro avg       0.97      0.95      0.96     30000\\nweighted avg       0.97      0.97      0.97     30000\\n'"
      ]
     },
     "execution_count": 149,
     "metadata": {},
     "output_type": "execute_result"
    }
   ],
   "source": [
    "report"
   ]
  },
  {
   "cell_type": "code",
   "execution_count": 150,
   "metadata": {},
   "outputs": [],
   "source": [
    "cm = confusion_matrix(y_test,y_pred)"
   ]
  },
  {
   "cell_type": "code",
   "execution_count": 151,
   "metadata": {},
   "outputs": [
    {
     "data": {
      "text/plain": [
       "array([[ 7311,   726],\n",
       "       [  193, 21770]], dtype=int64)"
      ]
     },
     "execution_count": 151,
     "metadata": {},
     "output_type": "execute_result"
    }
   ],
   "source": [
    "cm"
   ]
  },
  {
   "cell_type": "code",
   "execution_count": 152,
   "metadata": {},
   "outputs": [],
   "source": [
    "from sklearn.neural_network import MLPClassifier\n",
    "\n",
    "mlp = MLPClassifier()   # neural network"
   ]
  },
  {
   "cell_type": "code",
   "execution_count": 153,
   "metadata": {},
   "outputs": [
    {
     "data": {
      "text/plain": [
       "MLPClassifier(activation='relu', alpha=0.0001, batch_size='auto', beta_1=0.9,\n",
       "              beta_2=0.999, early_stopping=False, epsilon=1e-08,\n",
       "              hidden_layer_sizes=(100,), learning_rate='constant',\n",
       "              learning_rate_init=0.001, max_iter=200, momentum=0.9,\n",
       "              n_iter_no_change=10, nesterovs_momentum=True, power_t=0.5,\n",
       "              random_state=None, shuffle=True, solver='adam', tol=0.0001,\n",
       "              validation_fraction=0.1, verbose=False, warm_start=False)"
      ]
     },
     "execution_count": 153,
     "metadata": {},
     "output_type": "execute_result"
    }
   ],
   "source": [
    "mlp.fit(x_train,y_train)"
   ]
  },
  {
   "cell_type": "code",
   "execution_count": 154,
   "metadata": {},
   "outputs": [
    {
     "data": {
      "text/plain": [
       "0.9894666666666667"
      ]
     },
     "execution_count": 154,
     "metadata": {},
     "output_type": "execute_result"
    }
   ],
   "source": [
    "mlp.score(x_test,y_test)"
   ]
  },
  {
   "cell_type": "code",
   "execution_count": 155,
   "metadata": {},
   "outputs": [
    {
     "name": "stdout",
     "output_type": "stream",
     "text": [
      "Target on train data [0. 1. 1. ... 1. 1. 0.]\n"
     ]
    }
   ],
   "source": [
    "predict_train = mlp.predict(x_train)\n",
    "print('Target on train data',predict_train) "
   ]
  },
  {
   "cell_type": "code",
   "execution_count": 156,
   "metadata": {},
   "outputs": [
    {
     "name": "stdout",
     "output_type": "stream",
     "text": [
      "accuracy_score on train dataset :  0.9894749122909358\n"
     ]
    }
   ],
   "source": [
    "accuracy_train = accuracy_score(y_train,predict_train)\n",
    "print('accuracy_score on train dataset : ', accuracy_train)"
   ]
  },
  {
   "cell_type": "code",
   "execution_count": 157,
   "metadata": {},
   "outputs": [
    {
     "data": {
      "text/plain": [
       "0.9904"
      ]
     },
     "execution_count": 157,
     "metadata": {},
     "output_type": "execute_result"
    }
   ],
   "source": [
    "from sklearn.ensemble import RandomForestClassifier\n",
    "rfc_classifier = RandomForestClassifier(n_estimators = 100, criterion = 'entropy', random_state = 0)  # Random forest\n",
    "rfc_classifier.fit(x_train, y_train)\n",
    "rfc_classifier.score(x_test,y_test)"
   ]
  },
  {
   "cell_type": "code",
   "execution_count": 158,
   "metadata": {},
   "outputs": [
    {
     "name": "stdout",
     "output_type": "stream",
     "text": [
      "Target on train data [0. 1. 1. ... 1. 1. 0.]\n"
     ]
    }
   ],
   "source": [
    "predict_train = rfc_classifier.predict(x_train)\n",
    "print('Target on train data',predict_train) "
   ]
  },
  {
   "cell_type": "code",
   "execution_count": 159,
   "metadata": {},
   "outputs": [
    {
     "name": "stdout",
     "output_type": "stream",
     "text": [
      "accuracy_score on train dataset :  0.9999916665972216\n"
     ]
    }
   ],
   "source": [
    "accuracy_train = accuracy_score(y_train,predict_train)\n",
    "print('accuracy_score on train dataset : ', accuracy_train)"
   ]
  },
  {
   "cell_type": "markdown",
   "metadata": {},
   "source": [
    "# Boosting Alogorithm : Gradient Boosting Algorithm,Xgboost"
   ]
  },
  {
   "cell_type": "code",
   "execution_count": 160,
   "metadata": {},
   "outputs": [],
   "source": [
    "from sklearn.ensemble import GradientBoostingClassifier"
   ]
  },
  {
   "cell_type": "code",
   "execution_count": 161,
   "metadata": {},
   "outputs": [
    {
     "name": "stdout",
     "output_type": "stream",
     "text": [
      "\n",
      "Target on train data [0. 1. 1. ... 1. 1. 0.]\n",
      "\n",
      "accuracy_score on train dataset :  0.9911832598604988\n"
     ]
    }
   ],
   "source": [
    "model = GradientBoostingClassifier()\n",
    "\n",
    "# fit the model with the training data\n",
    "model.fit(x_train,y_train)\n",
    "\n",
    "# predict the target on the train dataset\n",
    "predict_train = model.predict(x_train)\n",
    "print('\\nTarget on train data',predict_train) \n",
    "\n",
    "# Accuray Score on train dataset\n",
    "accuracy_train = accuracy_score(y_train,predict_train)\n",
    "print('\\naccuracy_score on train dataset : ', accuracy_train)\n",
    "\n"
   ]
  },
  {
   "cell_type": "code",
   "execution_count": null,
   "metadata": {},
   "outputs": [],
   "source": [
    "import xgboost as xgb"
   ]
  },
  {
   "cell_type": "code",
   "execution_count": null,
   "metadata": {},
   "outputs": [],
   "source": []
  }
 ],
 "metadata": {
  "kernelspec": {
   "display_name": "Python 3",
   "language": "python",
   "name": "python3"
  },
  "language_info": {
   "codemirror_mode": {
    "name": "ipython",
    "version": 3
   },
   "file_extension": ".py",
   "mimetype": "text/x-python",
   "name": "python",
   "nbconvert_exporter": "python",
   "pygments_lexer": "ipython3",
   "version": "3.7.3"
  }
 },
 "nbformat": 4,
 "nbformat_minor": 2
}
